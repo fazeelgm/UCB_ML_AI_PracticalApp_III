{
 "cells": [
  {
   "cell_type": "markdown",
   "metadata": {},
   "source": [
    "# Practical Application III: Comparing Classifiers - Marketing Campaign Analysis\n",
    "\n",
    "**Overview**: In this practical application, your goal is to compare the performance of the classifiers we encountered in this section, namely K Nearest Neighbor, Logistic Regression, Decision Trees, and Support Vector Machines.  We will utilize a dataset related to marketing bank products over the telephone.  \n",
    "\n"
   ]
  },
  {
   "cell_type": "markdown",
   "metadata": {},
   "source": [
    "### Getting Started\n",
    "\n",
    "Our dataset comes from the UCI Machine Learning repository [link](https://archive.ics.uci.edu/ml/datasets/bank+marketing).  The data is from a Portugese banking institution and is a collection of the results of multiple marketing campaigns.  We will make use of the article accompanying the dataset [here](CRISP-DM-BANK.pdf) for more information on the data and features.\n",
    "\n"
   ]
  },
  {
   "cell_type": "markdown",
   "metadata": {},
   "source": [
    "## Imports & Utilities"
   ]
  },
  {
   "cell_type": "code",
   "execution_count": 4,
   "metadata": {},
   "outputs": [],
   "source": [
    "# CONSTANTS FOR THE PROJECT\n",
    "class Config:\n",
    "    RANDOM_STATE = 42\n",
    "    SUPPRESS_OUTPUT_FILES=False\n",
    "    PAGE_WIDTH = 10\n",
    "    TARGET_COLORS = ('indianred', 'seagreen')\n",
    "    # TARGET_COLORS = ('red', 'green')\n"
   ]
  },
  {
   "cell_type": "code",
   "execution_count": 5,
   "metadata": {},
   "outputs": [],
   "source": [
    "import pandas as pd\n",
    "import numpy as np\n",
    "\n",
    "import matplotlib.pyplot as plt\n",
    "import seaborn as sns\n",
    "\n",
    "import time\n",
    "\n",
    "# Export dataFrame's as images\n",
    "import dataframe_image as dfi\n",
    "\n",
    "from sklearn.preprocessing import StandardScaler, MinMaxScaler, LabelEncoder\n",
    "from sklearn.metrics import accuracy_score, precision_score, f1_score, recall_score, roc_auc_score\n",
    "from sklearn.metrics import classification_report, confusion_matrix, ConfusionMatrixDisplay, roc_curve\n",
    "from sklearn.model_selection import train_test_split, GridSearchCV, cross_val_score\n",
    "from sklearn.dummy import DummyClassifier\n",
    "from sklearn.linear_model import LogisticRegression\n",
    "from sklearn.neighbors import KNeighborsClassifier\n",
    "from sklearn.tree import DecisionTreeClassifier\n",
    "from sklearn.svm import SVC"
   ]
  },
  {
   "cell_type": "code",
   "execution_count": 6,
   "metadata": {},
   "outputs": [],
   "source": [
    "# Configure logging\n",
    "import logging\n",
    "\n",
    "logging.basicConfig(level=logging.INFO, format='%(asctime)s %(levelname)s: %(message)s', datefmt='%I:%M:%S %p')\n",
    "# logging.basicConfig(level=logging.INFO, format='%(asctime)s %(levelname)s: %(message)s', datefmt='%m/%d/%Y %I:%M:%S %p')\n",
    "\n",
    "# Switching logging config requires kernel restart - uncomment the test below to quickly verify settings\n",
    "# logging.info(\"Logging output test\")\n",
    "\n",
    "# logging.getLogger().setLevel(logging.DEBUG)\n",
    "# logging.getLogger().setLevel(logging.INFO)"
   ]
  },
  {
   "cell_type": "code",
   "execution_count": 7,
   "metadata": {},
   "outputs": [],
   "source": [
    "def time_secs_to_msg(lapse_time_secs, mins_label='m', secs_label='s'):\n",
    "    if lapse_time_secs <= 60:\n",
    "        return f'{lapse_time_secs%60:.2f}{secs_label}'\n",
    "    else:\n",
    "        return f'{lapse_time_secs//60:,.0f}{mins_label} {lapse_time_secs%60:.2f}{secs_label}'"
   ]
  },
  {
   "cell_type": "code",
   "execution_count": 8,
   "metadata": {},
   "outputs": [],
   "source": [
    "def build_results_row(name, model, Xtr, Xte, ytr, yte, use_best=False):\n",
    "    \"\"\"\n",
    "    Given the model and training/test sets, builds a row of metrics for reporting the results\n",
    "\n",
    "    :param name: Name/Description of model\n",
    "    :param model: Fully constructed model instance - will call fit() and predict() to get metrics\n",
    "    :param Xtr: X_train - scale before calling\n",
    "    :param Xte: X_test - scale before calling\n",
    "    :param ytr: Y_train set\n",
    "    :param yteL: Y_test set\n",
    "    \"\"\"\n",
    "    \n",
    "    print(f'{name}: Starting', flush=True)\n",
    "    start_time = time.time()\n",
    "\n",
    "    # train the model\n",
    "    clf = model.fit(Xtr, ytr)\n",
    "\n",
    "    # if we're tuning then use best_estimator\n",
    "    if use_best:\n",
    "        clf = model.best_estimator_\n",
    "        logging.debug(f'{name}: Best Model={clf}')\n",
    "        logging.debug(f'{name}: Best Params={model.best_params_}')\n",
    "\n",
    "    # Save fit time\n",
    "    fit_time = time.time() - start_time\n",
    "    logging.debug(f'{name}: Fitted')\n",
    "\n",
    "    # get the predictions / probabilities\n",
    "    y_preds = clf.predict(Xte)\n",
    "    y_probs = clf.predict_proba(Xte)[:, 1]\n",
    "    cm = confusion_matrix(yte, y_preds)\n",
    "    logging.debug(f'{name}: Got preds/probs')\n",
    "\n",
    "    # Get metrics\n",
    "    row = {\n",
    "        'Train Time': time_secs_to_msg(fit_time),\n",
    "        'Train Accuracy': f'{model.score(Xtr, ytr)*100:.2f}%',\n",
    "        'Test Accuracy': f'{model.score(Xte, yte)*100:.2f}%',\n",
    "        'Precision': f'{precision_score(yte, y_preds)*100:.2f}%',\n",
    "        'Recall': f'{recall_score(yte, y_preds)*100:.2f}%',\n",
    "        'F1': f'{f1_score(yte, y_preds)*100:.2f}%',\n",
    "        'AUC': f'{roc_auc_score(yte, y_probs)*100:.2f}%',\n",
    "        'preds': y_preds,\n",
    "        'probs': y_probs,\n",
    "        'cm': cm,\n",
    "        'TN': f'{cm[0, 0]:,d}',\n",
    "        'FP': f'{cm[0, 1]:,d}',\n",
    "        'FN': f'{cm[1, 0]:,d}',\n",
    "        'TP': f'{cm[1, 1]:,d}',\n",
    "        'best_params': None\n",
    "    }\n",
    "    if use_best:\n",
    "        row.update({'best_params': model.best_params_})\n",
    "    logging.debug(f'{name}: Got metrics')\n",
    "    \n",
    "    print(f'{name}: Done: {time_secs_to_msg(time.time()-start_time)}')\n",
    "\n",
    "    return row"
   ]
  },
  {
   "cell_type": "markdown",
   "metadata": {},
   "source": [
    "## Exploratory Data Analysis (EDA)"
   ]
  },
  {
   "cell_type": "markdown",
   "metadata": {},
   "source": [
    "### Problem 1: Understanding the Data\n",
    "\n",
    "To gain a better understanding of the data, please read the information provided in the UCI link above, and examine the **Materials and Methods** section of the paper.  How many marketing campaigns does this data represent?"
   ]
  },
  {
   "cell_type": "markdown",
   "metadata": {},
   "source": [
    "This data is a collection of results from 17 Direct Marketing (DM) phone campaign conducted by a Portugese Bank (Customer) between May 2008 and November 2010, corressponding to 79,354 contacts, who were offered attractive, long-term deposit applications. As you can see below, for each contact, various demographic and bank relationship attributes are provided. A separate column `y` has been provided showing whether the offer was accepted or not, i.e. was the capaign successful or not. We will now explore this data to develop an understanding of it's characteristics so that we can generate machine learning (ML) models to help the Customer optimize their future DM campaigns and improve the likelihood of the campaign offer being accepted. "
   ]
  },
  {
   "cell_type": "markdown",
   "metadata": {},
   "source": [
    "### Problem 2: Read in the Data\n",
    "\n",
    "Use pandas to read in the dataset `bank-additional-full.csv` and assign to a meaningful variable name."
   ]
  },
  {
   "cell_type": "code",
   "execution_count": 13,
   "metadata": {},
   "outputs": [],
   "source": [
    "# orig_df = pd.read_csv('data/bank-additional-full.csv', sep = ';')\n",
    "orig_df = pd.read_csv('data/bank-additional.csv', sep = ';')"
   ]
  },
  {
   "cell_type": "code",
   "execution_count": 14,
   "metadata": {},
   "outputs": [
    {
     "data": {
      "text/html": [
       "<div>\n",
       "<style scoped>\n",
       "    .dataframe tbody tr th:only-of-type {\n",
       "        vertical-align: middle;\n",
       "    }\n",
       "\n",
       "    .dataframe tbody tr th {\n",
       "        vertical-align: top;\n",
       "    }\n",
       "\n",
       "    .dataframe thead th {\n",
       "        text-align: right;\n",
       "    }\n",
       "</style>\n",
       "<table border=\"1\" class=\"dataframe\">\n",
       "  <thead>\n",
       "    <tr style=\"text-align: right;\">\n",
       "      <th></th>\n",
       "      <th>age</th>\n",
       "      <th>job</th>\n",
       "      <th>marital</th>\n",
       "      <th>education</th>\n",
       "      <th>default</th>\n",
       "      <th>housing</th>\n",
       "      <th>loan</th>\n",
       "      <th>contact</th>\n",
       "      <th>month</th>\n",
       "      <th>day_of_week</th>\n",
       "      <th>...</th>\n",
       "      <th>campaign</th>\n",
       "      <th>pdays</th>\n",
       "      <th>previous</th>\n",
       "      <th>poutcome</th>\n",
       "      <th>emp.var.rate</th>\n",
       "      <th>cons.price.idx</th>\n",
       "      <th>cons.conf.idx</th>\n",
       "      <th>euribor3m</th>\n",
       "      <th>nr.employed</th>\n",
       "      <th>y</th>\n",
       "    </tr>\n",
       "  </thead>\n",
       "  <tbody>\n",
       "    <tr>\n",
       "      <th>0</th>\n",
       "      <td>30</td>\n",
       "      <td>blue-collar</td>\n",
       "      <td>married</td>\n",
       "      <td>basic.9y</td>\n",
       "      <td>no</td>\n",
       "      <td>yes</td>\n",
       "      <td>no</td>\n",
       "      <td>cellular</td>\n",
       "      <td>may</td>\n",
       "      <td>fri</td>\n",
       "      <td>...</td>\n",
       "      <td>2</td>\n",
       "      <td>999</td>\n",
       "      <td>0</td>\n",
       "      <td>nonexistent</td>\n",
       "      <td>-1.8</td>\n",
       "      <td>92.893</td>\n",
       "      <td>-46.2</td>\n",
       "      <td>1.313</td>\n",
       "      <td>5099.1</td>\n",
       "      <td>no</td>\n",
       "    </tr>\n",
       "    <tr>\n",
       "      <th>1</th>\n",
       "      <td>39</td>\n",
       "      <td>services</td>\n",
       "      <td>single</td>\n",
       "      <td>high.school</td>\n",
       "      <td>no</td>\n",
       "      <td>no</td>\n",
       "      <td>no</td>\n",
       "      <td>telephone</td>\n",
       "      <td>may</td>\n",
       "      <td>fri</td>\n",
       "      <td>...</td>\n",
       "      <td>4</td>\n",
       "      <td>999</td>\n",
       "      <td>0</td>\n",
       "      <td>nonexistent</td>\n",
       "      <td>1.1</td>\n",
       "      <td>93.994</td>\n",
       "      <td>-36.4</td>\n",
       "      <td>4.855</td>\n",
       "      <td>5191.0</td>\n",
       "      <td>no</td>\n",
       "    </tr>\n",
       "    <tr>\n",
       "      <th>2</th>\n",
       "      <td>25</td>\n",
       "      <td>services</td>\n",
       "      <td>married</td>\n",
       "      <td>high.school</td>\n",
       "      <td>no</td>\n",
       "      <td>yes</td>\n",
       "      <td>no</td>\n",
       "      <td>telephone</td>\n",
       "      <td>jun</td>\n",
       "      <td>wed</td>\n",
       "      <td>...</td>\n",
       "      <td>1</td>\n",
       "      <td>999</td>\n",
       "      <td>0</td>\n",
       "      <td>nonexistent</td>\n",
       "      <td>1.4</td>\n",
       "      <td>94.465</td>\n",
       "      <td>-41.8</td>\n",
       "      <td>4.962</td>\n",
       "      <td>5228.1</td>\n",
       "      <td>no</td>\n",
       "    </tr>\n",
       "    <tr>\n",
       "      <th>3</th>\n",
       "      <td>38</td>\n",
       "      <td>services</td>\n",
       "      <td>married</td>\n",
       "      <td>basic.9y</td>\n",
       "      <td>no</td>\n",
       "      <td>unknown</td>\n",
       "      <td>unknown</td>\n",
       "      <td>telephone</td>\n",
       "      <td>jun</td>\n",
       "      <td>fri</td>\n",
       "      <td>...</td>\n",
       "      <td>3</td>\n",
       "      <td>999</td>\n",
       "      <td>0</td>\n",
       "      <td>nonexistent</td>\n",
       "      <td>1.4</td>\n",
       "      <td>94.465</td>\n",
       "      <td>-41.8</td>\n",
       "      <td>4.959</td>\n",
       "      <td>5228.1</td>\n",
       "      <td>no</td>\n",
       "    </tr>\n",
       "    <tr>\n",
       "      <th>4</th>\n",
       "      <td>47</td>\n",
       "      <td>admin.</td>\n",
       "      <td>married</td>\n",
       "      <td>university.degree</td>\n",
       "      <td>no</td>\n",
       "      <td>yes</td>\n",
       "      <td>no</td>\n",
       "      <td>cellular</td>\n",
       "      <td>nov</td>\n",
       "      <td>mon</td>\n",
       "      <td>...</td>\n",
       "      <td>1</td>\n",
       "      <td>999</td>\n",
       "      <td>0</td>\n",
       "      <td>nonexistent</td>\n",
       "      <td>-0.1</td>\n",
       "      <td>93.200</td>\n",
       "      <td>-42.0</td>\n",
       "      <td>4.191</td>\n",
       "      <td>5195.8</td>\n",
       "      <td>no</td>\n",
       "    </tr>\n",
       "  </tbody>\n",
       "</table>\n",
       "<p>5 rows × 21 columns</p>\n",
       "</div>"
      ],
      "text/plain": [
       "   age          job  marital          education default  housing     loan  \\\n",
       "0   30  blue-collar  married           basic.9y      no      yes       no   \n",
       "1   39     services   single        high.school      no       no       no   \n",
       "2   25     services  married        high.school      no      yes       no   \n",
       "3   38     services  married           basic.9y      no  unknown  unknown   \n",
       "4   47       admin.  married  university.degree      no      yes       no   \n",
       "\n",
       "     contact month day_of_week  ...  campaign  pdays  previous     poutcome  \\\n",
       "0   cellular   may         fri  ...         2    999         0  nonexistent   \n",
       "1  telephone   may         fri  ...         4    999         0  nonexistent   \n",
       "2  telephone   jun         wed  ...         1    999         0  nonexistent   \n",
       "3  telephone   jun         fri  ...         3    999         0  nonexistent   \n",
       "4   cellular   nov         mon  ...         1    999         0  nonexistent   \n",
       "\n",
       "  emp.var.rate  cons.price.idx  cons.conf.idx  euribor3m  nr.employed   y  \n",
       "0         -1.8          92.893          -46.2      1.313       5099.1  no  \n",
       "1          1.1          93.994          -36.4      4.855       5191.0  no  \n",
       "2          1.4          94.465          -41.8      4.962       5228.1  no  \n",
       "3          1.4          94.465          -41.8      4.959       5228.1  no  \n",
       "4         -0.1          93.200          -42.0      4.191       5195.8  no  \n",
       "\n",
       "[5 rows x 21 columns]"
      ]
     },
     "execution_count": 14,
     "metadata": {},
     "output_type": "execute_result"
    }
   ],
   "source": [
    "orig_df.head()"
   ]
  },
  {
   "cell_type": "markdown",
   "metadata": {},
   "source": [
    "### Problem 3: Understanding the Features\n",
    "\n",
    "\n",
    "Examine the data description below, and determine if any of the features are missing values or need to be coerced to a different data type.\n",
    "\n",
    "\n",
    "```\n",
    "Input variables:\n",
    "# bank client data:\n",
    "1 - age (numeric)\n",
    "2 - job : type of job (categorical: 'admin.','blue-collar','entrepreneur','housemaid','management','retired','self-employed','services','student','technician','unemployed','unknown')\n",
    "3 - marital : marital status (categorical: 'divorced','married','single','unknown'; note: 'divorced' means divorced or widowed)\n",
    "4 - education (categorical: 'basic.4y','basic.6y','basic.9y','high.school','illiterate','professional.course','university.degree','unknown')\n",
    "5 - default: has credit in default? (categorical: 'no','yes','unknown')\n",
    "6 - housing: has housing loan? (categorical: 'no','yes','unknown')\n",
    "7 - loan: has personal loan? (categorical: 'no','yes','unknown')\n",
    "# related with the last contact of the current campaign:\n",
    "8 - contact: contact communication type (categorical: 'cellular','telephone')\n",
    "9 - month: last contact month of year (categorical: 'jan', 'feb', 'mar', ..., 'nov', 'dec')\n",
    "10 - day_of_week: last contact day of the week (categorical: 'mon','tue','wed','thu','fri')\n",
    "11 - duration: last contact duration, in seconds (numeric). Important note: this attribute highly affects the output target (e.g., if duration=0 then y='no'). Yet, the duration is not known before a call is performed. Also, after the end of the call y is obviously known. Thus, this input should only be included for benchmark purposes and should be discarded if the intention is to have a realistic predictive model.\n",
    "# other attributes:\n",
    "12 - campaign: number of contacts performed during this campaign and for this client (numeric, includes last contact)\n",
    "13 - pdays: number of days that passed by after the client was last contacted from a previous campaign (numeric; 999 means client was not previously contacted)\n",
    "14 - previous: number of contacts performed before this campaign and for this client (numeric)\n",
    "15 - poutcome: outcome of the previous marketing campaign (categorical: 'failure','nonexistent','success')\n",
    "# social and economic context attributes\n",
    "16 - emp.var.rate: employment variation rate - quarterly indicator (numeric)\n",
    "17 - cons.price.idx: consumer price index - monthly indicator (numeric)\n",
    "18 - cons.conf.idx: consumer confidence index - monthly indicator (numeric)\n",
    "19 - euribor3m: euribor 3 month rate - daily indicator (numeric)\n",
    "20 - nr.employed: number of employees - quarterly indicator (numeric)\n",
    "\n",
    "Output variable (desired target):\n",
    "21 - y - has the client subscribed a term deposit? (binary: 'yes','no')\n",
    "```\n",
    "\n"
   ]
  },
  {
   "cell_type": "code",
   "execution_count": 16,
   "metadata": {},
   "outputs": [
    {
     "name": "stdout",
     "output_type": "stream",
     "text": [
      "<class 'pandas.core.frame.DataFrame'>\n",
      "RangeIndex: 4119 entries, 0 to 4118\n",
      "Data columns (total 21 columns):\n",
      " #   Column          Non-Null Count  Dtype  \n",
      "---  ------          --------------  -----  \n",
      " 0   age             4119 non-null   int64  \n",
      " 1   job             4119 non-null   object \n",
      " 2   marital         4119 non-null   object \n",
      " 3   education       4119 non-null   object \n",
      " 4   default         4119 non-null   object \n",
      " 5   housing         4119 non-null   object \n",
      " 6   loan            4119 non-null   object \n",
      " 7   contact         4119 non-null   object \n",
      " 8   month           4119 non-null   object \n",
      " 9   day_of_week     4119 non-null   object \n",
      " 10  duration        4119 non-null   int64  \n",
      " 11  campaign        4119 non-null   int64  \n",
      " 12  pdays           4119 non-null   int64  \n",
      " 13  previous        4119 non-null   int64  \n",
      " 14  poutcome        4119 non-null   object \n",
      " 15  emp.var.rate    4119 non-null   float64\n",
      " 16  cons.price.idx  4119 non-null   float64\n",
      " 17  cons.conf.idx   4119 non-null   float64\n",
      " 18  euribor3m       4119 non-null   float64\n",
      " 19  nr.employed     4119 non-null   float64\n",
      " 20  y               4119 non-null   object \n",
      "dtypes: float64(5), int64(5), object(11)\n",
      "memory usage: 675.9+ KB\n"
     ]
    }
   ],
   "source": [
    "orig_df.info()"
   ]
  },
  {
   "cell_type": "markdown",
   "metadata": {},
   "source": [
    "### Inspect: Nulls"
   ]
  },
  {
   "cell_type": "code",
   "execution_count": 18,
   "metadata": {},
   "outputs": [
    {
     "name": "stdout",
     "output_type": "stream",
     "text": [
      "COMPLETENESS CHECK: Percent non-null values in each column\n"
     ]
    },
    {
     "data": {
      "text/plain": [
       "age               100.0\n",
       "job               100.0\n",
       "marital           100.0\n",
       "education         100.0\n",
       "default           100.0\n",
       "housing           100.0\n",
       "loan              100.0\n",
       "contact           100.0\n",
       "month             100.0\n",
       "day_of_week       100.0\n",
       "duration          100.0\n",
       "campaign          100.0\n",
       "pdays             100.0\n",
       "previous          100.0\n",
       "poutcome          100.0\n",
       "emp.var.rate      100.0\n",
       "cons.price.idx    100.0\n",
       "cons.conf.idx     100.0\n",
       "euribor3m         100.0\n",
       "nr.employed       100.0\n",
       "y                 100.0\n",
       "dtype: float64"
      ]
     },
     "execution_count": 18,
     "metadata": {},
     "output_type": "execute_result"
    }
   ],
   "source": [
    "print('COMPLETENESS CHECK: Percent non-null values in each column')\n",
    "orig_df.isnull().sum().transform(lambda x: (1 - (x / orig_df.shape[0])) * 100).round(2)"
   ]
  },
  {
   "cell_type": "markdown",
   "metadata": {},
   "source": [
    "No nulls - looking good!"
   ]
  },
  {
   "cell_type": "markdown",
   "metadata": {},
   "source": [
    "### Inspect: Overall Features"
   ]
  },
  {
   "cell_type": "markdown",
   "metadata": {},
   "source": [
    "Let's take a quick look at the feature distributions to see if anything jumps out:"
   ]
  },
  {
   "cell_type": "code",
   "execution_count": 22,
   "metadata": {},
   "outputs": [],
   "source": [
    "categorical_cols = orig_df.select_dtypes(include=['object']).columns\n",
    "numerical_cols = orig_df.select_dtypes(exclude=['object']).columns.tolist()"
   ]
  },
  {
   "cell_type": "code",
   "execution_count": 23,
   "metadata": {},
   "outputs": [
    {
     "name": "stderr",
     "output_type": "stream",
     "text": [
      "02:37:11 PM INFO: Using categorical units to plot a list of strings that are all parsable as floats or dates. If these strings should be plotted as numbers, cast to the appropriate data type before plotting.\n",
      "02:37:11 PM INFO: Using categorical units to plot a list of strings that are all parsable as floats or dates. If these strings should be plotted as numbers, cast to the appropriate data type before plotting.\n",
      "02:37:11 PM INFO: Using categorical units to plot a list of strings that are all parsable as floats or dates. If these strings should be plotted as numbers, cast to the appropriate data type before plotting.\n",
      "02:37:11 PM INFO: Using categorical units to plot a list of strings that are all parsable as floats or dates. If these strings should be plotted as numbers, cast to the appropriate data type before plotting.\n"
     ]
    },
    {
     "data": {
      "image/png": "[encoded data removed]",
      "text/plain": [
       "<Figure size 1000x2000 with 21 Axes>"
      ]
     },
     "metadata": {},
     "output_type": "display_data"
    }
   ],
   "source": [
    "fig, axes = plt.subplots(7,3, figsize=(Config.PAGE_WIDTH, 20))\n",
    "\n",
    "# Flatten axes for easy iteration\n",
    "axes = axes.flatten()\n",
    "\n",
    "# Generate countplots for each categorical feature\n",
    "for i, col in enumerate(categorical_cols):\n",
    "    sns.countplot(ax=axes[i], x=col, data=orig_df, hue='y', palette=Config.TARGET_COLORS)\n",
    "    # axes[i].set_title(f'Countplot of {col}')\n",
    "    # Rotate x-axis labels by 45 degrees\n",
    "    plt.setp(axes[i].get_xticklabels(), rotation=45, ha='right')\n",
    "\n",
    "# Generate histograms for numerical features\n",
    "for j, col in enumerate(numerical_cols, start=len(categorical_cols)):\n",
    "    sns.histplot(orig_df[col], ax=axes[j], kde=True)\n",
    "    # axes[j].set_title(f'Histogram of {col}')\n",
    "\n",
    "# Hide any unused subplots\n",
    "for k in range(len(categorical_cols) + len(numerical_cols), len(axes)):\n",
    "    fig.delaxes(axes[k])\n",
    "\n",
    "plt.suptitle('Overall distribution of Categorical and Numerical Features', y=1.0)\n",
    "\n",
    "# Adjust layout to prevent overlap\n",
    "plt.tight_layout()\n",
    "\n",
    "if not Config.SUPPRESS_OUTPUT_FILES:\n",
    "    plt.savefig('images/feature_distributions.png')\n",
    "\n",
    "plt.show()"
   ]
  },
  {
   "cell_type": "markdown",
   "metadata": {},
   "source": [
    "We don't have any nulls and the overall distributions look reasonable - we can't exclude anything at this stage as it may be relevant for modeling.\n",
    "\n",
    "Some data concerns that we can note for now and may have to come back to them:\n",
    "\n",
    "* `unknown` values for `marital`, `default`, `housing` and `loan` columns: I'm ignoring them for now, but if these features are important during modeling, then we may have to understand the significance of these values. This is specially concerning for `default` cases where the `unknown` value is significant\n",
    "* `pdays` distribution shows that majority of the resepondents were not previously contacted (999), so this may be a red flag for removing this column"
   ]
  },
  {
   "cell_type": "markdown",
   "metadata": {},
   "source": [
    "### Inspect: Target = Campaign Acceptance "
   ]
  },
  {
   "cell_type": "code",
   "execution_count": 26,
   "metadata": {},
   "outputs": [
    {
     "data": {
      "image/png": "[encoded data removed]",
      "text/plain": [
       "<Figure size 600x300 with 1 Axes>"
      ]
     },
     "metadata": {},
     "output_type": "display_data"
    }
   ],
   "source": [
    "# Prep data for Pie chart\n",
    "acceptance_rate_pie = orig_df.groupby('y')['y'].value_counts().rename('Campaign').reset_index()\n",
    "\n",
    "# Calculate overall acceptance rate\n",
    "nayes = acceptance_rate_pie.iloc[0, 1]\n",
    "ayes = acceptance_rate_pie.iloc[1, 1]\n",
    "acceptance_rate = (ayes / orig_df.shape[0]) * 100\n",
    "\n",
    "names = ('Unsuccessful','Successful')\n",
    "plt.rcParams['figure.figsize'] = (6,3)\n",
    "\n",
    "acceptance_rate_pie.plot.pie(y='Campaign',\n",
    "                             autopct='%1.2f%%', labels=names, legend=False,\n",
    "                             colors=Config.TARGET_COLORS, startangle=90)\n",
    "plt.title(f'Overall Campaign Acceptance: {ayes:,d} subscribed out of {orig_df.shape[0]:,d}')\n",
    "\n",
    "if not Config.SUPPRESS_OUTPUT_FILES:\n",
    "    plt.savefig('images/pie-acceptance-overall.png')\n",
    "\n",
    "plt.tight_layout()\n",
    "plt.show()"
   ]
  },
  {
   "cell_type": "markdown",
   "metadata": {},
   "source": [
    "### Inspect: Feature corelations\n",
    "\n",
    "**To understand the feature correlations, I generated the Seaborn ``pairplot`` - it takes time to generate so the saved image is used instead**\n",
    "```\n",
    "sns.pairplot(orig_df, hue='y')\n",
    "\n",
    "if not Config.SUPPRESS_OUTPUT_FILES:\n",
    "    plt.savefig('images/pairplot_raw_features.png')\n",
    "    \n",
    "plt.show()\n",
    "```\n",
    "![](images/pairplot_raw_features.png)"
   ]
  },
  {
   "cell_type": "markdown",
   "metadata": {},
   "source": [
    "### Problem 4: Understanding the Task"
   ]
  },
  {
   "cell_type": "markdown",
   "metadata": {},
   "source": [
    "**Business Objective**\n",
    "\n",
    "This data is a collection of results from 17 Direct Marketing (DM) phone campaign conducted by a Portugese Bank (Customer) between May 2008 and November 2010, corressponding to 79,354 contacts, who were offered attractive, long-term deposit applications. As you can see below, for each contact, various demographic and bank relationship attributes are provided. A separate column `y` has been provided showing whether the offer was accepted or not, i.e. was the capaign successful or not. Our business objective is to help the Customer optimize their DM campagns in the future by predicting the likelihood of the campaign offer being accepted based on this data. "
   ]
  },
  {
   "cell_type": "code",
   "execution_count": 30,
   "metadata": {},
   "outputs": [
    {
     "data": {
      "text/html": [
       "<div>\n",
       "<style scoped>\n",
       "    .dataframe tbody tr th:only-of-type {\n",
       "        vertical-align: middle;\n",
       "    }\n",
       "\n",
       "    .dataframe tbody tr th {\n",
       "        vertical-align: top;\n",
       "    }\n",
       "\n",
       "    .dataframe thead th {\n",
       "        text-align: right;\n",
       "    }\n",
       "</style>\n",
       "<table border=\"1\" class=\"dataframe\">\n",
       "  <thead>\n",
       "    <tr style=\"text-align: right;\">\n",
       "      <th></th>\n",
       "      <th>age</th>\n",
       "      <th>job</th>\n",
       "      <th>marital</th>\n",
       "      <th>education</th>\n",
       "      <th>default</th>\n",
       "      <th>housing</th>\n",
       "      <th>loan</th>\n",
       "      <th>contact</th>\n",
       "      <th>month</th>\n",
       "      <th>day_of_week</th>\n",
       "      <th>...</th>\n",
       "      <th>campaign</th>\n",
       "      <th>pdays</th>\n",
       "      <th>previous</th>\n",
       "      <th>poutcome</th>\n",
       "      <th>emp.var.rate</th>\n",
       "      <th>cons.price.idx</th>\n",
       "      <th>cons.conf.idx</th>\n",
       "      <th>euribor3m</th>\n",
       "      <th>nr.employed</th>\n",
       "      <th>y</th>\n",
       "    </tr>\n",
       "  </thead>\n",
       "  <tbody>\n",
       "    <tr>\n",
       "      <th>0</th>\n",
       "      <td>30</td>\n",
       "      <td>blue-collar</td>\n",
       "      <td>married</td>\n",
       "      <td>basic.9y</td>\n",
       "      <td>no</td>\n",
       "      <td>yes</td>\n",
       "      <td>no</td>\n",
       "      <td>cellular</td>\n",
       "      <td>may</td>\n",
       "      <td>fri</td>\n",
       "      <td>...</td>\n",
       "      <td>2</td>\n",
       "      <td>999</td>\n",
       "      <td>0</td>\n",
       "      <td>nonexistent</td>\n",
       "      <td>-1.8</td>\n",
       "      <td>92.893</td>\n",
       "      <td>-46.2</td>\n",
       "      <td>1.313</td>\n",
       "      <td>5099.1</td>\n",
       "      <td>no</td>\n",
       "    </tr>\n",
       "    <tr>\n",
       "      <th>1</th>\n",
       "      <td>39</td>\n",
       "      <td>services</td>\n",
       "      <td>single</td>\n",
       "      <td>high.school</td>\n",
       "      <td>no</td>\n",
       "      <td>no</td>\n",
       "      <td>no</td>\n",
       "      <td>telephone</td>\n",
       "      <td>may</td>\n",
       "      <td>fri</td>\n",
       "      <td>...</td>\n",
       "      <td>4</td>\n",
       "      <td>999</td>\n",
       "      <td>0</td>\n",
       "      <td>nonexistent</td>\n",
       "      <td>1.1</td>\n",
       "      <td>93.994</td>\n",
       "      <td>-36.4</td>\n",
       "      <td>4.855</td>\n",
       "      <td>5191.0</td>\n",
       "      <td>no</td>\n",
       "    </tr>\n",
       "  </tbody>\n",
       "</table>\n",
       "<p>2 rows × 21 columns</p>\n",
       "</div>"
      ],
      "text/plain": [
       "   age          job  marital    education default housing loan    contact  \\\n",
       "0   30  blue-collar  married     basic.9y      no     yes   no   cellular   \n",
       "1   39     services   single  high.school      no      no   no  telephone   \n",
       "\n",
       "  month day_of_week  ...  campaign  pdays  previous     poutcome emp.var.rate  \\\n",
       "0   may         fri  ...         2    999         0  nonexistent         -1.8   \n",
       "1   may         fri  ...         4    999         0  nonexistent          1.1   \n",
       "\n",
       "   cons.price.idx  cons.conf.idx  euribor3m  nr.employed   y  \n",
       "0          92.893          -46.2      1.313       5099.1  no  \n",
       "1          93.994          -36.4      4.855       5191.0  no  \n",
       "\n",
       "[2 rows x 21 columns]"
      ]
     },
     "execution_count": 30,
     "metadata": {},
     "output_type": "execute_result"
    }
   ],
   "source": [
    "orig_df.head(2)"
   ]
  },
  {
   "cell_type": "markdown",
   "metadata": {},
   "source": [
    "## Data Modeling"
   ]
  },
  {
   "attachments": {},
   "cell_type": "markdown",
   "metadata": {},
   "source": [
    "### Problem 5: Engineering Features\n",
    "\n",
    "Now that we understand our business objective, we will build a basic model to get started.  Before we can do this, we must work to encode the data.  Using just the bank information features, prepare the features and target column for modeling with appropriate encoding and transformations."
   ]
  },
  {
   "cell_type": "markdown",
   "metadata": {},
   "source": [
    "Let's dig a little deeper - first we'll make a copy of the original data and transform it to aid our analysis:"
   ]
  },
  {
   "cell_type": "code",
   "execution_count": 34,
   "metadata": {},
   "outputs": [],
   "source": [
    "encoded_df = orig_df.copy()"
   ]
  },
  {
   "cell_type": "code",
   "execution_count": 35,
   "metadata": {},
   "outputs": [],
   "source": [
    "# Convert categorical variable to numeric data for the models to digest it\n",
    "for col in categorical_cols:\n",
    "    encoded_df[col] = LabelEncoder().fit_transform(encoded_df[col])"
   ]
  },
  {
   "cell_type": "markdown",
   "metadata": {},
   "source": [
    "Let's quickly check to see how our target variable looks against the other feature attributes for any red flags:\n",
    "\n",
    "_To understand the feature correlations, I generated the Seaborn ``pairplot`` - it takes time to generate so the saved image is used instead_\n",
    "```\n",
    "sns.pairplot(encoded_df, hue='y', y_vars='y')\n",
    "\n",
    "if not Config.SUPPRESS_OUTPUT_FILES:\n",
    "    plt.savefig('images/pairplot_raw_encoded_features_vs_y.png')\n",
    "    \n",
    "plt.show()\n",
    "```\n",
    "![](images/pairplot_raw_encoded_features_vs_y.png)"
   ]
  },
  {
   "cell_type": "markdown",
   "metadata": {},
   "source": [
    "Let's look at the correlation among the variables:"
   ]
  },
  {
   "cell_type": "code",
   "execution_count": 38,
   "metadata": {},
   "outputs": [
    {
     "data": {
      "image/png": "[encoded data removed]",
      "text/plain": [
       "<Figure size 600x600 with 2 Axes>"
      ]
     },
     "metadata": {},
     "output_type": "display_data"
    }
   ],
   "source": [
    "plt.figure(figsize=(6,6))\n",
    "sns.heatmap(encoded_df.corr(), annot=False, cmap='Blues')\n",
    "\n",
    "plt.title(f'Heatmap: Correlation Matrix (Target variable $y$)', y=1.0)\n",
    "plt.tight_layout()\n",
    "\n",
    "if not Config.SUPPRESS_OUTPUT_FILES:\n",
    "    plt.savefig('images/heatmap_cmatrix.png')\n",
    "    \n",
    "plt.show()"
   ]
  },
  {
   "cell_type": "markdown",
   "metadata": {},
   "source": [
    "Most of the data seems to have reasonable correlations to the targe `y` variable - too early to eliminate any data till we get preliminary results from our models."
   ]
  },
  {
   "cell_type": "markdown",
   "metadata": {},
   "source": [
    "### Problem 6: Train/Test Split\n",
    "\n",
    "With your data prepared, split it into a train and test set."
   ]
  },
  {
   "cell_type": "code",
   "execution_count": 41,
   "metadata": {},
   "outputs": [],
   "source": [
    "# Create the feature matrices for independnet and target variables\n",
    "\n",
    "X = encoded_df.drop('y', axis='columns')\n",
    "y = encoded_df['y']"
   ]
  },
  {
   "cell_type": "code",
   "execution_count": 42,
   "metadata": {},
   "outputs": [],
   "source": [
    "X_train, X_test, y_train, y_test = train_test_split(X, y, test_size=0.2, \n",
    "                                                    stratify=y, random_state=Config.RANDOM_STATE)"
   ]
  },
  {
   "cell_type": "markdown",
   "metadata": {},
   "source": [
    "### Problem 7: A Baseline Model\n",
    "\n",
    "Before we build our first model, we want to establish a baseline.  What is the baseline performance that our classifier should aim to beat? We will use the Scikit ML Library provided `DummyClassifier` with `strategy='uniform'` that will make _untratined_ predictions with equal probability among the two possible classes: Successful and Unsuccessful, without taking any of the call features into account. "
   ]
  },
  {
   "cell_type": "code",
   "execution_count": 44,
   "metadata": {},
   "outputs": [],
   "source": [
    "logging.getLogger().setLevel(logging.DEBUG)\n",
    "# logging.getLogger().setLevel(logging.INFO)"
   ]
  },
  {
   "cell_type": "code",
   "execution_count": 45,
   "metadata": {},
   "outputs": [
    {
     "name": "stderr",
     "output_type": "stream",
     "text": [
      "02:37:18 PM DEBUG: Scaling data: MinMaxScaler()\n"
     ]
    }
   ],
   "source": [
    "# Scale the data - we'll use StandardScaler for the baseline model\n",
    "# scaler = StandardScaler()\n",
    "scaler = MinMaxScaler()\n",
    "logging.debug(f'Scaling data: {scaler}')\n",
    "\n",
    "X_train_scaled = scaler.fit_transform(X_train)\n",
    "X_test_scaled = scaler.fit_transform(X_test)"
   ]
  },
  {
   "cell_type": "code",
   "execution_count": 46,
   "metadata": {},
   "outputs": [],
   "source": [
    "# let's start saving the results for reporting out\n",
    "results = {}\n",
    "\n",
    "# Reports won't print all the columns\n",
    "report_cols = ['Train Time', 'Train Accuracy', 'Test Accuracy', \n",
    "               'Precision', 'Recall', 'F1', 'AUC', 'TN', 'FP', 'FN', 'TP']\n",
    "report_cols_tuned = ['best_params', 'Train Time', 'Train Accuracy', 'Test Accuracy', \n",
    "                     'Precision', 'Recall', 'F1', 'AUC', 'TN', 'FP', 'FN', 'TP']"
   ]
  },
  {
   "cell_type": "markdown",
   "metadata": {},
   "source": [
    "We are going to use a function `build_results_row` to build individual rows of our Model Report. Please see the Imports & Utililties section above for the source of this function:"
   ]
  },
  {
   "cell_type": "code",
   "execution_count": 48,
   "metadata": {},
   "outputs": [
    {
     "name": "stdout",
     "output_type": "stream",
     "text": [
      "Help on function build_results_row in module __main__:\n",
      "\n",
      "build_results_row(name, model, Xtr, Xte, ytr, yte, use_best=False)\n",
      "    Given the model and training/test sets, builds a row of metrics for reporting the results\n",
      "    \n",
      "    :param name: Name/Description of model\n",
      "    :param model: Fully constructed model instance - will call fit() and predict() to get metrics\n",
      "    :param Xtr: X_train - scale before calling\n",
      "    :param Xte: X_test - scale before calling\n",
      "    :param ytr: Y_train set\n",
      "    :param yteL: Y_test set\n",
      "\n"
     ]
    }
   ],
   "source": [
    "help(build_results_row)"
   ]
  },
  {
   "cell_type": "code",
   "execution_count": 49,
   "metadata": {},
   "outputs": [
    {
     "name": "stdout",
     "output_type": "stream",
     "text": [
      "DummyClassifier: Starting\n"
     ]
    },
    {
     "name": "stderr",
     "output_type": "stream",
     "text": [
      "02:37:18 PM DEBUG: DummyClassifier: Fitted\n",
      "02:37:18 PM DEBUG: DummyClassifier: Got preds/probs\n",
      "02:37:18 PM DEBUG: DummyClassifier: Got metrics\n"
     ]
    },
    {
     "name": "stdout",
     "output_type": "stream",
     "text": [
      "DummyClassifier: Done: 0.03s\n"
     ]
    },
    {
     "data": {
      "text/html": [
       "<div>\n",
       "<style scoped>\n",
       "    .dataframe tbody tr th:only-of-type {\n",
       "        vertical-align: middle;\n",
       "    }\n",
       "\n",
       "    .dataframe tbody tr th {\n",
       "        vertical-align: top;\n",
       "    }\n",
       "\n",
       "    .dataframe thead th {\n",
       "        text-align: right;\n",
       "    }\n",
       "</style>\n",
       "<table border=\"1\" class=\"dataframe\">\n",
       "  <thead>\n",
       "    <tr style=\"text-align: right;\">\n",
       "      <th></th>\n",
       "      <th>Train Time</th>\n",
       "      <th>Train Accuracy</th>\n",
       "      <th>Test Accuracy</th>\n",
       "      <th>Precision</th>\n",
       "      <th>Recall</th>\n",
       "      <th>F1</th>\n",
       "      <th>AUC</th>\n",
       "      <th>TN</th>\n",
       "      <th>FP</th>\n",
       "      <th>FN</th>\n",
       "      <th>TP</th>\n",
       "    </tr>\n",
       "  </thead>\n",
       "  <tbody>\n",
       "    <tr>\n",
       "      <th>DummyClassifier</th>\n",
       "      <td>0.00s</td>\n",
       "      <td>50.68%</td>\n",
       "      <td>52.31%</td>\n",
       "      <td>13.97%</td>\n",
       "      <td>62.22%</td>\n",
       "      <td>22.81%</td>\n",
       "      <td>50.00%</td>\n",
       "      <td>389</td>\n",
       "      <td>345</td>\n",
       "      <td>34</td>\n",
       "      <td>56</td>\n",
       "    </tr>\n",
       "  </tbody>\n",
       "</table>\n",
       "</div>"
      ],
      "text/plain": [
       "                Train Time Train Accuracy Test Accuracy Precision  Recall  \\\n",
       "DummyClassifier      0.00s         50.68%        52.31%    13.97%  62.22%   \n",
       "\n",
       "                     F1     AUC   TN   FP  FN  TP  \n",
       "DummyClassifier  22.81%  50.00%  389  345  34  56  "
      ]
     },
     "execution_count": 49,
     "metadata": {},
     "output_type": "execute_result"
    }
   ],
   "source": [
    "name = 'DummyClassifier'\n",
    "model = DummyClassifier(strategy='uniform')\n",
    "\n",
    "# Get metrics row for the report - will fit() and predict() to generate metrics\n",
    "results[name] = build_results_row(name, model, X_train_scaled, X_test_scaled, y_train, y_test)\n",
    "results_df = pd.DataFrame(results).T\n",
    "\n",
    "results_df.loc[name:][report_cols]"
   ]
  },
  {
   "cell_type": "code",
   "execution_count": 50,
   "metadata": {},
   "outputs": [
    {
     "name": "stdout",
     "output_type": "stream",
     "text": [
      "              precision    recall  f1-score   support\n",
      "\n",
      "Unsuccessful       0.92      0.53      0.67       734\n",
      "  Successful       0.14      0.62      0.23        90\n",
      "\n",
      "    accuracy                           0.54       824\n",
      "   macro avg       0.53      0.58      0.45       824\n",
      "weighted avg       0.83      0.54      0.62       824\n",
      "\n"
     ]
    }
   ],
   "source": [
    "print(classification_report(y_test, results[name]['preds'], target_names=['Unsuccessful', 'Successful']))"
   ]
  },
  {
   "cell_type": "markdown",
   "metadata": {},
   "source": [
    "As expected, the predictions from the DummyClassifier are about as good as a coin toss, and this is the baseline score for our business use case!"
   ]
  },
  {
   "attachments": {},
   "cell_type": "markdown",
   "metadata": {},
   "source": [
    "### Problem 8: A Simple Model\n",
    "\n",
    "Let's try a linear regression model to see if we can do better!"
   ]
  },
  {
   "cell_type": "code",
   "execution_count": 53,
   "metadata": {},
   "outputs": [
    {
     "name": "stdout",
     "output_type": "stream",
     "text": [
      "LogisticRegression: Starting\n"
     ]
    },
    {
     "name": "stderr",
     "output_type": "stream",
     "text": [
      "02:37:18 PM DEBUG: LogisticRegression: Fitted\n",
      "02:37:18 PM DEBUG: LogisticRegression: Got preds/probs\n",
      "02:37:18 PM DEBUG: LogisticRegression: Got metrics\n"
     ]
    },
    {
     "name": "stdout",
     "output_type": "stream",
     "text": [
      "LogisticRegression: Done: 0.09s\n"
     ]
    },
    {
     "data": {
      "text/html": [
       "<div>\n",
       "<style scoped>\n",
       "    .dataframe tbody tr th:only-of-type {\n",
       "        vertical-align: middle;\n",
       "    }\n",
       "\n",
       "    .dataframe tbody tr th {\n",
       "        vertical-align: top;\n",
       "    }\n",
       "\n",
       "    .dataframe thead th {\n",
       "        text-align: right;\n",
       "    }\n",
       "</style>\n",
       "<table border=\"1\" class=\"dataframe\">\n",
       "  <thead>\n",
       "    <tr style=\"text-align: right;\">\n",
       "      <th></th>\n",
       "      <th>Train Time</th>\n",
       "      <th>Train Accuracy</th>\n",
       "      <th>Test Accuracy</th>\n",
       "      <th>Precision</th>\n",
       "      <th>Recall</th>\n",
       "      <th>F1</th>\n",
       "      <th>AUC</th>\n",
       "      <th>TN</th>\n",
       "      <th>FP</th>\n",
       "      <th>FN</th>\n",
       "      <th>TP</th>\n",
       "    </tr>\n",
       "  </thead>\n",
       "  <tbody>\n",
       "    <tr>\n",
       "      <th>LogisticRegression</th>\n",
       "      <td>0.06s</td>\n",
       "      <td>91.29%</td>\n",
       "      <td>90.53%</td>\n",
       "      <td>56.00%</td>\n",
       "      <td>62.22%</td>\n",
       "      <td>58.95%</td>\n",
       "      <td>93.26%</td>\n",
       "      <td>690</td>\n",
       "      <td>44</td>\n",
       "      <td>34</td>\n",
       "      <td>56</td>\n",
       "    </tr>\n",
       "  </tbody>\n",
       "</table>\n",
       "</div>"
      ],
      "text/plain": [
       "                   Train Time Train Accuracy Test Accuracy Precision  Recall  \\\n",
       "LogisticRegression      0.06s         91.29%        90.53%    56.00%  62.22%   \n",
       "\n",
       "                        F1     AUC   TN  FP  FN  TP  \n",
       "LogisticRegression  58.95%  93.26%  690  44  34  56  "
      ]
     },
     "execution_count": 53,
     "metadata": {},
     "output_type": "execute_result"
    }
   ],
   "source": [
    "name = 'LogisticRegression'\n",
    "model = LogisticRegression()\n",
    "\n",
    "# Get metrics row for the report - will fit() and predict() to generate metrics\n",
    "results[name] = build_results_row(name, model, X_train_scaled, X_test_scaled, y_train, y_test)\n",
    "results_df = pd.DataFrame(results).T\n",
    "\n",
    "results_df.loc[name:][report_cols]"
   ]
  },
  {
   "cell_type": "markdown",
   "metadata": {},
   "source": [
    "### Problem 9: Score the Model\n",
    "\n",
    "What is the accuracy of your model?"
   ]
  },
  {
   "cell_type": "code",
   "execution_count": 55,
   "metadata": {},
   "outputs": [
    {
     "name": "stdout",
     "output_type": "stream",
     "text": [
      "LogisticRegression Prediction Accuracy: 90.53%\n"
     ]
    }
   ],
   "source": [
    "print(f'LogisticRegression Prediction Accuracy: {accuracy_score(y_test, results[name][\"preds\"]) * 100 :,.2f}%')"
   ]
  },
  {
   "cell_type": "code",
   "execution_count": 56,
   "metadata": {},
   "outputs": [
    {
     "name": "stdout",
     "output_type": "stream",
     "text": [
      "              precision    recall  f1-score   support\n",
      "\n",
      "Unsuccessful       0.95      0.94      0.95       734\n",
      "  Successful       0.56      0.62      0.59        90\n",
      "\n",
      "    accuracy                           0.91       824\n",
      "   macro avg       0.76      0.78      0.77       824\n",
      "weighted avg       0.91      0.91      0.91       824\n",
      "\n"
     ]
    }
   ],
   "source": [
    "print(classification_report(y_test, results[name]['preds'], target_names=['Unsuccessful', 'Successful']))"
   ]
  },
  {
   "cell_type": "markdown",
   "metadata": {},
   "source": [
    "As we can see, the default `LogisticRegression` did much better out of the gate than the _dumb_ model, 50% vs over 90%! Let's see if we can do better now with more sophisticated models."
   ]
  },
  {
   "cell_type": "markdown",
   "metadata": {},
   "source": [
    "### Problem 10: Model Comparisons\n",
    "\n",
    "Now, we aim to compare the performance of the Logistic Regression model to our KNN algorithm, Decision Tree, and SVM models by using the default settings of the models to fit and score each one."
   ]
  },
  {
   "cell_type": "code",
   "execution_count": 59,
   "metadata": {},
   "outputs": [
    {
     "name": "stdout",
     "output_type": "stream",
     "text": [
      "KNeighborsClassifier: Starting\n"
     ]
    },
    {
     "name": "stderr",
     "output_type": "stream",
     "text": [
      "02:37:19 PM DEBUG: KNeighborsClassifier: Fitted\n",
      "02:37:19 PM DEBUG: KNeighborsClassifier: Got preds/probs\n",
      "02:37:19 PM DEBUG: KNeighborsClassifier: Got metrics\n"
     ]
    },
    {
     "name": "stdout",
     "output_type": "stream",
     "text": [
      "KNeighborsClassifier: Done: 0.40s\n",
      "DecisionTreeClassifier: Starting\n"
     ]
    },
    {
     "name": "stderr",
     "output_type": "stream",
     "text": [
      "02:37:19 PM DEBUG: DecisionTreeClassifier: Fitted\n",
      "02:37:19 PM DEBUG: DecisionTreeClassifier: Got preds/probs\n",
      "02:37:19 PM DEBUG: DecisionTreeClassifier: Got metrics\n"
     ]
    },
    {
     "name": "stdout",
     "output_type": "stream",
     "text": [
      "DecisionTreeClassifier: Done: 0.04s\n",
      "SVC: Starting\n"
     ]
    },
    {
     "name": "stderr",
     "output_type": "stream",
     "text": [
      "02:37:20 PM DEBUG: SVC: Fitted\n",
      "02:37:20 PM DEBUG: SVC: Got preds/probs\n",
      "02:37:21 PM DEBUG: SVC: Got metrics\n"
     ]
    },
    {
     "name": "stdout",
     "output_type": "stream",
     "text": [
      "SVC: Done: 1.52s\n"
     ]
    }
   ],
   "source": [
    "# Define the default models\n",
    "models = {\n",
    "    'KNeighborsClassifier': KNeighborsClassifier(),\n",
    "    'DecisionTreeClassifier': DecisionTreeClassifier(),\n",
    "    'SVC': SVC(probability=True)\n",
    "}\n",
    "\n",
    "for name, model in models.items():\n",
    "    # Get metrics row for the report - will fit() and predict() to generate metrics\n",
    "    results[name] = build_results_row(name, model, X_train_scaled, X_test_scaled, y_train, y_test)"
   ]
  },
  {
   "cell_type": "code",
   "execution_count": 60,
   "metadata": {},
   "outputs": [
    {
     "name": "stderr",
     "output_type": "stream",
     "text": [
      "02:37:24 PM DEBUG: STREAM b'IHDR' 16 13\n",
      "02:37:24 PM DEBUG: STREAM b'iCCP' 41 296\n",
      "02:37:24 PM DEBUG: iCCP profile name b'Skia'\n",
      "02:37:24 PM DEBUG: Compression method 0\n",
      "02:37:24 PM DEBUG: STREAM b'IDAT' 349 8192\n"
     ]
    },
    {
     "data": {
      "text/html": [
       "<div>\n",
       "<style scoped>\n",
       "    .dataframe tbody tr th:only-of-type {\n",
       "        vertical-align: middle;\n",
       "    }\n",
       "\n",
       "    .dataframe tbody tr th {\n",
       "        vertical-align: top;\n",
       "    }\n",
       "\n",
       "    .dataframe thead th {\n",
       "        text-align: right;\n",
       "    }\n",
       "</style>\n",
       "<table border=\"1\" class=\"dataframe\">\n",
       "  <thead>\n",
       "    <tr style=\"text-align: right;\">\n",
       "      <th></th>\n",
       "      <th>Train Time</th>\n",
       "      <th>Train Accuracy</th>\n",
       "      <th>Test Accuracy</th>\n",
       "      <th>Precision</th>\n",
       "      <th>Recall</th>\n",
       "      <th>F1</th>\n",
       "      <th>AUC</th>\n",
       "      <th>TN</th>\n",
       "      <th>FP</th>\n",
       "      <th>FN</th>\n",
       "      <th>TP</th>\n",
       "    </tr>\n",
       "  </thead>\n",
       "  <tbody>\n",
       "    <tr>\n",
       "      <th>SVC</th>\n",
       "      <td>0.99s</td>\n",
       "      <td>90.71%</td>\n",
       "      <td>90.66%</td>\n",
       "      <td>70.97%</td>\n",
       "      <td>24.44%</td>\n",
       "      <td>36.36%</td>\n",
       "      <td>91.64%</td>\n",
       "      <td>725</td>\n",
       "      <td>9</td>\n",
       "      <td>68</td>\n",
       "      <td>22</td>\n",
       "    </tr>\n",
       "    <tr>\n",
       "      <th>LogisticRegression</th>\n",
       "      <td>0.06s</td>\n",
       "      <td>91.29%</td>\n",
       "      <td>90.53%</td>\n",
       "      <td>56.00%</td>\n",
       "      <td>62.22%</td>\n",
       "      <td>58.95%</td>\n",
       "      <td>93.26%</td>\n",
       "      <td>690</td>\n",
       "      <td>44</td>\n",
       "      <td>34</td>\n",
       "      <td>56</td>\n",
       "    </tr>\n",
       "    <tr>\n",
       "      <th>KNeighborsClassifier</th>\n",
       "      <td>0.00s</td>\n",
       "      <td>91.05%</td>\n",
       "      <td>89.56%</td>\n",
       "      <td>57.14%</td>\n",
       "      <td>17.78%</td>\n",
       "      <td>27.12%</td>\n",
       "      <td>73.04%</td>\n",
       "      <td>722</td>\n",
       "      <td>12</td>\n",
       "      <td>74</td>\n",
       "      <td>16</td>\n",
       "    </tr>\n",
       "    <tr>\n",
       "      <th>DecisionTreeClassifier</th>\n",
       "      <td>0.02s</td>\n",
       "      <td>100.00%</td>\n",
       "      <td>78.16%</td>\n",
       "      <td>26.32%</td>\n",
       "      <td>55.56%</td>\n",
       "      <td>35.71%</td>\n",
       "      <td>68.24%</td>\n",
       "      <td>594</td>\n",
       "      <td>140</td>\n",
       "      <td>40</td>\n",
       "      <td>50</td>\n",
       "    </tr>\n",
       "    <tr>\n",
       "      <th>DummyClassifier</th>\n",
       "      <td>0.00s</td>\n",
       "      <td>50.68%</td>\n",
       "      <td>52.31%</td>\n",
       "      <td>13.97%</td>\n",
       "      <td>62.22%</td>\n",
       "      <td>22.81%</td>\n",
       "      <td>50.00%</td>\n",
       "      <td>389</td>\n",
       "      <td>345</td>\n",
       "      <td>34</td>\n",
       "      <td>56</td>\n",
       "    </tr>\n",
       "  </tbody>\n",
       "</table>\n",
       "</div>"
      ],
      "text/plain": [
       "                       Train Time Train Accuracy Test Accuracy Precision  \\\n",
       "SVC                         0.99s         90.71%        90.66%    70.97%   \n",
       "LogisticRegression          0.06s         91.29%        90.53%    56.00%   \n",
       "KNeighborsClassifier        0.00s         91.05%        89.56%    57.14%   \n",
       "DecisionTreeClassifier      0.02s        100.00%        78.16%    26.32%   \n",
       "DummyClassifier             0.00s         50.68%        52.31%    13.97%   \n",
       "\n",
       "                        Recall      F1     AUC   TN   FP  FN  TP  \n",
       "SVC                     24.44%  36.36%  91.64%  725    9  68  22  \n",
       "LogisticRegression      62.22%  58.95%  93.26%  690   44  34  56  \n",
       "KNeighborsClassifier    17.78%  27.12%  73.04%  722   12  74  16  \n",
       "DecisionTreeClassifier  55.56%  35.71%  68.24%  594  140  40  50  \n",
       "DummyClassifier         62.22%  22.81%  50.00%  389  345  34  56  "
      ]
     },
     "execution_count": 60,
     "metadata": {},
     "output_type": "execute_result"
    }
   ],
   "source": [
    "results_defaults_df = pd.DataFrame(results).T.sort_values(by='Test Accuracy', ascending=False)\n",
    "\n",
    "if not Config.SUPPRESS_OUTPUT_FILES:\n",
    "    dfi.export(results_defaults_df[report_cols], 'images/table_models_defaults.png')\n",
    "\n",
    "results_defaults_df[report_cols]"
   ]
  },
  {
   "cell_type": "markdown",
   "metadata": {},
   "source": [
    "We can now compare the results from all our base Models! The best performing model with the highest Test Accuracy Score on the validation data is `SVC`, i.e. after being trained on the training data, how it does against the held-out test dataset in correctly predicting the offer acceptance (both positive and negative) across all calls."
   ]
  },
  {
   "cell_type": "markdown",
   "metadata": {},
   "source": [
    "### Problem 11: Improving the Model\n",
    "\n",
    "Now that we have some basic models on the board, we want to try to improve these.  Below, we list a few things to explore in this pursuit.\n",
    "\n",
    "- More feature engineering and exploration\n",
    "- Hyperparameter tuning and grid search.  All of our models have additional hyperparameters to tune and explore.  For example the number of neighbors in KNN or the maximum depth of a Decision Tree \n",
    "- Adjust our performance metrics"
   ]
  },
  {
   "cell_type": "code",
   "execution_count": 63,
   "metadata": {},
   "outputs": [],
   "source": [
    "# Define the models to be tuned\n",
    "models = {\n",
    "    'LogisticRegression': LogisticRegression(max_iter=1000, class_weight='balanced'),\n",
    "    'KNeighborsClassifier': KNeighborsClassifier(),\n",
    "    'DecisionTreeClassifier': DecisionTreeClassifier(),\n",
    "    'SVC': SVC(probability=True, max_iter=10000)\n",
    "}\n",
    "\n",
    "param_grid = {\n",
    "    'LogisticRegression': {\n",
    "        'C': [0.01, 0.1, 1, 10],\n",
    "        'penalty': ['l1', 'l2'],\n",
    "        'solver': ['liblinear', 'saga'],\n",
    "    },\n",
    "    \n",
    "    'KNeighborsClassifier': {\n",
    "        'n_neighbors': [3, 5, 7, 9, 11],\n",
    "        'weights': ['uniform', 'distance'],\n",
    "        'algorithm': ['auto', 'ball_tree', 'kd_tree', 'brute']\n",
    "    },\n",
    "    \n",
    "    'DecisionTreeClassifier': {\n",
    "        'criterion': ['gini', 'entropy'],\n",
    "        'max_depth': [None, 10, 20, 30],\n",
    "        'min_samples_split': [2, 5, 10],\n",
    "        'min_samples_leaf': [1, 2, 4]\n",
    "    },\n",
    "    \n",
    "    'SVC': {\n",
    "        # 'C': [0.1, 1, 10, 100],\n",
    "        'C': np.logspace(-3, 4, 5),\n",
    "        'kernel': ['linear', 'poly', 'rbf'],\n",
    "        'degree': [1, 3],    # For poly only - 5 didn't win\n",
    "        'gamma': ['scale', 'auto'],\n",
    "    }\n",
    "}"
   ]
  },
  {
   "cell_type": "code",
   "execution_count": 64,
   "metadata": {},
   "outputs": [
    {
     "data": {
      "text/plain": [
       "array([1.00000000e-03, 5.62341325e-02, 3.16227766e+00, 1.77827941e+02,\n",
       "       1.00000000e+04])"
      ]
     },
     "execution_count": 64,
     "metadata": {},
     "output_type": "execute_result"
    }
   ],
   "source": [
    "np.logspace(-3, 4, 5)"
   ]
  },
  {
   "cell_type": "code",
   "execution_count": 65,
   "metadata": {
    "scrolled": true
   },
   "outputs": [
    {
     "name": "stdout",
     "output_type": "stream",
     "text": [
      "LogisticRegression: Starting GridSearchCV optimization (5-fold)\n",
      "LogisticRegression: Starting\n",
      "Fitting 5 folds for each of 16 candidates, totalling 80 fits\n",
      "[CV 1/5] END C=0.01, penalty=l1, solver=liblinear;, score=0.733 total time=   0.0s\n",
      "[CV 2/5] END C=0.01, penalty=l1, solver=liblinear;, score=0.684 total time=   0.0s\n",
      "[CV 3/5] END C=0.01, penalty=l1, solver=liblinear;, score=0.713 total time=   0.0s\n",
      "[CV 4/5] END C=0.01, penalty=l1, solver=liblinear;, score=0.739 total time=   0.0s\n",
      "[CV 5/5] END C=0.01, penalty=l1, solver=liblinear;, score=0.718 total time=   0.0s\n",
      "[CV 1/5] END ...C=0.01, penalty=l1, solver=saga;, score=0.733 total time=   0.1s\n",
      "[CV 2/5] END ...C=0.01, penalty=l1, solver=saga;, score=0.684 total time=   0.0s\n",
      "[CV 3/5] END ...C=0.01, penalty=l1, solver=saga;, score=0.713 total time=   0.0s\n",
      "[CV 4/5] END ...C=0.01, penalty=l1, solver=saga;, score=0.739 total time=   0.0s\n",
      "[CV 5/5] END ...C=0.01, penalty=l1, solver=saga;, score=0.718 total time=   0.0s\n",
      "[CV 1/5] END C=0.01, penalty=l2, solver=liblinear;, score=0.772 total time=   0.0s\n",
      "[CV 2/5] END C=0.01, penalty=l2, solver=liblinear;, score=0.700 total time=   0.0s\n",
      "[CV 3/5] END C=0.01, penalty=l2, solver=liblinear;, score=0.739 total time=   0.0s\n",
      "[CV 4/5] END C=0.01, penalty=l2, solver=liblinear;, score=0.772 total time=   0.0s\n",
      "[CV 5/5] END C=0.01, penalty=l2, solver=liblinear;, score=0.756 total time=   0.0s\n",
      "[CV 1/5] END ...C=0.01, penalty=l2, solver=saga;, score=0.745 total time=   0.0s\n",
      "[CV 2/5] END ...C=0.01, penalty=l2, solver=saga;, score=0.689 total time=   0.0s\n",
      "[CV 3/5] END ...C=0.01, penalty=l2, solver=saga;, score=0.715 total time=   0.0s\n",
      "[CV 4/5] END ...C=0.01, penalty=l2, solver=saga;, score=0.744 total time=   0.0s\n",
      "[CV 5/5] END ...C=0.01, penalty=l2, solver=saga;, score=0.722 total time=   0.0s\n",
      "[CV 1/5] END C=0.1, penalty=l1, solver=liblinear;, score=0.883 total time=   0.1s\n",
      "[CV 2/5] END C=0.1, penalty=l1, solver=liblinear;, score=0.833 total time=   0.0s\n",
      "[CV 3/5] END C=0.1, penalty=l1, solver=liblinear;, score=0.841 total time=   0.0s\n",
      "[CV 4/5] END C=0.1, penalty=l1, solver=liblinear;, score=0.857 total time=   0.1s\n",
      "[CV 5/5] END C=0.1, penalty=l1, solver=liblinear;, score=0.856 total time=   0.0s\n",
      "[CV 1/5] END ....C=0.1, penalty=l1, solver=saga;, score=0.876 total time=   0.0s\n",
      "[CV 2/5] END ....C=0.1, penalty=l1, solver=saga;, score=0.838 total time=   0.0s\n",
      "[CV 3/5] END ....C=0.1, penalty=l1, solver=saga;, score=0.842 total time=   0.0s\n",
      "[CV 4/5] END ....C=0.1, penalty=l1, solver=saga;, score=0.860 total time=   0.0s\n",
      "[CV 5/5] END ....C=0.1, penalty=l1, solver=saga;, score=0.856 total time=   0.0s\n",
      "[CV 1/5] END C=0.1, penalty=l2, solver=liblinear;, score=0.850 total time=   0.0s\n",
      "[CV 2/5] END C=0.1, penalty=l2, solver=liblinear;, score=0.756 total time=   0.0s\n",
      "[CV 3/5] END C=0.1, penalty=l2, solver=liblinear;, score=0.797 total time=   0.0s\n",
      "[CV 4/5] END C=0.1, penalty=l2, solver=liblinear;, score=0.856 total time=   0.0s\n",
      "[CV 5/5] END C=0.1, penalty=l2, solver=liblinear;, score=0.824 total time=   0.0s\n",
      "[CV 1/5] END ....C=0.1, penalty=l2, solver=saga;, score=0.845 total time=   0.0s\n",
      "[CV 2/5] END ....C=0.1, penalty=l2, solver=saga;, score=0.750 total time=   0.0s\n",
      "[CV 3/5] END ....C=0.1, penalty=l2, solver=saga;, score=0.794 total time=   0.0s\n",
      "[CV 4/5] END ....C=0.1, penalty=l2, solver=saga;, score=0.854 total time=   0.0s\n",
      "[CV 5/5] END ....C=0.1, penalty=l2, solver=saga;, score=0.822 total time=   0.0s\n",
      "[CV 1/5] END .C=1, penalty=l1, solver=liblinear;, score=0.880 total time=   0.3s\n",
      "[CV 2/5] END .C=1, penalty=l1, solver=liblinear;, score=0.851 total time=   0.2s\n",
      "[CV 3/5] END .C=1, penalty=l1, solver=liblinear;, score=0.835 total time=   0.3s\n",
      "[CV 4/5] END .C=1, penalty=l1, solver=liblinear;, score=0.863 total time=   0.2s\n",
      "[CV 5/5] END .C=1, penalty=l1, solver=liblinear;, score=0.853 total time=   0.3s\n",
      "[CV 1/5] END ......C=1, penalty=l1, solver=saga;, score=0.883 total time=   0.2s\n",
      "[CV 2/5] END ......C=1, penalty=l1, solver=saga;, score=0.853 total time=   0.2s\n",
      "[CV 3/5] END ......C=1, penalty=l1, solver=saga;, score=0.833 total time=   0.1s\n",
      "[CV 4/5] END ......C=1, penalty=l1, solver=saga;, score=0.866 total time=   0.1s\n",
      "[CV 5/5] END ......C=1, penalty=l1, solver=saga;, score=0.853 total time=   0.1s\n",
      "[CV 1/5] END .C=1, penalty=l2, solver=liblinear;, score=0.882 total time=   0.0s\n",
      "[CV 2/5] END .C=1, penalty=l2, solver=liblinear;, score=0.836 total time=   0.0s\n",
      "[CV 3/5] END .C=1, penalty=l2, solver=liblinear;, score=0.830 total time=   0.0s\n",
      "[CV 4/5] END .C=1, penalty=l2, solver=liblinear;, score=0.866 total time=   0.0s\n",
      "[CV 5/5] END .C=1, penalty=l2, solver=liblinear;, score=0.863 total time=   0.0s\n",
      "[CV 1/5] END ......C=1, penalty=l2, solver=saga;, score=0.880 total time=   0.1s\n",
      "[CV 2/5] END ......C=1, penalty=l2, solver=saga;, score=0.835 total time=   0.1s\n",
      "[CV 3/5] END ......C=1, penalty=l2, solver=saga;, score=0.830 total time=   0.1s\n",
      "[CV 4/5] END ......C=1, penalty=l2, solver=saga;, score=0.866 total time=   0.0s\n",
      "[CV 5/5] END ......C=1, penalty=l2, solver=saga;, score=0.862 total time=   0.0s\n",
      "[CV 1/5] END C=10, penalty=l1, solver=liblinear;, score=0.880 total time=   0.5s\n",
      "[CV 2/5] END C=10, penalty=l1, solver=liblinear;, score=0.850 total time=   0.4s\n",
      "[CV 3/5] END C=10, penalty=l1, solver=liblinear;, score=0.838 total time=   0.4s\n",
      "[CV 4/5] END C=10, penalty=l1, solver=liblinear;, score=0.859 total time=   0.6s\n",
      "[CV 5/5] END C=10, penalty=l1, solver=liblinear;, score=0.853 total time=   0.4s\n",
      "[CV 1/5] END .....C=10, penalty=l1, solver=saga;, score=0.880 total time=   0.1s\n",
      "[CV 2/5] END .....C=10, penalty=l1, solver=saga;, score=0.851 total time=   0.1s\n",
      "[CV 3/5] END .....C=10, penalty=l1, solver=saga;, score=0.838 total time=   0.1s\n",
      "[CV 4/5] END .....C=10, penalty=l1, solver=saga;, score=0.860 total time=   0.1s\n",
      "[CV 5/5] END .....C=10, penalty=l1, solver=saga;, score=0.853 total time=   0.1s\n",
      "[CV 1/5] END C=10, penalty=l2, solver=liblinear;, score=0.882 total time=   0.0s\n",
      "[CV 2/5] END C=10, penalty=l2, solver=liblinear;, score=0.854 total time=   0.0s\n",
      "[CV 3/5] END C=10, penalty=l2, solver=liblinear;, score=0.839 total time=   0.0s\n",
      "[CV 4/5] END C=10, penalty=l2, solver=liblinear;, score=0.859 total time=   0.0s\n",
      "[CV 5/5] END C=10, penalty=l2, solver=liblinear;, score=0.851 total time=   0.0s\n",
      "[CV 1/5] END .....C=10, penalty=l2, solver=saga;, score=0.882 total time=   0.1s\n",
      "[CV 2/5] END .....C=10, penalty=l2, solver=saga;, score=0.854 total time=   0.1s\n",
      "[CV 3/5] END .....C=10, penalty=l2, solver=saga;, score=0.839 total time=   0.1s\n",
      "[CV 4/5] END .....C=10, penalty=l2, solver=saga;, score=0.863 total time=   0.1s\n",
      "[CV 5/5] END .....C=10, penalty=l2, solver=saga;, score=0.851 total time=   0.1s\n"
     ]
    },
    {
     "name": "stderr",
     "output_type": "stream",
     "text": [
      "02:37:31 PM DEBUG: LogisticRegression: Best Model=LogisticRegression(C=10, class_weight='balanced', max_iter=1000, solver='saga')\n",
      "02:37:31 PM DEBUG: LogisticRegression: Best Params={'C': 10, 'penalty': 'l2', 'solver': 'saga'}\n",
      "02:37:31 PM DEBUG: LogisticRegression: Fitted\n",
      "02:37:31 PM DEBUG: LogisticRegression: Got preds/probs\n",
      "02:37:31 PM DEBUG: LogisticRegression: Got metrics\n"
     ]
    },
    {
     "name": "stdout",
     "output_type": "stream",
     "text": [
      "LogisticRegression: Done: 6.81s\n",
      "LogisticRegression: Done GridSearchCV optimization (5-fold)\n",
      "KNeighborsClassifier: Starting GridSearchCV optimization (5-fold)\n",
      "KNeighborsClassifier: Starting\n",
      "Fitting 5 folds for each of 40 candidates, totalling 200 fits\n",
      "[CV 1/5] END algorithm=auto, n_neighbors=3, weights=uniform;, score=0.891 total time=   0.0s\n",
      "[CV 2/5] END algorithm=auto, n_neighbors=3, weights=uniform;, score=0.895 total time=   0.0s\n",
      "[CV 3/5] END algorithm=auto, n_neighbors=3, weights=uniform;, score=0.891 total time=   0.0s\n",
      "[CV 4/5] END algorithm=auto, n_neighbors=3, weights=uniform;, score=0.891 total time=   0.0s\n",
      "[CV 5/5] END algorithm=auto, n_neighbors=3, weights=uniform;, score=0.885 total time=   0.0s\n",
      "[CV 1/5] END algorithm=auto, n_neighbors=3, weights=distance;, score=0.894 total time=   0.0s\n",
      "[CV 2/5] END algorithm=auto, n_neighbors=3, weights=distance;, score=0.894 total time=   0.0s\n",
      "[CV 3/5] END algorithm=auto, n_neighbors=3, weights=distance;, score=0.891 total time=   0.0s\n",
      "[CV 4/5] END algorithm=auto, n_neighbors=3, weights=distance;, score=0.895 total time=   0.0s\n",
      "[CV 5/5] END algorithm=auto, n_neighbors=3, weights=distance;, score=0.882 total time=   0.0s\n",
      "[CV 1/5] END algorithm=auto, n_neighbors=5, weights=uniform;, score=0.894 total time=   0.0s\n",
      "[CV 2/5] END algorithm=auto, n_neighbors=5, weights=uniform;, score=0.894 total time=   0.0s\n",
      "[CV 3/5] END algorithm=auto, n_neighbors=5, weights=uniform;, score=0.888 total time=   0.0s\n",
      "[CV 4/5] END algorithm=auto, n_neighbors=5, weights=uniform;, score=0.903 total time=   0.0s\n",
      "[CV 5/5] END algorithm=auto, n_neighbors=5, weights=uniform;, score=0.891 total time=   0.0s\n",
      "[CV 1/5] END algorithm=auto, n_neighbors=5, weights=distance;, score=0.895 total time=   0.0s\n",
      "[CV 2/5] END algorithm=auto, n_neighbors=5, weights=distance;, score=0.895 total time=   0.0s\n",
      "[CV 3/5] END algorithm=auto, n_neighbors=5, weights=distance;, score=0.886 total time=   0.0s\n",
      "[CV 4/5] END algorithm=auto, n_neighbors=5, weights=distance;, score=0.901 total time=   0.0s\n",
      "[CV 5/5] END algorithm=auto, n_neighbors=5, weights=distance;, score=0.891 total time=   0.0s\n",
      "[CV 1/5] END algorithm=auto, n_neighbors=7, weights=uniform;, score=0.891 total time=   0.0s\n",
      "[CV 2/5] END algorithm=auto, n_neighbors=7, weights=uniform;, score=0.895 total time=   0.0s\n",
      "[CV 3/5] END algorithm=auto, n_neighbors=7, weights=uniform;, score=0.892 total time=   0.0s\n",
      "[CV 4/5] END algorithm=auto, n_neighbors=7, weights=uniform;, score=0.907 total time=   0.0s\n",
      "[CV 5/5] END algorithm=auto, n_neighbors=7, weights=uniform;, score=0.898 total time=   0.0s\n",
      "[CV 1/5] END algorithm=auto, n_neighbors=7, weights=distance;, score=0.895 total time=   0.0s\n",
      "[CV 2/5] END algorithm=auto, n_neighbors=7, weights=distance;, score=0.895 total time=   0.0s\n",
      "[CV 3/5] END algorithm=auto, n_neighbors=7, weights=distance;, score=0.892 total time=   0.0s\n",
      "[CV 4/5] END algorithm=auto, n_neighbors=7, weights=distance;, score=0.909 total time=   0.0s\n",
      "[CV 5/5] END algorithm=auto, n_neighbors=7, weights=distance;, score=0.895 total time=   0.0s\n",
      "[CV 1/5] END algorithm=auto, n_neighbors=9, weights=uniform;, score=0.894 total time=   0.0s\n",
      "[CV 2/5] END algorithm=auto, n_neighbors=9, weights=uniform;, score=0.898 total time=   0.0s\n",
      "[CV 3/5] END algorithm=auto, n_neighbors=9, weights=uniform;, score=0.895 total time=   0.0s\n",
      "[CV 4/5] END algorithm=auto, n_neighbors=9, weights=uniform;, score=0.910 total time=   0.0s\n",
      "[CV 5/5] END algorithm=auto, n_neighbors=9, weights=uniform;, score=0.892 total time=   0.0s\n",
      "[CV 1/5] END algorithm=auto, n_neighbors=9, weights=distance;, score=0.894 total time=   0.0s\n",
      "[CV 2/5] END algorithm=auto, n_neighbors=9, weights=distance;, score=0.895 total time=   0.0s\n",
      "[CV 3/5] END algorithm=auto, n_neighbors=9, weights=distance;, score=0.894 total time=   0.0s\n",
      "[CV 4/5] END algorithm=auto, n_neighbors=9, weights=distance;, score=0.910 total time=   0.0s\n",
      "[CV 5/5] END algorithm=auto, n_neighbors=9, weights=distance;, score=0.892 total time=   0.0s\n",
      "[CV 1/5] END algorithm=auto, n_neighbors=11, weights=uniform;, score=0.894 total time=   0.0s\n",
      "[CV 2/5] END algorithm=auto, n_neighbors=11, weights=uniform;, score=0.904 total time=   0.0s\n",
      "[CV 3/5] END algorithm=auto, n_neighbors=11, weights=uniform;, score=0.892 total time=   0.0s\n",
      "[CV 4/5] END algorithm=auto, n_neighbors=11, weights=uniform;, score=0.914 total time=   0.0s\n",
      "[CV 5/5] END algorithm=auto, n_neighbors=11, weights=uniform;, score=0.891 total time=   0.0s\n",
      "[CV 1/5] END algorithm=auto, n_neighbors=11, weights=distance;, score=0.895 total time=   0.0s\n",
      "[CV 2/5] END algorithm=auto, n_neighbors=11, weights=distance;, score=0.901 total time=   0.0s\n",
      "[CV 3/5] END algorithm=auto, n_neighbors=11, weights=distance;, score=0.895 total time=   0.0s\n",
      "[CV 4/5] END algorithm=auto, n_neighbors=11, weights=distance;, score=0.915 total time=   0.0s\n",
      "[CV 5/5] END algorithm=auto, n_neighbors=11, weights=distance;, score=0.891 total time=   0.0s\n",
      "[CV 1/5] END algorithm=ball_tree, n_neighbors=3, weights=uniform;, score=0.891 total time=   0.1s\n",
      "[CV 2/5] END algorithm=ball_tree, n_neighbors=3, weights=uniform;, score=0.895 total time=   0.2s\n",
      "[CV 3/5] END algorithm=ball_tree, n_neighbors=3, weights=uniform;, score=0.891 total time=   0.1s\n",
      "[CV 4/5] END algorithm=ball_tree, n_neighbors=3, weights=uniform;, score=0.891 total time=   0.1s\n",
      "[CV 5/5] END algorithm=ball_tree, n_neighbors=3, weights=uniform;, score=0.885 total time=   0.2s\n",
      "[CV 1/5] END algorithm=ball_tree, n_neighbors=3, weights=distance;, score=0.894 total time=   0.1s\n",
      "[CV 2/5] END algorithm=ball_tree, n_neighbors=3, weights=distance;, score=0.894 total time=   0.1s\n",
      "[CV 3/5] END algorithm=ball_tree, n_neighbors=3, weights=distance;, score=0.891 total time=   0.1s\n",
      "[CV 4/5] END algorithm=ball_tree, n_neighbors=3, weights=distance;, score=0.895 total time=   0.0s\n",
      "[CV 5/5] END algorithm=ball_tree, n_neighbors=3, weights=distance;, score=0.882 total time=   0.1s\n",
      "[CV 1/5] END algorithm=ball_tree, n_neighbors=5, weights=uniform;, score=0.894 total time=   0.1s\n",
      "[CV 2/5] END algorithm=ball_tree, n_neighbors=5, weights=uniform;, score=0.894 total time=   0.1s\n",
      "[CV 3/5] END algorithm=ball_tree, n_neighbors=5, weights=uniform;, score=0.888 total time=   0.1s\n",
      "[CV 4/5] END algorithm=ball_tree, n_neighbors=5, weights=uniform;, score=0.903 total time=   0.1s\n",
      "[CV 5/5] END algorithm=ball_tree, n_neighbors=5, weights=uniform;, score=0.891 total time=   0.1s\n",
      "[CV 1/5] END algorithm=ball_tree, n_neighbors=5, weights=distance;, score=0.895 total time=   0.0s\n",
      "[CV 2/5] END algorithm=ball_tree, n_neighbors=5, weights=distance;, score=0.895 total time=   0.1s\n",
      "[CV 3/5] END algorithm=ball_tree, n_neighbors=5, weights=distance;, score=0.886 total time=   0.0s\n",
      "[CV 4/5] END algorithm=ball_tree, n_neighbors=5, weights=distance;, score=0.901 total time=   0.1s\n",
      "[CV 5/5] END algorithm=ball_tree, n_neighbors=5, weights=distance;, score=0.891 total time=   0.1s\n",
      "[CV 1/5] END algorithm=ball_tree, n_neighbors=7, weights=uniform;, score=0.891 total time=   0.1s\n",
      "[CV 2/5] END algorithm=ball_tree, n_neighbors=7, weights=uniform;, score=0.895 total time=   0.1s\n",
      "[CV 3/5] END algorithm=ball_tree, n_neighbors=7, weights=uniform;, score=0.892 total time=   0.1s\n",
      "[CV 4/5] END algorithm=ball_tree, n_neighbors=7, weights=uniform;, score=0.907 total time=   0.1s\n",
      "[CV 5/5] END algorithm=ball_tree, n_neighbors=7, weights=uniform;, score=0.898 total time=   0.1s\n",
      "[CV 1/5] END algorithm=ball_tree, n_neighbors=7, weights=distance;, score=0.895 total time=   0.1s\n",
      "[CV 2/5] END algorithm=ball_tree, n_neighbors=7, weights=distance;, score=0.895 total time=   0.1s\n",
      "[CV 3/5] END algorithm=ball_tree, n_neighbors=7, weights=distance;, score=0.892 total time=   0.1s\n",
      "[CV 4/5] END algorithm=ball_tree, n_neighbors=7, weights=distance;, score=0.909 total time=   0.1s\n",
      "[CV 5/5] END algorithm=ball_tree, n_neighbors=7, weights=distance;, score=0.895 total time=   0.1s\n",
      "[CV 1/5] END algorithm=ball_tree, n_neighbors=9, weights=uniform;, score=0.894 total time=   0.1s\n",
      "[CV 2/5] END algorithm=ball_tree, n_neighbors=9, weights=uniform;, score=0.898 total time=   0.1s\n",
      "[CV 3/5] END algorithm=ball_tree, n_neighbors=9, weights=uniform;, score=0.895 total time=   0.1s\n",
      "[CV 4/5] END algorithm=ball_tree, n_neighbors=9, weights=uniform;, score=0.910 total time=   0.1s\n",
      "[CV 5/5] END algorithm=ball_tree, n_neighbors=9, weights=uniform;, score=0.892 total time=   0.1s\n",
      "[CV 1/5] END algorithm=ball_tree, n_neighbors=9, weights=distance;, score=0.894 total time=   0.1s\n",
      "[CV 2/5] END algorithm=ball_tree, n_neighbors=9, weights=distance;, score=0.895 total time=   0.1s\n",
      "[CV 3/5] END algorithm=ball_tree, n_neighbors=9, weights=distance;, score=0.894 total time=   0.1s\n",
      "[CV 4/5] END algorithm=ball_tree, n_neighbors=9, weights=distance;, score=0.910 total time=   0.1s\n",
      "[CV 5/5] END algorithm=ball_tree, n_neighbors=9, weights=distance;, score=0.892 total time=   0.1s\n",
      "[CV 1/5] END algorithm=ball_tree, n_neighbors=11, weights=uniform;, score=0.894 total time=   0.1s\n",
      "[CV 2/5] END algorithm=ball_tree, n_neighbors=11, weights=uniform;, score=0.904 total time=   0.1s\n",
      "[CV 3/5] END algorithm=ball_tree, n_neighbors=11, weights=uniform;, score=0.892 total time=   0.1s\n",
      "[CV 4/5] END algorithm=ball_tree, n_neighbors=11, weights=uniform;, score=0.914 total time=   0.1s\n",
      "[CV 5/5] END algorithm=ball_tree, n_neighbors=11, weights=uniform;, score=0.891 total time=   0.1s\n",
      "[CV 1/5] END algorithm=ball_tree, n_neighbors=11, weights=distance;, score=0.895 total time=   0.1s\n",
      "[CV 2/5] END algorithm=ball_tree, n_neighbors=11, weights=distance;, score=0.901 total time=   0.1s\n",
      "[CV 3/5] END algorithm=ball_tree, n_neighbors=11, weights=distance;, score=0.895 total time=   0.1s\n",
      "[CV 4/5] END algorithm=ball_tree, n_neighbors=11, weights=distance;, score=0.915 total time=   0.1s\n",
      "[CV 5/5] END algorithm=ball_tree, n_neighbors=11, weights=distance;, score=0.891 total time=   0.1s\n",
      "[CV 1/5] END algorithm=kd_tree, n_neighbors=3, weights=uniform;, score=0.891 total time=   0.1s\n",
      "[CV 2/5] END algorithm=kd_tree, n_neighbors=3, weights=uniform;, score=0.895 total time=   0.1s\n",
      "[CV 3/5] END algorithm=kd_tree, n_neighbors=3, weights=uniform;, score=0.891 total time=   0.1s\n",
      "[CV 4/5] END algorithm=kd_tree, n_neighbors=3, weights=uniform;, score=0.891 total time=   0.1s\n",
      "[CV 5/5] END algorithm=kd_tree, n_neighbors=3, weights=uniform;, score=0.885 total time=   0.1s\n",
      "[CV 1/5] END algorithm=kd_tree, n_neighbors=3, weights=distance;, score=0.894 total time=   0.0s\n",
      "[CV 2/5] END algorithm=kd_tree, n_neighbors=3, weights=distance;, score=0.894 total time=   0.0s\n",
      "[CV 3/5] END algorithm=kd_tree, n_neighbors=3, weights=distance;, score=0.891 total time=   0.0s\n",
      "[CV 4/5] END algorithm=kd_tree, n_neighbors=3, weights=distance;, score=0.895 total time=   0.0s\n",
      "[CV 5/5] END algorithm=kd_tree, n_neighbors=3, weights=distance;, score=0.882 total time=   0.0s\n",
      "[CV 1/5] END algorithm=kd_tree, n_neighbors=5, weights=uniform;, score=0.894 total time=   0.1s\n",
      "[CV 2/5] END algorithm=kd_tree, n_neighbors=5, weights=uniform;, score=0.894 total time=   0.1s\n",
      "[CV 3/5] END algorithm=kd_tree, n_neighbors=5, weights=uniform;, score=0.888 total time=   0.1s\n",
      "[CV 4/5] END algorithm=kd_tree, n_neighbors=5, weights=uniform;, score=0.903 total time=   0.1s\n",
      "[CV 5/5] END algorithm=kd_tree, n_neighbors=5, weights=uniform;, score=0.891 total time=   0.1s\n",
      "[CV 1/5] END algorithm=kd_tree, n_neighbors=5, weights=distance;, score=0.895 total time=   0.0s\n",
      "[CV 2/5] END algorithm=kd_tree, n_neighbors=5, weights=distance;, score=0.895 total time=   0.1s\n",
      "[CV 3/5] END algorithm=kd_tree, n_neighbors=5, weights=distance;, score=0.886 total time=   0.0s\n",
      "[CV 4/5] END algorithm=kd_tree, n_neighbors=5, weights=distance;, score=0.901 total time=   0.0s\n",
      "[CV 5/5] END algorithm=kd_tree, n_neighbors=5, weights=distance;, score=0.891 total time=   0.0s\n",
      "[CV 1/5] END algorithm=kd_tree, n_neighbors=7, weights=uniform;, score=0.891 total time=   0.1s\n",
      "[CV 2/5] END algorithm=kd_tree, n_neighbors=7, weights=uniform;, score=0.895 total time=   0.1s\n",
      "[CV 3/5] END algorithm=kd_tree, n_neighbors=7, weights=uniform;, score=0.892 total time=   0.1s\n",
      "[CV 4/5] END algorithm=kd_tree, n_neighbors=7, weights=uniform;, score=0.907 total time=   0.1s\n",
      "[CV 5/5] END algorithm=kd_tree, n_neighbors=7, weights=uniform;, score=0.898 total time=   0.1s\n",
      "[CV 1/5] END algorithm=kd_tree, n_neighbors=7, weights=distance;, score=0.895 total time=   0.1s\n",
      "[CV 2/5] END algorithm=kd_tree, n_neighbors=7, weights=distance;, score=0.895 total time=   0.0s\n",
      "[CV 3/5] END algorithm=kd_tree, n_neighbors=7, weights=distance;, score=0.892 total time=   0.0s\n",
      "[CV 4/5] END algorithm=kd_tree, n_neighbors=7, weights=distance;, score=0.909 total time=   0.0s\n",
      "[CV 5/5] END algorithm=kd_tree, n_neighbors=7, weights=distance;, score=0.895 total time=   0.0s\n",
      "[CV 1/5] END algorithm=kd_tree, n_neighbors=9, weights=uniform;, score=0.894 total time=   0.1s\n",
      "[CV 2/5] END algorithm=kd_tree, n_neighbors=9, weights=uniform;, score=0.898 total time=   0.1s\n",
      "[CV 3/5] END algorithm=kd_tree, n_neighbors=9, weights=uniform;, score=0.895 total time=   0.1s\n",
      "[CV 4/5] END algorithm=kd_tree, n_neighbors=9, weights=uniform;, score=0.910 total time=   0.1s\n",
      "[CV 5/5] END algorithm=kd_tree, n_neighbors=9, weights=uniform;, score=0.892 total time=   0.1s\n",
      "[CV 1/5] END algorithm=kd_tree, n_neighbors=9, weights=distance;, score=0.894 total time=   0.0s\n",
      "[CV 2/5] END algorithm=kd_tree, n_neighbors=9, weights=distance;, score=0.895 total time=   0.1s\n",
      "[CV 3/5] END algorithm=kd_tree, n_neighbors=9, weights=distance;, score=0.894 total time=   0.0s\n",
      "[CV 4/5] END algorithm=kd_tree, n_neighbors=9, weights=distance;, score=0.910 total time=   0.0s\n",
      "[CV 5/5] END algorithm=kd_tree, n_neighbors=9, weights=distance;, score=0.892 total time=   0.0s\n",
      "[CV 1/5] END algorithm=kd_tree, n_neighbors=11, weights=uniform;, score=0.894 total time=   0.1s\n",
      "[CV 2/5] END algorithm=kd_tree, n_neighbors=11, weights=uniform;, score=0.904 total time=   0.2s\n",
      "[CV 3/5] END algorithm=kd_tree, n_neighbors=11, weights=uniform;, score=0.892 total time=   0.1s\n",
      "[CV 4/5] END algorithm=kd_tree, n_neighbors=11, weights=uniform;, score=0.914 total time=   0.1s\n",
      "[CV 5/5] END algorithm=kd_tree, n_neighbors=11, weights=uniform;, score=0.891 total time=   0.1s\n",
      "[CV 1/5] END algorithm=kd_tree, n_neighbors=11, weights=distance;, score=0.895 total time=   0.0s\n",
      "[CV 2/5] END algorithm=kd_tree, n_neighbors=11, weights=distance;, score=0.901 total time=   0.0s\n",
      "[CV 3/5] END algorithm=kd_tree, n_neighbors=11, weights=distance;, score=0.895 total time=   0.1s\n",
      "[CV 4/5] END algorithm=kd_tree, n_neighbors=11, weights=distance;, score=0.915 total time=   0.2s\n",
      "[CV 5/5] END algorithm=kd_tree, n_neighbors=11, weights=distance;, score=0.891 total time=   0.2s\n",
      "[CV 1/5] END algorithm=brute, n_neighbors=3, weights=uniform;, score=0.891 total time=   0.0s\n",
      "[CV 2/5] END algorithm=brute, n_neighbors=3, weights=uniform;, score=0.895 total time=   0.0s\n",
      "[CV 3/5] END algorithm=brute, n_neighbors=3, weights=uniform;, score=0.891 total time=   0.0s\n",
      "[CV 4/5] END algorithm=brute, n_neighbors=3, weights=uniform;, score=0.891 total time=   0.0s\n",
      "[CV 5/5] END algorithm=brute, n_neighbors=3, weights=uniform;, score=0.885 total time=   0.0s\n",
      "[CV 1/5] END algorithm=brute, n_neighbors=3, weights=distance;, score=0.894 total time=   0.0s\n",
      "[CV 2/5] END algorithm=brute, n_neighbors=3, weights=distance;, score=0.894 total time=   0.0s\n",
      "[CV 3/5] END algorithm=brute, n_neighbors=3, weights=distance;, score=0.891 total time=   0.0s\n",
      "[CV 4/5] END algorithm=brute, n_neighbors=3, weights=distance;, score=0.895 total time=   0.0s\n",
      "[CV 5/5] END algorithm=brute, n_neighbors=3, weights=distance;, score=0.882 total time=   0.0s\n",
      "[CV 1/5] END algorithm=brute, n_neighbors=5, weights=uniform;, score=0.894 total time=   0.0s\n",
      "[CV 2/5] END algorithm=brute, n_neighbors=5, weights=uniform;, score=0.894 total time=   0.0s\n",
      "[CV 3/5] END algorithm=brute, n_neighbors=5, weights=uniform;, score=0.888 total time=   0.0s\n",
      "[CV 4/5] END algorithm=brute, n_neighbors=5, weights=uniform;, score=0.903 total time=   0.0s\n",
      "[CV 5/5] END algorithm=brute, n_neighbors=5, weights=uniform;, score=0.891 total time=   0.0s\n",
      "[CV 1/5] END algorithm=brute, n_neighbors=5, weights=distance;, score=0.895 total time=   0.0s\n",
      "[CV 2/5] END algorithm=brute, n_neighbors=5, weights=distance;, score=0.895 total time=   0.0s\n",
      "[CV 3/5] END algorithm=brute, n_neighbors=5, weights=distance;, score=0.886 total time=   0.0s\n",
      "[CV 4/5] END algorithm=brute, n_neighbors=5, weights=distance;, score=0.901 total time=   0.0s\n",
      "[CV 5/5] END algorithm=brute, n_neighbors=5, weights=distance;, score=0.891 total time=   0.0s\n",
      "[CV 1/5] END algorithm=brute, n_neighbors=7, weights=uniform;, score=0.891 total time=   0.0s\n",
      "[CV 2/5] END algorithm=brute, n_neighbors=7, weights=uniform;, score=0.895 total time=   0.0s\n",
      "[CV 3/5] END algorithm=brute, n_neighbors=7, weights=uniform;, score=0.892 total time=   0.0s\n",
      "[CV 4/5] END algorithm=brute, n_neighbors=7, weights=uniform;, score=0.907 total time=   0.0s\n",
      "[CV 5/5] END algorithm=brute, n_neighbors=7, weights=uniform;, score=0.898 total time=   0.0s\n",
      "[CV 1/5] END algorithm=brute, n_neighbors=7, weights=distance;, score=0.895 total time=   0.0s\n",
      "[CV 2/5] END algorithm=brute, n_neighbors=7, weights=distance;, score=0.895 total time=   0.0s\n",
      "[CV 3/5] END algorithm=brute, n_neighbors=7, weights=distance;, score=0.892 total time=   0.0s\n",
      "[CV 4/5] END algorithm=brute, n_neighbors=7, weights=distance;, score=0.909 total time=   0.0s\n",
      "[CV 5/5] END algorithm=brute, n_neighbors=7, weights=distance;, score=0.895 total time=   0.0s\n",
      "[CV 1/5] END algorithm=brute, n_neighbors=9, weights=uniform;, score=0.894 total time=   0.0s\n",
      "[CV 2/5] END algorithm=brute, n_neighbors=9, weights=uniform;, score=0.898 total time=   0.0s\n",
      "[CV 3/5] END algorithm=brute, n_neighbors=9, weights=uniform;, score=0.895 total time=   0.0s\n",
      "[CV 4/5] END algorithm=brute, n_neighbors=9, weights=uniform;, score=0.910 total time=   0.0s\n",
      "[CV 5/5] END algorithm=brute, n_neighbors=9, weights=uniform;, score=0.892 total time=   0.0s\n",
      "[CV 1/5] END algorithm=brute, n_neighbors=9, weights=distance;, score=0.894 total time=   0.0s\n",
      "[CV 2/5] END algorithm=brute, n_neighbors=9, weights=distance;, score=0.895 total time=   0.0s\n",
      "[CV 3/5] END algorithm=brute, n_neighbors=9, weights=distance;, score=0.894 total time=   0.0s\n",
      "[CV 4/5] END algorithm=brute, n_neighbors=9, weights=distance;, score=0.910 total time=   0.0s\n",
      "[CV 5/5] END algorithm=brute, n_neighbors=9, weights=distance;, score=0.892 total time=   0.0s\n",
      "[CV 1/5] END algorithm=brute, n_neighbors=11, weights=uniform;, score=0.894 total time=   0.0s\n",
      "[CV 2/5] END algorithm=brute, n_neighbors=11, weights=uniform;, score=0.904 total time=   0.0s\n",
      "[CV 3/5] END algorithm=brute, n_neighbors=11, weights=uniform;, score=0.892 total time=   0.0s\n",
      "[CV 4/5] END algorithm=brute, n_neighbors=11, weights=uniform;, score=0.914 total time=   0.0s\n",
      "[CV 5/5] END algorithm=brute, n_neighbors=11, weights=uniform;, score=0.891 total time=   0.0s\n",
      "[CV 1/5] END algorithm=brute, n_neighbors=11, weights=distance;, score=0.895 total time=   0.0s\n",
      "[CV 2/5] END algorithm=brute, n_neighbors=11, weights=distance;, score=0.901 total time=   0.0s\n",
      "[CV 3/5] END algorithm=brute, n_neighbors=11, weights=distance;, score=0.895 total time=   0.0s\n",
      "[CV 4/5] END algorithm=brute, n_neighbors=11, weights=distance;, score=0.915 total time=   0.0s\n"
     ]
    },
    {
     "name": "stderr",
     "output_type": "stream",
     "text": [
      "/opt/anaconda3/lib/python3.11/site-packages/numpy/ma/core.py:2820: RuntimeWarning: invalid value encountered in cast\n",
      "  _data = np.array(data, dtype=dtype, copy=copy,\n",
      "02:37:40 PM DEBUG: KNeighborsClassifier: Best Model=KNeighborsClassifier(n_neighbors=11, weights='distance')\n",
      "02:37:40 PM DEBUG: KNeighborsClassifier: Best Params={'algorithm': 'auto', 'n_neighbors': 11, 'weights': 'distance'}\n",
      "02:37:40 PM DEBUG: KNeighborsClassifier: Fitted\n",
      "02:37:41 PM DEBUG: KNeighborsClassifier: Got preds/probs\n",
      "02:37:41 PM DEBUG: KNeighborsClassifier: Got metrics\n"
     ]
    },
    {
     "name": "stdout",
     "output_type": "stream",
     "text": [
      "[CV 5/5] END algorithm=brute, n_neighbors=11, weights=distance;, score=0.891 total time=   0.1s\n",
      "KNeighborsClassifier: Done: 9.35s\n",
      "KNeighborsClassifier: Done GridSearchCV optimization (5-fold)\n",
      "DecisionTreeClassifier: Starting GridSearchCV optimization (5-fold)\n",
      "DecisionTreeClassifier: Starting\n",
      "Fitting 5 folds for each of 72 candidates, totalling 360 fits\n",
      "[CV 1/5] END criterion=gini, max_depth=None, min_samples_leaf=1, min_samples_split=2;, score=0.871 total time=   0.0s\n",
      "[CV 2/5] END criterion=gini, max_depth=None, min_samples_leaf=1, min_samples_split=2;, score=0.900 total time=   0.0s\n",
      "[CV 3/5] END criterion=gini, max_depth=None, min_samples_leaf=1, min_samples_split=2;, score=0.859 total time=   0.0s\n",
      "[CV 4/5] END criterion=gini, max_depth=None, min_samples_leaf=1, min_samples_split=2;, score=0.873 total time=   0.0s\n",
      "[CV 5/5] END criterion=gini, max_depth=None, min_samples_leaf=1, min_samples_split=2;, score=0.897 total time=   0.0s\n",
      "[CV 1/5] END criterion=gini, max_depth=None, min_samples_leaf=1, min_samples_split=5;, score=0.874 total time=   0.0s\n",
      "[CV 2/5] END criterion=gini, max_depth=None, min_samples_leaf=1, min_samples_split=5;, score=0.897 total time=   0.0s\n",
      "[CV 3/5] END criterion=gini, max_depth=None, min_samples_leaf=1, min_samples_split=5;, score=0.879 total time=   0.0s\n",
      "[CV 4/5] END criterion=gini, max_depth=None, min_samples_leaf=1, min_samples_split=5;, score=0.876 total time=   0.0s\n",
      "[CV 5/5] END criterion=gini, max_depth=None, min_samples_leaf=1, min_samples_split=5;, score=0.915 total time=   0.0s\n",
      "[CV 1/5] END criterion=gini, max_depth=None, min_samples_leaf=1, min_samples_split=10;, score=0.882 total time=   0.0s\n",
      "[CV 2/5] END criterion=gini, max_depth=None, min_samples_leaf=1, min_samples_split=10;, score=0.903 total time=   0.0s\n",
      "[CV 3/5] END criterion=gini, max_depth=None, min_samples_leaf=1, min_samples_split=10;, score=0.886 total time=   0.0s\n",
      "[CV 4/5] END criterion=gini, max_depth=None, min_samples_leaf=1, min_samples_split=10;, score=0.874 total time=   0.0s\n",
      "[CV 5/5] END criterion=gini, max_depth=None, min_samples_leaf=1, min_samples_split=10;, score=0.914 total time=   0.0s\n",
      "[CV 1/5] END criterion=gini, max_depth=None, min_samples_leaf=2, min_samples_split=2;, score=0.889 total time=   0.0s\n",
      "[CV 2/5] END criterion=gini, max_depth=None, min_samples_leaf=2, min_samples_split=2;, score=0.883 total time=   0.0s\n",
      "[CV 3/5] END criterion=gini, max_depth=None, min_samples_leaf=2, min_samples_split=2;, score=0.885 total time=   0.0s\n",
      "[CV 4/5] END criterion=gini, max_depth=None, min_samples_leaf=2, min_samples_split=2;, score=0.876 total time=   0.0s\n",
      "[CV 5/5] END criterion=gini, max_depth=None, min_samples_leaf=2, min_samples_split=2;, score=0.909 total time=   0.0s\n",
      "[CV 1/5] END criterion=gini, max_depth=None, min_samples_leaf=2, min_samples_split=5;, score=0.889 total time=   0.0s\n",
      "[CV 2/5] END criterion=gini, max_depth=None, min_samples_leaf=2, min_samples_split=5;, score=0.883 total time=   0.0s\n",
      "[CV 3/5] END criterion=gini, max_depth=None, min_samples_leaf=2, min_samples_split=5;, score=0.882 total time=   0.0s\n",
      "[CV 4/5] END criterion=gini, max_depth=None, min_samples_leaf=2, min_samples_split=5;, score=0.882 total time=   0.0s\n",
      "[CV 5/5] END criterion=gini, max_depth=None, min_samples_leaf=2, min_samples_split=5;, score=0.914 total time=   0.0s\n",
      "[CV 1/5] END criterion=gini, max_depth=None, min_samples_leaf=2, min_samples_split=10;, score=0.891 total time=   0.0s\n",
      "[CV 2/5] END criterion=gini, max_depth=None, min_samples_leaf=2, min_samples_split=10;, score=0.894 total time=   0.0s\n",
      "[CV 3/5] END criterion=gini, max_depth=None, min_samples_leaf=2, min_samples_split=10;, score=0.892 total time=   0.0s\n",
      "[CV 4/5] END criterion=gini, max_depth=None, min_samples_leaf=2, min_samples_split=10;, score=0.880 total time=   0.0s\n",
      "[CV 5/5] END criterion=gini, max_depth=None, min_samples_leaf=2, min_samples_split=10;, score=0.912 total time=   0.0s\n",
      "[CV 1/5] END criterion=gini, max_depth=None, min_samples_leaf=4, min_samples_split=2;, score=0.883 total time=   0.0s\n",
      "[CV 2/5] END criterion=gini, max_depth=None, min_samples_leaf=4, min_samples_split=2;, score=0.903 total time=   0.0s\n",
      "[CV 3/5] END criterion=gini, max_depth=None, min_samples_leaf=4, min_samples_split=2;, score=0.892 total time=   0.0s\n",
      "[CV 4/5] END criterion=gini, max_depth=None, min_samples_leaf=4, min_samples_split=2;, score=0.894 total time=   0.0s\n",
      "[CV 5/5] END criterion=gini, max_depth=None, min_samples_leaf=4, min_samples_split=2;, score=0.906 total time=   0.0s\n",
      "[CV 1/5] END criterion=gini, max_depth=None, min_samples_leaf=4, min_samples_split=5;, score=0.882 total time=   0.0s\n",
      "[CV 2/5] END criterion=gini, max_depth=None, min_samples_leaf=4, min_samples_split=5;, score=0.906 total time=   0.0s\n",
      "[CV 3/5] END criterion=gini, max_depth=None, min_samples_leaf=4, min_samples_split=5;, score=0.886 total time=   0.0s\n",
      "[CV 4/5] END criterion=gini, max_depth=None, min_samples_leaf=4, min_samples_split=5;, score=0.888 total time=   0.0s\n",
      "[CV 5/5] END criterion=gini, max_depth=None, min_samples_leaf=4, min_samples_split=5;, score=0.904 total time=   0.0s\n",
      "[CV 1/5] END criterion=gini, max_depth=None, min_samples_leaf=4, min_samples_split=10;, score=0.883 total time=   0.0s\n",
      "[CV 2/5] END criterion=gini, max_depth=None, min_samples_leaf=4, min_samples_split=10;, score=0.906 total time=   0.0s\n",
      "[CV 3/5] END criterion=gini, max_depth=None, min_samples_leaf=4, min_samples_split=10;, score=0.895 total time=   0.0s\n",
      "[CV 4/5] END criterion=gini, max_depth=None, min_samples_leaf=4, min_samples_split=10;, score=0.882 total time=   0.0s\n",
      "[CV 5/5] END criterion=gini, max_depth=None, min_samples_leaf=4, min_samples_split=10;, score=0.904 total time=   0.0s\n",
      "[CV 1/5] END criterion=gini, max_depth=10, min_samples_leaf=1, min_samples_split=2;, score=0.886 total time=   0.0s\n",
      "[CV 2/5] END criterion=gini, max_depth=10, min_samples_leaf=1, min_samples_split=2;, score=0.901 total time=   0.0s\n",
      "[CV 3/5] END criterion=gini, max_depth=10, min_samples_leaf=1, min_samples_split=2;, score=0.880 total time=   0.0s\n",
      "[CV 4/5] END criterion=gini, max_depth=10, min_samples_leaf=1, min_samples_split=2;, score=0.880 total time=   0.0s\n",
      "[CV 5/5] END criterion=gini, max_depth=10, min_samples_leaf=1, min_samples_split=2;, score=0.906 total time=   0.0s\n",
      "[CV 1/5] END criterion=gini, max_depth=10, min_samples_leaf=1, min_samples_split=5;, score=0.891 total time=   0.0s\n",
      "[CV 2/5] END criterion=gini, max_depth=10, min_samples_leaf=1, min_samples_split=5;, score=0.903 total time=   0.0s\n",
      "[CV 3/5] END criterion=gini, max_depth=10, min_samples_leaf=1, min_samples_split=5;, score=0.882 total time=   0.0s\n",
      "[CV 4/5] END criterion=gini, max_depth=10, min_samples_leaf=1, min_samples_split=5;, score=0.879 total time=   0.0s\n",
      "[CV 5/5] END criterion=gini, max_depth=10, min_samples_leaf=1, min_samples_split=5;, score=0.907 total time=   0.0s\n",
      "[CV 1/5] END criterion=gini, max_depth=10, min_samples_leaf=1, min_samples_split=10;, score=0.886 total time=   0.0s\n",
      "[CV 2/5] END criterion=gini, max_depth=10, min_samples_leaf=1, min_samples_split=10;, score=0.903 total time=   0.0s\n",
      "[CV 3/5] END criterion=gini, max_depth=10, min_samples_leaf=1, min_samples_split=10;, score=0.886 total time=   0.0s\n",
      "[CV 4/5] END criterion=gini, max_depth=10, min_samples_leaf=1, min_samples_split=10;, score=0.876 total time=   0.0s\n",
      "[CV 5/5] END criterion=gini, max_depth=10, min_samples_leaf=1, min_samples_split=10;, score=0.907 total time=   0.0s\n",
      "[CV 1/5] END criterion=gini, max_depth=10, min_samples_leaf=2, min_samples_split=2;, score=0.891 total time=   0.0s\n",
      "[CV 2/5] END criterion=gini, max_depth=10, min_samples_leaf=2, min_samples_split=2;, score=0.892 total time=   0.0s\n",
      "[CV 3/5] END criterion=gini, max_depth=10, min_samples_leaf=2, min_samples_split=2;, score=0.892 total time=   0.0s\n",
      "[CV 4/5] END criterion=gini, max_depth=10, min_samples_leaf=2, min_samples_split=2;, score=0.869 total time=   0.0s\n",
      "[CV 5/5] END criterion=gini, max_depth=10, min_samples_leaf=2, min_samples_split=2;, score=0.900 total time=   0.0s\n",
      "[CV 1/5] END criterion=gini, max_depth=10, min_samples_leaf=2, min_samples_split=5;, score=0.892 total time=   0.0s\n",
      "[CV 2/5] END criterion=gini, max_depth=10, min_samples_leaf=2, min_samples_split=5;, score=0.885 total time=   0.0s\n",
      "[CV 3/5] END criterion=gini, max_depth=10, min_samples_leaf=2, min_samples_split=5;, score=0.889 total time=   0.0s\n",
      "[CV 4/5] END criterion=gini, max_depth=10, min_samples_leaf=2, min_samples_split=5;, score=0.882 total time=   0.0s\n",
      "[CV 5/5] END criterion=gini, max_depth=10, min_samples_leaf=2, min_samples_split=5;, score=0.904 total time=   0.0s\n",
      "[CV 1/5] END criterion=gini, max_depth=10, min_samples_leaf=2, min_samples_split=10;, score=0.891 total time=   0.0s\n",
      "[CV 2/5] END criterion=gini, max_depth=10, min_samples_leaf=2, min_samples_split=10;, score=0.901 total time=   0.0s\n",
      "[CV 3/5] END criterion=gini, max_depth=10, min_samples_leaf=2, min_samples_split=10;, score=0.892 total time=   0.0s\n",
      "[CV 4/5] END criterion=gini, max_depth=10, min_samples_leaf=2, min_samples_split=10;, score=0.883 total time=   0.0s\n",
      "[CV 5/5] END criterion=gini, max_depth=10, min_samples_leaf=2, min_samples_split=10;, score=0.912 total time=   0.0s\n",
      "[CV 1/5] END criterion=gini, max_depth=10, min_samples_leaf=4, min_samples_split=2;, score=0.886 total time=   0.0s\n",
      "[CV 2/5] END criterion=gini, max_depth=10, min_samples_leaf=4, min_samples_split=2;, score=0.897 total time=   0.0s\n",
      "[CV 3/5] END criterion=gini, max_depth=10, min_samples_leaf=4, min_samples_split=2;, score=0.892 total time=   0.0s\n",
      "[CV 4/5] END criterion=gini, max_depth=10, min_samples_leaf=4, min_samples_split=2;, score=0.892 total time=   0.0s\n",
      "[CV 5/5] END criterion=gini, max_depth=10, min_samples_leaf=4, min_samples_split=2;, score=0.892 total time=   0.0s\n",
      "[CV 1/5] END criterion=gini, max_depth=10, min_samples_leaf=4, min_samples_split=5;, score=0.886 total time=   0.0s\n",
      "[CV 2/5] END criterion=gini, max_depth=10, min_samples_leaf=4, min_samples_split=5;, score=0.907 total time=   0.0s\n",
      "[CV 3/5] END criterion=gini, max_depth=10, min_samples_leaf=4, min_samples_split=5;, score=0.894 total time=   0.0s\n",
      "[CV 4/5] END criterion=gini, max_depth=10, min_samples_leaf=4, min_samples_split=5;, score=0.897 total time=   0.0s\n",
      "[CV 5/5] END criterion=gini, max_depth=10, min_samples_leaf=4, min_samples_split=5;, score=0.898 total time=   0.0s\n",
      "[CV 1/5] END criterion=gini, max_depth=10, min_samples_leaf=4, min_samples_split=10;, score=0.883 total time=   0.0s\n",
      "[CV 2/5] END criterion=gini, max_depth=10, min_samples_leaf=4, min_samples_split=10;, score=0.904 total time=   0.0s\n",
      "[CV 3/5] END criterion=gini, max_depth=10, min_samples_leaf=4, min_samples_split=10;, score=0.898 total time=   0.0s\n",
      "[CV 4/5] END criterion=gini, max_depth=10, min_samples_leaf=4, min_samples_split=10;, score=0.883 total time=   0.0s\n",
      "[CV 5/5] END criterion=gini, max_depth=10, min_samples_leaf=4, min_samples_split=10;, score=0.906 total time=   0.0s\n",
      "[CV 1/5] END criterion=gini, max_depth=20, min_samples_leaf=1, min_samples_split=2;, score=0.871 total time=   0.0s\n",
      "[CV 2/5] END criterion=gini, max_depth=20, min_samples_leaf=1, min_samples_split=2;, score=0.888 total time=   0.0s\n",
      "[CV 3/5] END criterion=gini, max_depth=20, min_samples_leaf=1, min_samples_split=2;, score=0.856 total time=   0.0s\n",
      "[CV 4/5] END criterion=gini, max_depth=20, min_samples_leaf=1, min_samples_split=2;, score=0.866 total time=   0.0s\n",
      "[CV 5/5] END criterion=gini, max_depth=20, min_samples_leaf=1, min_samples_split=2;, score=0.895 total time=   0.0s\n",
      "[CV 1/5] END criterion=gini, max_depth=20, min_samples_leaf=1, min_samples_split=5;, score=0.880 total time=   0.0s\n",
      "[CV 2/5] END criterion=gini, max_depth=20, min_samples_leaf=1, min_samples_split=5;, score=0.897 total time=   0.0s\n",
      "[CV 3/5] END criterion=gini, max_depth=20, min_samples_leaf=1, min_samples_split=5;, score=0.879 total time=   0.0s\n",
      "[CV 4/5] END criterion=gini, max_depth=20, min_samples_leaf=1, min_samples_split=5;, score=0.880 total time=   0.0s\n",
      "[CV 5/5] END criterion=gini, max_depth=20, min_samples_leaf=1, min_samples_split=5;, score=0.904 total time=   0.0s\n",
      "[CV 1/5] END criterion=gini, max_depth=20, min_samples_leaf=1, min_samples_split=10;, score=0.882 total time=   0.0s\n",
      "[CV 2/5] END criterion=gini, max_depth=20, min_samples_leaf=1, min_samples_split=10;, score=0.897 total time=   0.0s\n",
      "[CV 3/5] END criterion=gini, max_depth=20, min_samples_leaf=1, min_samples_split=10;, score=0.885 total time=   0.0s\n",
      "[CV 4/5] END criterion=gini, max_depth=20, min_samples_leaf=1, min_samples_split=10;, score=0.877 total time=   0.0s\n",
      "[CV 5/5] END criterion=gini, max_depth=20, min_samples_leaf=1, min_samples_split=10;, score=0.912 total time=   0.0s\n",
      "[CV 1/5] END criterion=gini, max_depth=20, min_samples_leaf=2, min_samples_split=2;, score=0.892 total time=   0.0s\n",
      "[CV 2/5] END criterion=gini, max_depth=20, min_samples_leaf=2, min_samples_split=2;, score=0.876 total time=   0.0s\n",
      "[CV 3/5] END criterion=gini, max_depth=20, min_samples_leaf=2, min_samples_split=2;, score=0.874 total time=   0.0s\n",
      "[CV 4/5] END criterion=gini, max_depth=20, min_samples_leaf=2, min_samples_split=2;, score=0.879 total time=   0.0s\n",
      "[CV 5/5] END criterion=gini, max_depth=20, min_samples_leaf=2, min_samples_split=2;, score=0.903 total time=   0.0s\n",
      "[CV 1/5] END criterion=gini, max_depth=20, min_samples_leaf=2, min_samples_split=5;, score=0.891 total time=   0.0s\n",
      "[CV 2/5] END criterion=gini, max_depth=20, min_samples_leaf=2, min_samples_split=5;, score=0.882 total time=   0.0s\n",
      "[CV 3/5] END criterion=gini, max_depth=20, min_samples_leaf=2, min_samples_split=5;, score=0.886 total time=   0.0s\n",
      "[CV 4/5] END criterion=gini, max_depth=20, min_samples_leaf=2, min_samples_split=5;, score=0.886 total time=   0.0s\n",
      "[CV 5/5] END criterion=gini, max_depth=20, min_samples_leaf=2, min_samples_split=5;, score=0.907 total time=   0.0s\n",
      "[CV 1/5] END criterion=gini, max_depth=20, min_samples_leaf=2, min_samples_split=10;, score=0.888 total time=   0.0s\n",
      "[CV 2/5] END criterion=gini, max_depth=20, min_samples_leaf=2, min_samples_split=10;, score=0.898 total time=   0.0s\n",
      "[CV 3/5] END criterion=gini, max_depth=20, min_samples_leaf=2, min_samples_split=10;, score=0.892 total time=   0.0s\n",
      "[CV 4/5] END criterion=gini, max_depth=20, min_samples_leaf=2, min_samples_split=10;, score=0.879 total time=   0.0s\n",
      "[CV 5/5] END criterion=gini, max_depth=20, min_samples_leaf=2, min_samples_split=10;, score=0.912 total time=   0.0s\n",
      "[CV 1/5] END criterion=gini, max_depth=20, min_samples_leaf=4, min_samples_split=2;, score=0.883 total time=   0.0s\n",
      "[CV 2/5] END criterion=gini, max_depth=20, min_samples_leaf=4, min_samples_split=2;, score=0.904 total time=   0.0s\n",
      "[CV 3/5] END criterion=gini, max_depth=20, min_samples_leaf=4, min_samples_split=2;, score=0.892 total time=   0.0s\n",
      "[CV 4/5] END criterion=gini, max_depth=20, min_samples_leaf=4, min_samples_split=2;, score=0.885 total time=   0.0s\n",
      "[CV 5/5] END criterion=gini, max_depth=20, min_samples_leaf=4, min_samples_split=2;, score=0.900 total time=   0.0s\n",
      "[CV 1/5] END criterion=gini, max_depth=20, min_samples_leaf=4, min_samples_split=5;, score=0.888 total time=   0.0s\n",
      "[CV 2/5] END criterion=gini, max_depth=20, min_samples_leaf=4, min_samples_split=5;, score=0.904 total time=   0.0s\n",
      "[CV 3/5] END criterion=gini, max_depth=20, min_samples_leaf=4, min_samples_split=5;, score=0.888 total time=   0.0s\n",
      "[CV 4/5] END criterion=gini, max_depth=20, min_samples_leaf=4, min_samples_split=5;, score=0.892 total time=   0.0s\n",
      "[CV 5/5] END criterion=gini, max_depth=20, min_samples_leaf=4, min_samples_split=5;, score=0.903 total time=   0.0s\n",
      "[CV 1/5] END criterion=gini, max_depth=20, min_samples_leaf=4, min_samples_split=10;, score=0.880 total time=   0.0s\n",
      "[CV 2/5] END criterion=gini, max_depth=20, min_samples_leaf=4, min_samples_split=10;, score=0.903 total time=   0.0s\n",
      "[CV 3/5] END criterion=gini, max_depth=20, min_samples_leaf=4, min_samples_split=10;, score=0.897 total time=   0.1s\n",
      "[CV 4/5] END criterion=gini, max_depth=20, min_samples_leaf=4, min_samples_split=10;, score=0.883 total time=   0.1s\n",
      "[CV 5/5] END criterion=gini, max_depth=20, min_samples_leaf=4, min_samples_split=10;, score=0.909 total time=   0.2s\n",
      "[CV 1/5] END criterion=gini, max_depth=30, min_samples_leaf=1, min_samples_split=2;, score=0.876 total time=   0.0s\n",
      "[CV 2/5] END criterion=gini, max_depth=30, min_samples_leaf=1, min_samples_split=2;, score=0.894 total time=   0.0s\n",
      "[CV 3/5] END criterion=gini, max_depth=30, min_samples_leaf=1, min_samples_split=2;, score=0.859 total time=   0.0s\n",
      "[CV 4/5] END criterion=gini, max_depth=30, min_samples_leaf=1, min_samples_split=2;, score=0.877 total time=   0.0s\n",
      "[CV 5/5] END criterion=gini, max_depth=30, min_samples_leaf=1, min_samples_split=2;, score=0.900 total time=   0.0s\n",
      "[CV 1/5] END criterion=gini, max_depth=30, min_samples_leaf=1, min_samples_split=5;, score=0.876 total time=   0.0s\n",
      "[CV 2/5] END criterion=gini, max_depth=30, min_samples_leaf=1, min_samples_split=5;, score=0.903 total time=   0.0s\n",
      "[CV 3/5] END criterion=gini, max_depth=30, min_samples_leaf=1, min_samples_split=5;, score=0.874 total time=   0.0s\n",
      "[CV 4/5] END criterion=gini, max_depth=30, min_samples_leaf=1, min_samples_split=5;, score=0.874 total time=   0.0s\n",
      "[CV 5/5] END criterion=gini, max_depth=30, min_samples_leaf=1, min_samples_split=5;, score=0.914 total time=   0.0s\n",
      "[CV 1/5] END criterion=gini, max_depth=30, min_samples_leaf=1, min_samples_split=10;, score=0.883 total time=   0.0s\n",
      "[CV 2/5] END criterion=gini, max_depth=30, min_samples_leaf=1, min_samples_split=10;, score=0.900 total time=   0.0s\n",
      "[CV 3/5] END criterion=gini, max_depth=30, min_samples_leaf=1, min_samples_split=10;, score=0.886 total time=   0.0s\n",
      "[CV 4/5] END criterion=gini, max_depth=30, min_samples_leaf=1, min_samples_split=10;, score=0.874 total time=   0.0s\n",
      "[CV 5/5] END criterion=gini, max_depth=30, min_samples_leaf=1, min_samples_split=10;, score=0.915 total time=   0.0s\n",
      "[CV 1/5] END criterion=gini, max_depth=30, min_samples_leaf=2, min_samples_split=2;, score=0.888 total time=   0.0s\n",
      "[CV 2/5] END criterion=gini, max_depth=30, min_samples_leaf=2, min_samples_split=2;, score=0.882 total time=   0.0s\n",
      "[CV 3/5] END criterion=gini, max_depth=30, min_samples_leaf=2, min_samples_split=2;, score=0.883 total time=   0.0s\n",
      "[CV 4/5] END criterion=gini, max_depth=30, min_samples_leaf=2, min_samples_split=2;, score=0.871 total time=   0.0s\n",
      "[CV 5/5] END criterion=gini, max_depth=30, min_samples_leaf=2, min_samples_split=2;, score=0.907 total time=   0.0s\n",
      "[CV 1/5] END criterion=gini, max_depth=30, min_samples_leaf=2, min_samples_split=5;, score=0.888 total time=   0.0s\n",
      "[CV 2/5] END criterion=gini, max_depth=30, min_samples_leaf=2, min_samples_split=5;, score=0.886 total time=   0.0s\n",
      "[CV 3/5] END criterion=gini, max_depth=30, min_samples_leaf=2, min_samples_split=5;, score=0.891 total time=   0.0s\n",
      "[CV 4/5] END criterion=gini, max_depth=30, min_samples_leaf=2, min_samples_split=5;, score=0.888 total time=   0.0s\n",
      "[CV 5/5] END criterion=gini, max_depth=30, min_samples_leaf=2, min_samples_split=5;, score=0.912 total time=   0.0s\n",
      "[CV 1/5] END criterion=gini, max_depth=30, min_samples_leaf=2, min_samples_split=10;, score=0.889 total time=   0.0s\n",
      "[CV 2/5] END criterion=gini, max_depth=30, min_samples_leaf=2, min_samples_split=10;, score=0.901 total time=   0.0s\n",
      "[CV 3/5] END criterion=gini, max_depth=30, min_samples_leaf=2, min_samples_split=10;, score=0.891 total time=   0.0s\n",
      "[CV 4/5] END criterion=gini, max_depth=30, min_samples_leaf=2, min_samples_split=10;, score=0.877 total time=   0.0s\n",
      "[CV 5/5] END criterion=gini, max_depth=30, min_samples_leaf=2, min_samples_split=10;, score=0.915 total time=   0.0s\n",
      "[CV 1/5] END criterion=gini, max_depth=30, min_samples_leaf=4, min_samples_split=2;, score=0.885 total time=   0.0s\n",
      "[CV 2/5] END criterion=gini, max_depth=30, min_samples_leaf=4, min_samples_split=2;, score=0.906 total time=   0.0s\n",
      "[CV 3/5] END criterion=gini, max_depth=30, min_samples_leaf=4, min_samples_split=2;, score=0.891 total time=   0.0s\n",
      "[CV 4/5] END criterion=gini, max_depth=30, min_samples_leaf=4, min_samples_split=2;, score=0.892 total time=   0.0s\n",
      "[CV 5/5] END criterion=gini, max_depth=30, min_samples_leaf=4, min_samples_split=2;, score=0.903 total time=   0.0s\n",
      "[CV 1/5] END criterion=gini, max_depth=30, min_samples_leaf=4, min_samples_split=5;, score=0.885 total time=   0.0s\n",
      "[CV 2/5] END criterion=gini, max_depth=30, min_samples_leaf=4, min_samples_split=5;, score=0.901 total time=   0.0s\n",
      "[CV 3/5] END criterion=gini, max_depth=30, min_samples_leaf=4, min_samples_split=5;, score=0.889 total time=   0.0s\n",
      "[CV 4/5] END criterion=gini, max_depth=30, min_samples_leaf=4, min_samples_split=5;, score=0.898 total time=   0.0s\n",
      "[CV 5/5] END criterion=gini, max_depth=30, min_samples_leaf=4, min_samples_split=5;, score=0.906 total time=   0.0s\n",
      "[CV 1/5] END criterion=gini, max_depth=30, min_samples_leaf=4, min_samples_split=10;, score=0.880 total time=   0.0s\n",
      "[CV 2/5] END criterion=gini, max_depth=30, min_samples_leaf=4, min_samples_split=10;, score=0.906 total time=   0.0s\n",
      "[CV 3/5] END criterion=gini, max_depth=30, min_samples_leaf=4, min_samples_split=10;, score=0.897 total time=   0.0s\n",
      "[CV 4/5] END criterion=gini, max_depth=30, min_samples_leaf=4, min_samples_split=10;, score=0.889 total time=   0.0s\n",
      "[CV 5/5] END criterion=gini, max_depth=30, min_samples_leaf=4, min_samples_split=10;, score=0.906 total time=   0.0s\n",
      "[CV 1/5] END criterion=entropy, max_depth=None, min_samples_leaf=1, min_samples_split=2;, score=0.888 total time=   0.0s\n",
      "[CV 2/5] END criterion=entropy, max_depth=None, min_samples_leaf=1, min_samples_split=2;, score=0.882 total time=   0.0s\n",
      "[CV 3/5] END criterion=entropy, max_depth=None, min_samples_leaf=1, min_samples_split=2;, score=0.869 total time=   0.0s\n",
      "[CV 4/5] END criterion=entropy, max_depth=None, min_samples_leaf=1, min_samples_split=2;, score=0.868 total time=   0.0s\n",
      "[CV 5/5] END criterion=entropy, max_depth=None, min_samples_leaf=1, min_samples_split=2;, score=0.906 total time=   0.0s\n",
      "[CV 1/5] END criterion=entropy, max_depth=None, min_samples_leaf=1, min_samples_split=5;, score=0.892 total time=   0.0s\n",
      "[CV 2/5] END criterion=entropy, max_depth=None, min_samples_leaf=1, min_samples_split=5;, score=0.879 total time=   0.0s\n",
      "[CV 3/5] END criterion=entropy, max_depth=None, min_samples_leaf=1, min_samples_split=5;, score=0.863 total time=   0.0s\n",
      "[CV 4/5] END criterion=entropy, max_depth=None, min_samples_leaf=1, min_samples_split=5;, score=0.880 total time=   0.0s\n",
      "[CV 5/5] END criterion=entropy, max_depth=None, min_samples_leaf=1, min_samples_split=5;, score=0.907 total time=   0.0s\n",
      "[CV 1/5] END criterion=entropy, max_depth=None, min_samples_leaf=1, min_samples_split=10;, score=0.907 total time=   0.0s\n",
      "[CV 2/5] END criterion=entropy, max_depth=None, min_samples_leaf=1, min_samples_split=10;, score=0.889 total time=   0.0s\n",
      "[CV 3/5] END criterion=entropy, max_depth=None, min_samples_leaf=1, min_samples_split=10;, score=0.885 total time=   0.0s\n",
      "[CV 4/5] END criterion=entropy, max_depth=None, min_samples_leaf=1, min_samples_split=10;, score=0.879 total time=   0.0s\n",
      "[CV 5/5] END criterion=entropy, max_depth=None, min_samples_leaf=1, min_samples_split=10;, score=0.909 total time=   0.0s\n",
      "[CV 1/5] END criterion=entropy, max_depth=None, min_samples_leaf=2, min_samples_split=2;, score=0.895 total time=   0.0s\n",
      "[CV 2/5] END criterion=entropy, max_depth=None, min_samples_leaf=2, min_samples_split=2;, score=0.879 total time=   0.0s\n",
      "[CV 3/5] END criterion=entropy, max_depth=None, min_samples_leaf=2, min_samples_split=2;, score=0.880 total time=   0.0s\n",
      "[CV 4/5] END criterion=entropy, max_depth=None, min_samples_leaf=2, min_samples_split=2;, score=0.886 total time=   0.0s\n",
      "[CV 5/5] END criterion=entropy, max_depth=None, min_samples_leaf=2, min_samples_split=2;, score=0.903 total time=   0.0s\n",
      "[CV 1/5] END criterion=entropy, max_depth=None, min_samples_leaf=2, min_samples_split=5;, score=0.892 total time=   0.0s\n",
      "[CV 2/5] END criterion=entropy, max_depth=None, min_samples_leaf=2, min_samples_split=5;, score=0.891 total time=   0.0s\n",
      "[CV 3/5] END criterion=entropy, max_depth=None, min_samples_leaf=2, min_samples_split=5;, score=0.876 total time=   0.0s\n",
      "[CV 4/5] END criterion=entropy, max_depth=None, min_samples_leaf=2, min_samples_split=5;, score=0.885 total time=   0.0s\n",
      "[CV 5/5] END criterion=entropy, max_depth=None, min_samples_leaf=2, min_samples_split=5;, score=0.897 total time=   0.0s\n",
      "[CV 1/5] END criterion=entropy, max_depth=None, min_samples_leaf=2, min_samples_split=10;, score=0.900 total time=   0.0s\n",
      "[CV 2/5] END criterion=entropy, max_depth=None, min_samples_leaf=2, min_samples_split=10;, score=0.888 total time=   0.0s\n",
      "[CV 3/5] END criterion=entropy, max_depth=None, min_samples_leaf=2, min_samples_split=10;, score=0.889 total time=   0.0s\n",
      "[CV 4/5] END criterion=entropy, max_depth=None, min_samples_leaf=2, min_samples_split=10;, score=0.885 total time=   0.0s\n",
      "[CV 5/5] END criterion=entropy, max_depth=None, min_samples_leaf=2, min_samples_split=10;, score=0.910 total time=   0.0s\n",
      "[CV 1/5] END criterion=entropy, max_depth=None, min_samples_leaf=4, min_samples_split=2;, score=0.894 total time=   0.0s\n",
      "[CV 2/5] END criterion=entropy, max_depth=None, min_samples_leaf=4, min_samples_split=2;, score=0.889 total time=   0.0s\n",
      "[CV 3/5] END criterion=entropy, max_depth=None, min_samples_leaf=4, min_samples_split=2;, score=0.892 total time=   0.0s\n",
      "[CV 4/5] END criterion=entropy, max_depth=None, min_samples_leaf=4, min_samples_split=2;, score=0.900 total time=   0.0s\n",
      "[CV 5/5] END criterion=entropy, max_depth=None, min_samples_leaf=4, min_samples_split=2;, score=0.904 total time=   0.0s\n",
      "[CV 1/5] END criterion=entropy, max_depth=None, min_samples_leaf=4, min_samples_split=5;, score=0.891 total time=   0.0s\n",
      "[CV 2/5] END criterion=entropy, max_depth=None, min_samples_leaf=4, min_samples_split=5;, score=0.885 total time=   0.0s\n",
      "[CV 3/5] END criterion=entropy, max_depth=None, min_samples_leaf=4, min_samples_split=5;, score=0.891 total time=   0.0s\n",
      "[CV 4/5] END criterion=entropy, max_depth=None, min_samples_leaf=4, min_samples_split=5;, score=0.892 total time=   0.0s\n",
      "[CV 5/5] END criterion=entropy, max_depth=None, min_samples_leaf=4, min_samples_split=5;, score=0.907 total time=   0.0s\n",
      "[CV 1/5] END criterion=entropy, max_depth=None, min_samples_leaf=4, min_samples_split=10;, score=0.900 total time=   0.1s\n",
      "[CV 2/5] END criterion=entropy, max_depth=None, min_samples_leaf=4, min_samples_split=10;, score=0.885 total time=   0.1s\n",
      "[CV 3/5] END criterion=entropy, max_depth=None, min_samples_leaf=4, min_samples_split=10;, score=0.885 total time=   0.0s\n",
      "[CV 4/5] END criterion=entropy, max_depth=None, min_samples_leaf=4, min_samples_split=10;, score=0.897 total time=   0.0s\n",
      "[CV 5/5] END criterion=entropy, max_depth=None, min_samples_leaf=4, min_samples_split=10;, score=0.907 total time=   0.0s\n",
      "[CV 1/5] END criterion=entropy, max_depth=10, min_samples_leaf=1, min_samples_split=2;, score=0.889 total time=   0.0s\n",
      "[CV 2/5] END criterion=entropy, max_depth=10, min_samples_leaf=1, min_samples_split=2;, score=0.895 total time=   0.0s\n",
      "[CV 3/5] END criterion=entropy, max_depth=10, min_samples_leaf=1, min_samples_split=2;, score=0.880 total time=   0.0s\n",
      "[CV 4/5] END criterion=entropy, max_depth=10, min_samples_leaf=1, min_samples_split=2;, score=0.883 total time=   0.0s\n",
      "[CV 5/5] END criterion=entropy, max_depth=10, min_samples_leaf=1, min_samples_split=2;, score=0.904 total time=   0.0s\n",
      "[CV 1/5] END criterion=entropy, max_depth=10, min_samples_leaf=1, min_samples_split=5;, score=0.892 total time=   0.0s\n",
      "[CV 2/5] END criterion=entropy, max_depth=10, min_samples_leaf=1, min_samples_split=5;, score=0.892 total time=   0.0s\n",
      "[CV 3/5] END criterion=entropy, max_depth=10, min_samples_leaf=1, min_samples_split=5;, score=0.882 total time=   0.0s\n",
      "[CV 4/5] END criterion=entropy, max_depth=10, min_samples_leaf=1, min_samples_split=5;, score=0.871 total time=   0.0s\n",
      "[CV 5/5] END criterion=entropy, max_depth=10, min_samples_leaf=1, min_samples_split=5;, score=0.904 total time=   0.0s\n",
      "[CV 1/5] END criterion=entropy, max_depth=10, min_samples_leaf=1, min_samples_split=10;, score=0.898 total time=   0.0s\n",
      "[CV 2/5] END criterion=entropy, max_depth=10, min_samples_leaf=1, min_samples_split=10;, score=0.894 total time=   0.0s\n",
      "[CV 3/5] END criterion=entropy, max_depth=10, min_samples_leaf=1, min_samples_split=10;, score=0.901 total time=   0.0s\n",
      "[CV 4/5] END criterion=entropy, max_depth=10, min_samples_leaf=1, min_samples_split=10;, score=0.880 total time=   0.0s\n",
      "[CV 5/5] END criterion=entropy, max_depth=10, min_samples_leaf=1, min_samples_split=10;, score=0.904 total time=   0.0s\n",
      "[CV 1/5] END criterion=entropy, max_depth=10, min_samples_leaf=2, min_samples_split=2;, score=0.901 total time=   0.0s\n",
      "[CV 2/5] END criterion=entropy, max_depth=10, min_samples_leaf=2, min_samples_split=2;, score=0.901 total time=   0.0s\n",
      "[CV 3/5] END criterion=entropy, max_depth=10, min_samples_leaf=2, min_samples_split=2;, score=0.888 total time=   0.0s\n",
      "[CV 4/5] END criterion=entropy, max_depth=10, min_samples_leaf=2, min_samples_split=2;, score=0.891 total time=   0.0s\n",
      "[CV 5/5] END criterion=entropy, max_depth=10, min_samples_leaf=2, min_samples_split=2;, score=0.894 total time=   0.0s\n",
      "[CV 1/5] END criterion=entropy, max_depth=10, min_samples_leaf=2, min_samples_split=5;, score=0.897 total time=   0.0s\n",
      "[CV 2/5] END criterion=entropy, max_depth=10, min_samples_leaf=2, min_samples_split=5;, score=0.889 total time=   0.0s\n",
      "[CV 3/5] END criterion=entropy, max_depth=10, min_samples_leaf=2, min_samples_split=5;, score=0.888 total time=   0.0s\n",
      "[CV 4/5] END criterion=entropy, max_depth=10, min_samples_leaf=2, min_samples_split=5;, score=0.877 total time=   0.0s\n",
      "[CV 5/5] END criterion=entropy, max_depth=10, min_samples_leaf=2, min_samples_split=5;, score=0.897 total time=   0.0s\n",
      "[CV 1/5] END criterion=entropy, max_depth=10, min_samples_leaf=2, min_samples_split=10;, score=0.900 total time=   0.0s\n",
      "[CV 2/5] END criterion=entropy, max_depth=10, min_samples_leaf=2, min_samples_split=10;, score=0.894 total time=   0.0s\n",
      "[CV 3/5] END criterion=entropy, max_depth=10, min_samples_leaf=2, min_samples_split=10;, score=0.891 total time=   0.0s\n",
      "[CV 4/5] END criterion=entropy, max_depth=10, min_samples_leaf=2, min_samples_split=10;, score=0.886 total time=   0.0s\n",
      "[CV 5/5] END criterion=entropy, max_depth=10, min_samples_leaf=2, min_samples_split=10;, score=0.904 total time=   0.0s\n",
      "[CV 1/5] END criterion=entropy, max_depth=10, min_samples_leaf=4, min_samples_split=2;, score=0.901 total time=   0.0s\n",
      "[CV 2/5] END criterion=entropy, max_depth=10, min_samples_leaf=4, min_samples_split=2;, score=0.894 total time=   0.0s\n",
      "[CV 3/5] END criterion=entropy, max_depth=10, min_samples_leaf=4, min_samples_split=2;, score=0.903 total time=   0.0s\n",
      "[CV 4/5] END criterion=entropy, max_depth=10, min_samples_leaf=4, min_samples_split=2;, score=0.901 total time=   0.0s\n",
      "[CV 5/5] END criterion=entropy, max_depth=10, min_samples_leaf=4, min_samples_split=2;, score=0.904 total time=   0.0s\n",
      "[CV 1/5] END criterion=entropy, max_depth=10, min_samples_leaf=4, min_samples_split=5;, score=0.895 total time=   0.0s\n",
      "[CV 2/5] END criterion=entropy, max_depth=10, min_samples_leaf=4, min_samples_split=5;, score=0.888 total time=   0.0s\n",
      "[CV 3/5] END criterion=entropy, max_depth=10, min_samples_leaf=4, min_samples_split=5;, score=0.895 total time=   0.0s\n",
      "[CV 4/5] END criterion=entropy, max_depth=10, min_samples_leaf=4, min_samples_split=5;, score=0.897 total time=   0.0s\n",
      "[CV 5/5] END criterion=entropy, max_depth=10, min_samples_leaf=4, min_samples_split=5;, score=0.906 total time=   0.0s\n",
      "[CV 1/5] END criterion=entropy, max_depth=10, min_samples_leaf=4, min_samples_split=10;, score=0.903 total time=   0.0s\n",
      "[CV 2/5] END criterion=entropy, max_depth=10, min_samples_leaf=4, min_samples_split=10;, score=0.895 total time=   0.0s\n",
      "[CV 3/5] END criterion=entropy, max_depth=10, min_samples_leaf=4, min_samples_split=10;, score=0.900 total time=   0.0s\n",
      "[CV 4/5] END criterion=entropy, max_depth=10, min_samples_leaf=4, min_samples_split=10;, score=0.898 total time=   0.0s\n",
      "[CV 5/5] END criterion=entropy, max_depth=10, min_samples_leaf=4, min_samples_split=10;, score=0.909 total time=   0.0s\n",
      "[CV 1/5] END criterion=entropy, max_depth=20, min_samples_leaf=1, min_samples_split=2;, score=0.889 total time=   0.0s\n",
      "[CV 2/5] END criterion=entropy, max_depth=20, min_samples_leaf=1, min_samples_split=2;, score=0.888 total time=   0.0s\n",
      "[CV 3/5] END criterion=entropy, max_depth=20, min_samples_leaf=1, min_samples_split=2;, score=0.873 total time=   0.0s\n",
      "[CV 4/5] END criterion=entropy, max_depth=20, min_samples_leaf=1, min_samples_split=2;, score=0.868 total time=   0.0s\n",
      "[CV 5/5] END criterion=entropy, max_depth=20, min_samples_leaf=1, min_samples_split=2;, score=0.903 total time=   0.0s\n",
      "[CV 1/5] END criterion=entropy, max_depth=20, min_samples_leaf=1, min_samples_split=5;, score=0.900 total time=   0.0s\n",
      "[CV 2/5] END criterion=entropy, max_depth=20, min_samples_leaf=1, min_samples_split=5;, score=0.882 total time=   0.0s\n",
      "[CV 3/5] END criterion=entropy, max_depth=20, min_samples_leaf=1, min_samples_split=5;, score=0.874 total time=   0.1s\n",
      "[CV 4/5] END criterion=entropy, max_depth=20, min_samples_leaf=1, min_samples_split=5;, score=0.874 total time=   0.0s\n",
      "[CV 5/5] END criterion=entropy, max_depth=20, min_samples_leaf=1, min_samples_split=5;, score=0.901 total time=   0.0s\n",
      "[CV 1/5] END criterion=entropy, max_depth=20, min_samples_leaf=1, min_samples_split=10;, score=0.904 total time=   0.0s\n",
      "[CV 2/5] END criterion=entropy, max_depth=20, min_samples_leaf=1, min_samples_split=10;, score=0.897 total time=   0.0s\n",
      "[CV 3/5] END criterion=entropy, max_depth=20, min_samples_leaf=1, min_samples_split=10;, score=0.885 total time=   0.0s\n",
      "[CV 4/5] END criterion=entropy, max_depth=20, min_samples_leaf=1, min_samples_split=10;, score=0.882 total time=   0.0s\n",
      "[CV 5/5] END criterion=entropy, max_depth=20, min_samples_leaf=1, min_samples_split=10;, score=0.909 total time=   0.0s\n",
      "[CV 1/5] END criterion=entropy, max_depth=20, min_samples_leaf=2, min_samples_split=2;, score=0.894 total time=   0.0s\n",
      "[CV 2/5] END criterion=entropy, max_depth=20, min_samples_leaf=2, min_samples_split=2;, score=0.889 total time=   0.0s\n",
      "[CV 3/5] END criterion=entropy, max_depth=20, min_samples_leaf=2, min_samples_split=2;, score=0.873 total time=   0.0s\n",
      "[CV 4/5] END criterion=entropy, max_depth=20, min_samples_leaf=2, min_samples_split=2;, score=0.883 total time=   0.0s\n",
      "[CV 5/5] END criterion=entropy, max_depth=20, min_samples_leaf=2, min_samples_split=2;, score=0.904 total time=   0.0s\n",
      "[CV 1/5] END criterion=entropy, max_depth=20, min_samples_leaf=2, min_samples_split=5;, score=0.903 total time=   0.0s\n",
      "[CV 2/5] END criterion=entropy, max_depth=20, min_samples_leaf=2, min_samples_split=5;, score=0.880 total time=   0.0s\n",
      "[CV 3/5] END criterion=entropy, max_depth=20, min_samples_leaf=2, min_samples_split=5;, score=0.876 total time=   0.0s\n",
      "[CV 4/5] END criterion=entropy, max_depth=20, min_samples_leaf=2, min_samples_split=5;, score=0.880 total time=   0.0s\n",
      "[CV 5/5] END criterion=entropy, max_depth=20, min_samples_leaf=2, min_samples_split=5;, score=0.900 total time=   0.0s\n",
      "[CV 1/5] END criterion=entropy, max_depth=20, min_samples_leaf=2, min_samples_split=10;, score=0.903 total time=   0.0s\n",
      "[CV 2/5] END criterion=entropy, max_depth=20, min_samples_leaf=2, min_samples_split=10;, score=0.885 total time=   0.0s\n",
      "[CV 3/5] END criterion=entropy, max_depth=20, min_samples_leaf=2, min_samples_split=10;, score=0.889 total time=   0.0s\n",
      "[CV 4/5] END criterion=entropy, max_depth=20, min_samples_leaf=2, min_samples_split=10;, score=0.886 total time=   0.0s\n",
      "[CV 5/5] END criterion=entropy, max_depth=20, min_samples_leaf=2, min_samples_split=10;, score=0.907 total time=   0.0s\n",
      "[CV 1/5] END criterion=entropy, max_depth=20, min_samples_leaf=4, min_samples_split=2;, score=0.894 total time=   0.0s\n",
      "[CV 2/5] END criterion=entropy, max_depth=20, min_samples_leaf=4, min_samples_split=2;, score=0.877 total time=   0.0s\n",
      "[CV 3/5] END criterion=entropy, max_depth=20, min_samples_leaf=4, min_samples_split=2;, score=0.898 total time=   0.0s\n",
      "[CV 4/5] END criterion=entropy, max_depth=20, min_samples_leaf=4, min_samples_split=2;, score=0.903 total time=   0.0s\n",
      "[CV 5/5] END criterion=entropy, max_depth=20, min_samples_leaf=4, min_samples_split=2;, score=0.903 total time=   0.0s\n",
      "[CV 1/5] END criterion=entropy, max_depth=20, min_samples_leaf=4, min_samples_split=5;, score=0.894 total time=   0.1s\n",
      "[CV 2/5] END criterion=entropy, max_depth=20, min_samples_leaf=4, min_samples_split=5;, score=0.888 total time=   1.4s\n",
      "[CV 3/5] END criterion=entropy, max_depth=20, min_samples_leaf=4, min_samples_split=5;, score=0.894 total time=   1.0s\n",
      "[CV 4/5] END criterion=entropy, max_depth=20, min_samples_leaf=4, min_samples_split=5;, score=0.891 total time=   0.3s\n",
      "[CV 5/5] END criterion=entropy, max_depth=20, min_samples_leaf=4, min_samples_split=5;, score=0.904 total time=   1.0s\n",
      "[CV 1/5] END criterion=entropy, max_depth=20, min_samples_leaf=4, min_samples_split=10;, score=0.901 total time=   0.0s\n",
      "[CV 2/5] END criterion=entropy, max_depth=20, min_samples_leaf=4, min_samples_split=10;, score=0.885 total time=   0.3s\n",
      "[CV 3/5] END criterion=entropy, max_depth=20, min_samples_leaf=4, min_samples_split=10;, score=0.892 total time=   0.1s\n",
      "[CV 4/5] END criterion=entropy, max_depth=20, min_samples_leaf=4, min_samples_split=10;, score=0.892 total time=   0.2s\n",
      "[CV 5/5] END criterion=entropy, max_depth=20, min_samples_leaf=4, min_samples_split=10;, score=0.907 total time=   0.0s\n",
      "[CV 1/5] END criterion=entropy, max_depth=30, min_samples_leaf=1, min_samples_split=2;, score=0.895 total time=   0.1s\n",
      "[CV 2/5] END criterion=entropy, max_depth=30, min_samples_leaf=1, min_samples_split=2;, score=0.873 total time=   0.4s\n",
      "[CV 3/5] END criterion=entropy, max_depth=30, min_samples_leaf=1, min_samples_split=2;, score=0.862 total time=   0.3s\n",
      "[CV 4/5] END criterion=entropy, max_depth=30, min_samples_leaf=1, min_samples_split=2;, score=0.860 total time=   0.1s\n",
      "[CV 5/5] END criterion=entropy, max_depth=30, min_samples_leaf=1, min_samples_split=2;, score=0.906 total time=   0.9s\n",
      "[CV 1/5] END criterion=entropy, max_depth=30, min_samples_leaf=1, min_samples_split=5;, score=0.892 total time=   0.5s\n",
      "[CV 2/5] END criterion=entropy, max_depth=30, min_samples_leaf=1, min_samples_split=5;, score=0.882 total time=   0.0s\n",
      "[CV 3/5] END criterion=entropy, max_depth=30, min_samples_leaf=1, min_samples_split=5;, score=0.868 total time=   0.5s\n",
      "[CV 4/5] END criterion=entropy, max_depth=30, min_samples_leaf=1, min_samples_split=5;, score=0.869 total time=   0.2s\n",
      "[CV 5/5] END criterion=entropy, max_depth=30, min_samples_leaf=1, min_samples_split=5;, score=0.903 total time=   0.0s\n",
      "[CV 1/5] END criterion=entropy, max_depth=30, min_samples_leaf=1, min_samples_split=10;, score=0.906 total time=   0.0s\n",
      "[CV 2/5] END criterion=entropy, max_depth=30, min_samples_leaf=1, min_samples_split=10;, score=0.895 total time=   0.4s\n",
      "[CV 3/5] END criterion=entropy, max_depth=30, min_samples_leaf=1, min_samples_split=10;, score=0.891 total time=   0.7s\n",
      "[CV 4/5] END criterion=entropy, max_depth=30, min_samples_leaf=1, min_samples_split=10;, score=0.880 total time=   0.2s\n",
      "[CV 5/5] END criterion=entropy, max_depth=30, min_samples_leaf=1, min_samples_split=10;, score=0.907 total time=   0.0s\n",
      "[CV 1/5] END criterion=entropy, max_depth=30, min_samples_leaf=2, min_samples_split=2;, score=0.898 total time=   0.2s\n",
      "[CV 2/5] END criterion=entropy, max_depth=30, min_samples_leaf=2, min_samples_split=2;, score=0.888 total time=   0.1s\n",
      "[CV 3/5] END criterion=entropy, max_depth=30, min_samples_leaf=2, min_samples_split=2;, score=0.889 total time=   0.8s\n",
      "[CV 4/5] END criterion=entropy, max_depth=30, min_samples_leaf=2, min_samples_split=2;, score=0.882 total time=   0.6s\n",
      "[CV 5/5] END criterion=entropy, max_depth=30, min_samples_leaf=2, min_samples_split=2;, score=0.894 total time=   0.0s\n",
      "[CV 1/5] END criterion=entropy, max_depth=30, min_samples_leaf=2, min_samples_split=5;, score=0.898 total time=   0.2s\n",
      "[CV 2/5] END criterion=entropy, max_depth=30, min_samples_leaf=2, min_samples_split=5;, score=0.882 total time=   0.0s\n",
      "[CV 3/5] END criterion=entropy, max_depth=30, min_samples_leaf=2, min_samples_split=5;, score=0.882 total time=   0.0s\n",
      "[CV 4/5] END criterion=entropy, max_depth=30, min_samples_leaf=2, min_samples_split=5;, score=0.886 total time=   0.0s\n",
      "[CV 5/5] END criterion=entropy, max_depth=30, min_samples_leaf=2, min_samples_split=5;, score=0.898 total time=   0.0s\n",
      "[CV 1/5] END criterion=entropy, max_depth=30, min_samples_leaf=2, min_samples_split=10;, score=0.907 total time=   0.1s\n",
      "[CV 2/5] END criterion=entropy, max_depth=30, min_samples_leaf=2, min_samples_split=10;, score=0.886 total time=   0.0s\n",
      "[CV 3/5] END criterion=entropy, max_depth=30, min_samples_leaf=2, min_samples_split=10;, score=0.888 total time=   0.6s\n",
      "[CV 4/5] END criterion=entropy, max_depth=30, min_samples_leaf=2, min_samples_split=10;, score=0.886 total time=   0.4s\n",
      "[CV 5/5] END criterion=entropy, max_depth=30, min_samples_leaf=2, min_samples_split=10;, score=0.909 total time=   0.1s\n",
      "[CV 1/5] END criterion=entropy, max_depth=30, min_samples_leaf=4, min_samples_split=2;, score=0.894 total time=   0.0s\n",
      "[CV 2/5] END criterion=entropy, max_depth=30, min_samples_leaf=4, min_samples_split=2;, score=0.888 total time=   0.0s\n",
      "[CV 3/5] END criterion=entropy, max_depth=30, min_samples_leaf=4, min_samples_split=2;, score=0.891 total time=   0.0s\n",
      "[CV 4/5] END criterion=entropy, max_depth=30, min_samples_leaf=4, min_samples_split=2;, score=0.903 total time=   0.3s\n",
      "[CV 5/5] END criterion=entropy, max_depth=30, min_samples_leaf=4, min_samples_split=2;, score=0.907 total time=   0.1s\n",
      "[CV 1/5] END criterion=entropy, max_depth=30, min_samples_leaf=4, min_samples_split=5;, score=0.888 total time=   0.0s\n",
      "[CV 2/5] END criterion=entropy, max_depth=30, min_samples_leaf=4, min_samples_split=5;, score=0.886 total time=   0.0s\n",
      "[CV 3/5] END criterion=entropy, max_depth=30, min_samples_leaf=4, min_samples_split=5;, score=0.900 total time=   0.0s\n",
      "[CV 4/5] END criterion=entropy, max_depth=30, min_samples_leaf=4, min_samples_split=5;, score=0.898 total time=   0.0s\n",
      "[CV 5/5] END criterion=entropy, max_depth=30, min_samples_leaf=4, min_samples_split=5;, score=0.910 total time=   0.0s\n",
      "[CV 1/5] END criterion=entropy, max_depth=30, min_samples_leaf=4, min_samples_split=10;, score=0.901 total time=   0.0s\n",
      "[CV 2/5] END criterion=entropy, max_depth=30, min_samples_leaf=4, min_samples_split=10;, score=0.886 total time=   0.0s\n",
      "[CV 3/5] END criterion=entropy, max_depth=30, min_samples_leaf=4, min_samples_split=10;, score=0.889 total time=   0.0s\n"
     ]
    },
    {
     "name": "stderr",
     "output_type": "stream",
     "text": [
      "02:37:59 PM DEBUG: DecisionTreeClassifier: Best Model=DecisionTreeClassifier(criterion='entropy', max_depth=10, min_samples_leaf=4,\n",
      "                       min_samples_split=10)\n",
      "02:37:59 PM DEBUG: DecisionTreeClassifier: Best Params={'criterion': 'entropy', 'max_depth': 10, 'min_samples_leaf': 4, 'min_samples_split': 10}\n",
      "02:37:59 PM DEBUG: DecisionTreeClassifier: Fitted\n",
      "02:37:59 PM DEBUG: DecisionTreeClassifier: Got preds/probs\n"
     ]
    },
    {
     "name": "stdout",
     "output_type": "stream",
     "text": [
      "[CV 4/5] END criterion=entropy, max_depth=30, min_samples_leaf=4, min_samples_split=10;, score=0.894 total time=   0.0s\n",
      "[CV 5/5] END criterion=entropy, max_depth=30, min_samples_leaf=4, min_samples_split=10;, score=0.910 total time=   0.0s\n"
     ]
    },
    {
     "name": "stderr",
     "output_type": "stream",
     "text": [
      "02:37:59 PM DEBUG: DecisionTreeClassifier: Got metrics\n"
     ]
    },
    {
     "name": "stdout",
     "output_type": "stream",
     "text": [
      "DecisionTreeClassifier: Done: 18.85s\n",
      "DecisionTreeClassifier: Done GridSearchCV optimization (5-fold)\n",
      "SVC: Starting GridSearchCV optimization (5-fold)\n",
      "SVC: Starting\n",
      "Fitting 5 folds for each of 60 candidates, totalling 300 fits\n",
      "[CV 1/5] END C=0.001, degree=1, gamma=scale, kernel=linear;, score=0.889 total time=   3.5s\n",
      "[CV 2/5] END C=0.001, degree=1, gamma=scale, kernel=linear;, score=0.891 total time=   1.0s\n",
      "[CV 3/5] END C=0.001, degree=1, gamma=scale, kernel=linear;, score=0.891 total time=   2.0s\n",
      "[CV 4/5] END C=0.001, degree=1, gamma=scale, kernel=linear;, score=0.891 total time=   0.8s\n",
      "[CV 5/5] END C=0.001, degree=1, gamma=scale, kernel=linear;, score=0.891 total time=   0.9s\n",
      "[CV 1/5] END C=0.001, degree=1, gamma=scale, kernel=poly;, score=0.889 total time=   0.6s\n",
      "[CV 2/5] END C=0.001, degree=1, gamma=scale, kernel=poly;, score=0.891 total time=   3.9s\n",
      "[CV 3/5] END C=0.001, degree=1, gamma=scale, kernel=poly;, score=0.891 total time=   1.3s\n",
      "[CV 4/5] END C=0.001, degree=1, gamma=scale, kernel=poly;, score=0.891 total time=   0.6s\n",
      "[CV 5/5] END C=0.001, degree=1, gamma=scale, kernel=poly;, score=0.891 total time=   0.7s\n",
      "[CV 1/5] END C=0.001, degree=1, gamma=scale, kernel=rbf;, score=0.889 total time=   3.3s\n",
      "[CV 2/5] END C=0.001, degree=1, gamma=scale, kernel=rbf;, score=0.891 total time=   3.0s\n",
      "[CV 3/5] END C=0.001, degree=1, gamma=scale, kernel=rbf;, score=0.891 total time=   2.9s\n",
      "[CV 4/5] END C=0.001, degree=1, gamma=scale, kernel=rbf;, score=0.891 total time=   2.7s\n",
      "[CV 5/5] END C=0.001, degree=1, gamma=scale, kernel=rbf;, score=0.891 total time=   2.4s\n",
      "[CV 1/5] END C=0.001, degree=1, gamma=auto, kernel=linear;, score=0.889 total time=   1.4s\n",
      "[CV 2/5] END C=0.001, degree=1, gamma=auto, kernel=linear;, score=0.891 total time=   1.5s\n",
      "[CV 3/5] END C=0.001, degree=1, gamma=auto, kernel=linear;, score=0.891 total time=   3.2s\n",
      "[CV 4/5] END C=0.001, degree=1, gamma=auto, kernel=linear;, score=0.891 total time=   1.8s\n",
      "[CV 5/5] END C=0.001, degree=1, gamma=auto, kernel=linear;, score=0.891 total time=   1.8s\n",
      "[CV 1/5] END C=0.001, degree=1, gamma=auto, kernel=poly;, score=0.889 total time=   1.1s\n",
      "[CV 2/5] END C=0.001, degree=1, gamma=auto, kernel=poly;, score=0.891 total time=   1.4s\n",
      "[CV 3/5] END C=0.001, degree=1, gamma=auto, kernel=poly;, score=0.891 total time=   0.4s\n",
      "[CV 4/5] END C=0.001, degree=1, gamma=auto, kernel=poly;, score=0.891 total time=   0.4s\n",
      "[CV 5/5] END C=0.001, degree=1, gamma=auto, kernel=poly;, score=0.891 total time=   0.5s\n",
      "[CV 1/5] END C=0.001, degree=1, gamma=auto, kernel=rbf;, score=0.889 total time=   0.8s\n",
      "[CV 2/5] END C=0.001, degree=1, gamma=auto, kernel=rbf;, score=0.891 total time=   0.9s\n",
      "[CV 3/5] END C=0.001, degree=1, gamma=auto, kernel=rbf;, score=0.891 total time=   0.7s\n",
      "[CV 4/5] END C=0.001, degree=1, gamma=auto, kernel=rbf;, score=0.891 total time=   0.7s\n",
      "[CV 5/5] END C=0.001, degree=1, gamma=auto, kernel=rbf;, score=0.891 total time=   0.5s\n",
      "[CV 1/5] END C=0.001, degree=3, gamma=scale, kernel=linear;, score=0.889 total time=   0.4s\n",
      "[CV 2/5] END C=0.001, degree=3, gamma=scale, kernel=linear;, score=0.891 total time=   0.3s\n",
      "[CV 3/5] END C=0.001, degree=3, gamma=scale, kernel=linear;, score=0.891 total time=   0.4s\n",
      "[CV 4/5] END C=0.001, degree=3, gamma=scale, kernel=linear;, score=0.891 total time=   0.4s\n",
      "[CV 5/5] END C=0.001, degree=3, gamma=scale, kernel=linear;, score=0.891 total time=   0.3s\n",
      "[CV 1/5] END C=0.001, degree=3, gamma=scale, kernel=poly;, score=0.889 total time=   0.4s\n",
      "[CV 2/5] END C=0.001, degree=3, gamma=scale, kernel=poly;, score=0.891 total time=   0.5s\n",
      "[CV 3/5] END C=0.001, degree=3, gamma=scale, kernel=poly;, score=0.891 total time=   0.5s\n",
      "[CV 4/5] END C=0.001, degree=3, gamma=scale, kernel=poly;, score=0.891 total time=   0.4s\n",
      "[CV 5/5] END C=0.001, degree=3, gamma=scale, kernel=poly;, score=0.891 total time=   0.6s\n",
      "[CV 1/5] END C=0.001, degree=3, gamma=scale, kernel=rbf;, score=0.889 total time=   0.6s\n",
      "[CV 2/5] END C=0.001, degree=3, gamma=scale, kernel=rbf;, score=0.891 total time=   0.7s\n",
      "[CV 3/5] END C=0.001, degree=3, gamma=scale, kernel=rbf;, score=0.891 total time=   0.6s\n",
      "[CV 4/5] END C=0.001, degree=3, gamma=scale, kernel=rbf;, score=0.891 total time=   0.7s\n",
      "[CV 5/5] END C=0.001, degree=3, gamma=scale, kernel=rbf;, score=0.891 total time=   0.6s\n",
      "[CV 1/5] END C=0.001, degree=3, gamma=auto, kernel=linear;, score=0.889 total time=   0.4s\n",
      "[CV 2/5] END C=0.001, degree=3, gamma=auto, kernel=linear;, score=0.891 total time=   0.5s\n",
      "[CV 3/5] END C=0.001, degree=3, gamma=auto, kernel=linear;, score=0.891 total time=   0.3s\n",
      "[CV 4/5] END C=0.001, degree=3, gamma=auto, kernel=linear;, score=0.891 total time=   0.4s\n",
      "[CV 5/5] END C=0.001, degree=3, gamma=auto, kernel=linear;, score=0.891 total time=   0.7s\n",
      "[CV 1/5] END C=0.001, degree=3, gamma=auto, kernel=poly;, score=0.889 total time=   0.8s\n",
      "[CV 2/5] END C=0.001, degree=3, gamma=auto, kernel=poly;, score=0.891 total time=   0.4s\n",
      "[CV 3/5] END C=0.001, degree=3, gamma=auto, kernel=poly;, score=0.891 total time=   0.6s\n",
      "[CV 4/5] END C=0.001, degree=3, gamma=auto, kernel=poly;, score=0.891 total time=   0.7s\n",
      "[CV 5/5] END C=0.001, degree=3, gamma=auto, kernel=poly;, score=0.891 total time=   0.8s\n",
      "[CV 1/5] END C=0.001, degree=3, gamma=auto, kernel=rbf;, score=0.889 total time=   1.0s\n",
      "[CV 2/5] END C=0.001, degree=3, gamma=auto, kernel=rbf;, score=0.891 total time=   1.0s\n",
      "[CV 3/5] END C=0.001, degree=3, gamma=auto, kernel=rbf;, score=0.891 total time=   0.9s\n",
      "[CV 4/5] END C=0.001, degree=3, gamma=auto, kernel=rbf;, score=0.891 total time=   1.3s\n",
      "[CV 5/5] END C=0.001, degree=3, gamma=auto, kernel=rbf;, score=0.891 total time=   2.2s\n",
      "[CV 1/5] END C=0.05623413251903491, degree=1, gamma=scale, kernel=linear;, score=0.892 total time=   0.9s\n",
      "[CV 2/5] END C=0.05623413251903491, degree=1, gamma=scale, kernel=linear;, score=0.898 total time=   0.5s\n",
      "[CV 3/5] END C=0.05623413251903491, degree=1, gamma=scale, kernel=linear;, score=0.898 total time=   0.3s\n",
      "[CV 4/5] END C=0.05623413251903491, degree=1, gamma=scale, kernel=linear;, score=0.907 total time=   0.3s\n",
      "[CV 5/5] END C=0.05623413251903491, degree=1, gamma=scale, kernel=linear;, score=0.900 total time=   0.4s\n",
      "[CV 1/5] END C=0.05623413251903491, degree=1, gamma=scale, kernel=poly;, score=0.889 total time=   0.4s\n",
      "[CV 2/5] END C=0.05623413251903491, degree=1, gamma=scale, kernel=poly;, score=0.891 total time=   0.4s\n",
      "[CV 3/5] END C=0.05623413251903491, degree=1, gamma=scale, kernel=poly;, score=0.891 total time=   0.5s\n",
      "[CV 4/5] END C=0.05623413251903491, degree=1, gamma=scale, kernel=poly;, score=0.891 total time=   0.4s\n",
      "[CV 5/5] END C=0.05623413251903491, degree=1, gamma=scale, kernel=poly;, score=0.891 total time=   0.4s\n",
      "[CV 1/5] END C=0.05623413251903491, degree=1, gamma=scale, kernel=rbf;, score=0.889 total time=   0.8s\n",
      "[CV 2/5] END C=0.05623413251903491, degree=1, gamma=scale, kernel=rbf;, score=0.891 total time=   1.6s\n",
      "[CV 3/5] END C=0.05623413251903491, degree=1, gamma=scale, kernel=rbf;, score=0.891 total time=   3.4s\n",
      "[CV 4/5] END C=0.05623413251903491, degree=1, gamma=scale, kernel=rbf;, score=0.891 total time=   1.8s\n",
      "[CV 5/5] END C=0.05623413251903491, degree=1, gamma=scale, kernel=rbf;, score=0.891 total time=   1.2s\n",
      "[CV 1/5] END C=0.05623413251903491, degree=1, gamma=auto, kernel=linear;, score=0.892 total time=   0.7s\n",
      "[CV 2/5] END C=0.05623413251903491, degree=1, gamma=auto, kernel=linear;, score=0.898 total time=   0.5s\n",
      "[CV 3/5] END C=0.05623413251903491, degree=1, gamma=auto, kernel=linear;, score=0.898 total time=   0.3s\n",
      "[CV 4/5] END C=0.05623413251903491, degree=1, gamma=auto, kernel=linear;, score=0.907 total time=   0.3s\n",
      "[CV 5/5] END C=0.05623413251903491, degree=1, gamma=auto, kernel=linear;, score=0.900 total time=   0.4s\n",
      "[CV 1/5] END C=0.05623413251903491, degree=1, gamma=auto, kernel=poly;, score=0.889 total time=   0.4s\n",
      "[CV 2/5] END C=0.05623413251903491, degree=1, gamma=auto, kernel=poly;, score=0.891 total time=   0.4s\n",
      "[CV 3/5] END C=0.05623413251903491, degree=1, gamma=auto, kernel=poly;, score=0.891 total time=   0.4s\n",
      "[CV 4/5] END C=0.05623413251903491, degree=1, gamma=auto, kernel=poly;, score=0.891 total time=   0.4s\n",
      "[CV 5/5] END C=0.05623413251903491, degree=1, gamma=auto, kernel=poly;, score=0.891 total time=   0.4s\n",
      "[CV 1/5] END C=0.05623413251903491, degree=1, gamma=auto, kernel=rbf;, score=0.889 total time=   0.7s\n",
      "[CV 2/5] END C=0.05623413251903491, degree=1, gamma=auto, kernel=rbf;, score=0.891 total time=   0.6s\n",
      "[CV 3/5] END C=0.05623413251903491, degree=1, gamma=auto, kernel=rbf;, score=0.891 total time=   0.7s\n",
      "[CV 4/5] END C=0.05623413251903491, degree=1, gamma=auto, kernel=rbf;, score=0.891 total time=   0.6s\n",
      "[CV 5/5] END C=0.05623413251903491, degree=1, gamma=auto, kernel=rbf;, score=0.891 total time=   0.7s\n",
      "[CV 1/5] END C=0.05623413251903491, degree=3, gamma=scale, kernel=linear;, score=0.892 total time=   0.4s\n",
      "[CV 2/5] END C=0.05623413251903491, degree=3, gamma=scale, kernel=linear;, score=0.898 total time=   0.3s\n",
      "[CV 3/5] END C=0.05623413251903491, degree=3, gamma=scale, kernel=linear;, score=0.898 total time=   0.5s\n",
      "[CV 4/5] END C=0.05623413251903491, degree=3, gamma=scale, kernel=linear;, score=0.907 total time=   0.3s\n",
      "[CV 5/5] END C=0.05623413251903491, degree=3, gamma=scale, kernel=linear;, score=0.900 total time=   0.3s\n",
      "[CV 1/5] END C=0.05623413251903491, degree=3, gamma=scale, kernel=poly;, score=0.895 total time=   0.4s\n",
      "[CV 2/5] END C=0.05623413251903491, degree=3, gamma=scale, kernel=poly;, score=0.903 total time=   0.5s\n",
      "[CV 3/5] END C=0.05623413251903491, degree=3, gamma=scale, kernel=poly;, score=0.903 total time=   0.4s\n",
      "[CV 4/5] END C=0.05623413251903491, degree=3, gamma=scale, kernel=poly;, score=0.909 total time=   0.5s\n",
      "[CV 5/5] END C=0.05623413251903491, degree=3, gamma=scale, kernel=poly;, score=0.901 total time=   0.4s\n",
      "[CV 1/5] END C=0.05623413251903491, degree=3, gamma=scale, kernel=rbf;, score=0.889 total time=   0.7s\n",
      "[CV 2/5] END C=0.05623413251903491, degree=3, gamma=scale, kernel=rbf;, score=0.891 total time=   0.7s\n",
      "[CV 3/5] END C=0.05623413251903491, degree=3, gamma=scale, kernel=rbf;, score=0.891 total time=   0.8s\n",
      "[CV 4/5] END C=0.05623413251903491, degree=3, gamma=scale, kernel=rbf;, score=0.891 total time=   0.8s\n",
      "[CV 5/5] END C=0.05623413251903491, degree=3, gamma=scale, kernel=rbf;, score=0.891 total time=   0.7s\n",
      "[CV 1/5] END C=0.05623413251903491, degree=3, gamma=auto, kernel=linear;, score=0.892 total time=   0.4s\n",
      "[CV 2/5] END C=0.05623413251903491, degree=3, gamma=auto, kernel=linear;, score=0.898 total time=   0.5s\n",
      "[CV 3/5] END C=0.05623413251903491, degree=3, gamma=auto, kernel=linear;, score=0.898 total time=   0.4s\n",
      "[CV 4/5] END C=0.05623413251903491, degree=3, gamma=auto, kernel=linear;, score=0.907 total time=   0.3s\n",
      "[CV 5/5] END C=0.05623413251903491, degree=3, gamma=auto, kernel=linear;, score=0.900 total time=   0.4s\n",
      "[CV 1/5] END C=0.05623413251903491, degree=3, gamma=auto, kernel=poly;, score=0.889 total time=   0.4s\n",
      "[CV 2/5] END C=0.05623413251903491, degree=3, gamma=auto, kernel=poly;, score=0.891 total time=   0.3s\n",
      "[CV 3/5] END C=0.05623413251903491, degree=3, gamma=auto, kernel=poly;, score=0.891 total time=   0.3s\n",
      "[CV 4/5] END C=0.05623413251903491, degree=3, gamma=auto, kernel=poly;, score=0.891 total time=   0.4s\n",
      "[CV 5/5] END C=0.05623413251903491, degree=3, gamma=auto, kernel=poly;, score=0.891 total time=   0.3s\n",
      "[CV 1/5] END C=0.05623413251903491, degree=3, gamma=auto, kernel=rbf;, score=0.889 total time=   0.6s\n",
      "[CV 2/5] END C=0.05623413251903491, degree=3, gamma=auto, kernel=rbf;, score=0.891 total time=   0.7s\n",
      "[CV 3/5] END C=0.05623413251903491, degree=3, gamma=auto, kernel=rbf;, score=0.891 total time=   0.8s\n",
      "[CV 4/5] END C=0.05623413251903491, degree=3, gamma=auto, kernel=rbf;, score=0.891 total time=   0.8s\n",
      "[CV 5/5] END C=0.05623413251903491, degree=3, gamma=auto, kernel=rbf;, score=0.891 total time=   0.7s\n"
     ]
    },
    {
     "name": "stderr",
     "output_type": "stream",
     "text": [
      "/opt/anaconda3/lib/python3.11/site-packages/sklearn/svm/_base.py:297: ConvergenceWarning: Solver terminated early (max_iter=10000).  Consider pre-processing your data with StandardScaler or MinMaxScaler.\n",
      "  warnings.warn(\n"
     ]
    },
    {
     "name": "stdout",
     "output_type": "stream",
     "text": [
      "[CV 1/5] END C=3.1622776601683795, degree=1, gamma=scale, kernel=linear;, score=0.898 total time=   0.4s\n",
      "[CV 2/5] END C=3.1622776601683795, degree=1, gamma=scale, kernel=linear;, score=0.914 total time=   0.4s\n",
      "[CV 3/5] END C=3.1622776601683795, degree=1, gamma=scale, kernel=linear;, score=0.897 total time=   0.5s\n"
     ]
    },
    {
     "name": "stderr",
     "output_type": "stream",
     "text": [
      "/opt/anaconda3/lib/python3.11/site-packages/sklearn/svm/_base.py:297: ConvergenceWarning: Solver terminated early (max_iter=10000).  Consider pre-processing your data with StandardScaler or MinMaxScaler.\n",
      "  warnings.warn(\n"
     ]
    },
    {
     "name": "stdout",
     "output_type": "stream",
     "text": [
      "[CV 4/5] END C=3.1622776601683795, degree=1, gamma=scale, kernel=linear;, score=0.920 total time=   0.7s\n",
      "[CV 5/5] END C=3.1622776601683795, degree=1, gamma=scale, kernel=linear;, score=0.903 total time=   2.0s\n",
      "[CV 1/5] END C=3.1622776601683795, degree=1, gamma=scale, kernel=poly;, score=0.895 total time=   0.6s\n",
      "[CV 2/5] END C=3.1622776601683795, degree=1, gamma=scale, kernel=poly;, score=0.898 total time=   0.4s\n",
      "[CV 3/5] END C=3.1622776601683795, degree=1, gamma=scale, kernel=poly;, score=0.897 total time=   0.5s\n",
      "[CV 4/5] END C=3.1622776601683795, degree=1, gamma=scale, kernel=poly;, score=0.907 total time=   0.4s\n",
      "[CV 5/5] END C=3.1622776601683795, degree=1, gamma=scale, kernel=poly;, score=0.897 total time=   0.4s\n",
      "[CV 1/5] END C=3.1622776601683795, degree=1, gamma=scale, kernel=rbf;, score=0.892 total time=   0.7s\n",
      "[CV 2/5] END C=3.1622776601683795, degree=1, gamma=scale, kernel=rbf;, score=0.909 total time=   1.0s\n",
      "[CV 3/5] END C=3.1622776601683795, degree=1, gamma=scale, kernel=rbf;, score=0.906 total time=   0.7s\n",
      "[CV 4/5] END C=3.1622776601683795, degree=1, gamma=scale, kernel=rbf;, score=0.907 total time=   0.7s\n",
      "[CV 5/5] END C=3.1622776601683795, degree=1, gamma=scale, kernel=rbf;, score=0.898 total time=   0.7s\n",
      "[CV 1/5] END C=3.1622776601683795, degree=1, gamma=auto, kernel=linear;, score=0.898 total time=   0.5s\n",
      "[CV 2/5] END C=3.1622776601683795, degree=1, gamma=auto, kernel=linear;, score=0.914 total time=   0.4s\n",
      "[CV 3/5] END C=3.1622776601683795, degree=1, gamma=auto, kernel=linear;, score=0.897 total time=   0.4s\n"
     ]
    },
    {
     "name": "stderr",
     "output_type": "stream",
     "text": [
      "/opt/anaconda3/lib/python3.11/site-packages/sklearn/svm/_base.py:297: ConvergenceWarning: Solver terminated early (max_iter=10000).  Consider pre-processing your data with StandardScaler or MinMaxScaler.\n",
      "  warnings.warn(\n"
     ]
    },
    {
     "name": "stdout",
     "output_type": "stream",
     "text": [
      "[CV 4/5] END C=3.1622776601683795, degree=1, gamma=auto, kernel=linear;, score=0.920 total time=   0.4s\n",
      "[CV 5/5] END C=3.1622776601683795, degree=1, gamma=auto, kernel=linear;, score=0.903 total time=   0.4s\n",
      "[CV 1/5] END C=3.1622776601683795, degree=1, gamma=auto, kernel=poly;, score=0.892 total time=   0.4s\n",
      "[CV 2/5] END C=3.1622776601683795, degree=1, gamma=auto, kernel=poly;, score=0.898 total time=   0.4s\n",
      "[CV 3/5] END C=3.1622776601683795, degree=1, gamma=auto, kernel=poly;, score=0.898 total time=   0.5s\n",
      "[CV 4/5] END C=3.1622776601683795, degree=1, gamma=auto, kernel=poly;, score=0.907 total time=   0.4s\n",
      "[CV 5/5] END C=3.1622776601683795, degree=1, gamma=auto, kernel=poly;, score=0.900 total time=   0.4s\n",
      "[CV 1/5] END C=3.1622776601683795, degree=1, gamma=auto, kernel=rbf;, score=0.894 total time=   0.7s\n",
      "[CV 2/5] END C=3.1622776601683795, degree=1, gamma=auto, kernel=rbf;, score=0.898 total time=   0.7s\n",
      "[CV 3/5] END C=3.1622776601683795, degree=1, gamma=auto, kernel=rbf;, score=0.898 total time=   0.6s\n",
      "[CV 4/5] END C=3.1622776601683795, degree=1, gamma=auto, kernel=rbf;, score=0.907 total time=   0.7s\n",
      "[CV 5/5] END C=3.1622776601683795, degree=1, gamma=auto, kernel=rbf;, score=0.900 total time=   0.6s\n",
      "[CV 1/5] END C=3.1622776601683795, degree=3, gamma=scale, kernel=linear;, score=0.898 total time=   0.7s\n"
     ]
    },
    {
     "name": "stderr",
     "output_type": "stream",
     "text": [
      "/opt/anaconda3/lib/python3.11/site-packages/sklearn/svm/_base.py:297: ConvergenceWarning: Solver terminated early (max_iter=10000).  Consider pre-processing your data with StandardScaler or MinMaxScaler.\n",
      "  warnings.warn(\n"
     ]
    },
    {
     "name": "stdout",
     "output_type": "stream",
     "text": [
      "[CV 2/5] END C=3.1622776601683795, degree=3, gamma=scale, kernel=linear;, score=0.914 total time=   0.4s\n",
      "[CV 3/5] END C=3.1622776601683795, degree=3, gamma=scale, kernel=linear;, score=0.897 total time=   0.4s\n"
     ]
    },
    {
     "name": "stderr",
     "output_type": "stream",
     "text": [
      "/opt/anaconda3/lib/python3.11/site-packages/sklearn/svm/_base.py:297: ConvergenceWarning: Solver terminated early (max_iter=10000).  Consider pre-processing your data with StandardScaler or MinMaxScaler.\n",
      "  warnings.warn(\n"
     ]
    },
    {
     "name": "stdout",
     "output_type": "stream",
     "text": [
      "[CV 4/5] END C=3.1622776601683795, degree=3, gamma=scale, kernel=linear;, score=0.920 total time=   0.7s\n"
     ]
    },
    {
     "name": "stderr",
     "output_type": "stream",
     "text": [
      "/opt/anaconda3/lib/python3.11/site-packages/sklearn/svm/_base.py:297: ConvergenceWarning: Solver terminated early (max_iter=10000).  Consider pre-processing your data with StandardScaler or MinMaxScaler.\n",
      "  warnings.warn(\n"
     ]
    },
    {
     "name": "stdout",
     "output_type": "stream",
     "text": [
      "[CV 5/5] END C=3.1622776601683795, degree=3, gamma=scale, kernel=linear;, score=0.903 total time=   0.5s\n"
     ]
    },
    {
     "name": "stderr",
     "output_type": "stream",
     "text": [
      "/opt/anaconda3/lib/python3.11/site-packages/sklearn/svm/_base.py:297: ConvergenceWarning: Solver terminated early (max_iter=10000).  Consider pre-processing your data with StandardScaler or MinMaxScaler.\n",
      "  warnings.warn(\n"
     ]
    },
    {
     "name": "stdout",
     "output_type": "stream",
     "text": [
      "[CV 1/5] END C=3.1622776601683795, degree=3, gamma=scale, kernel=poly;, score=0.900 total time=   4.4s\n"
     ]
    },
    {
     "name": "stderr",
     "output_type": "stream",
     "text": [
      "/opt/anaconda3/lib/python3.11/site-packages/sklearn/svm/_base.py:297: ConvergenceWarning: Solver terminated early (max_iter=10000).  Consider pre-processing your data with StandardScaler or MinMaxScaler.\n",
      "  warnings.warn(\n"
     ]
    },
    {
     "name": "stdout",
     "output_type": "stream",
     "text": [
      "[CV 2/5] END C=3.1622776601683795, degree=3, gamma=scale, kernel=poly;, score=0.903 total time=   0.9s\n"
     ]
    },
    {
     "name": "stderr",
     "output_type": "stream",
     "text": [
      "/opt/anaconda3/lib/python3.11/site-packages/sklearn/svm/_base.py:297: ConvergenceWarning: Solver terminated early (max_iter=10000).  Consider pre-processing your data with StandardScaler or MinMaxScaler.\n",
      "  warnings.warn(\n"
     ]
    },
    {
     "name": "stdout",
     "output_type": "stream",
     "text": [
      "[CV 3/5] END C=3.1622776601683795, degree=3, gamma=scale, kernel=poly;, score=0.892 total time=   1.3s\n",
      "[CV 4/5] END C=3.1622776601683795, degree=3, gamma=scale, kernel=poly;, score=0.909 total time=   3.0s\n"
     ]
    },
    {
     "name": "stderr",
     "output_type": "stream",
     "text": [
      "/opt/anaconda3/lib/python3.11/site-packages/sklearn/svm/_base.py:297: ConvergenceWarning: Solver terminated early (max_iter=10000).  Consider pre-processing your data with StandardScaler or MinMaxScaler.\n",
      "  warnings.warn(\n"
     ]
    },
    {
     "name": "stdout",
     "output_type": "stream",
     "text": [
      "[CV 5/5] END C=3.1622776601683795, degree=3, gamma=scale, kernel=poly;, score=0.904 total time=   1.4s\n",
      "[CV 1/5] END C=3.1622776601683795, degree=3, gamma=scale, kernel=rbf;, score=0.892 total time=   1.1s\n",
      "[CV 2/5] END C=3.1622776601683795, degree=3, gamma=scale, kernel=rbf;, score=0.909 total time=   0.9s\n",
      "[CV 3/5] END C=3.1622776601683795, degree=3, gamma=scale, kernel=rbf;, score=0.906 total time=   0.7s\n",
      "[CV 4/5] END C=3.1622776601683795, degree=3, gamma=scale, kernel=rbf;, score=0.907 total time=   0.7s\n",
      "[CV 5/5] END C=3.1622776601683795, degree=3, gamma=scale, kernel=rbf;, score=0.898 total time=   1.0s\n",
      "[CV 1/5] END C=3.1622776601683795, degree=3, gamma=auto, kernel=linear;, score=0.898 total time=   0.5s\n"
     ]
    },
    {
     "name": "stderr",
     "output_type": "stream",
     "text": [
      "/opt/anaconda3/lib/python3.11/site-packages/sklearn/svm/_base.py:297: ConvergenceWarning: Solver terminated early (max_iter=10000).  Consider pre-processing your data with StandardScaler or MinMaxScaler.\n",
      "  warnings.warn(\n"
     ]
    },
    {
     "name": "stdout",
     "output_type": "stream",
     "text": [
      "[CV 2/5] END C=3.1622776601683795, degree=3, gamma=auto, kernel=linear;, score=0.914 total time=   0.6s\n",
      "[CV 3/5] END C=3.1622776601683795, degree=3, gamma=auto, kernel=linear;, score=0.897 total time=   0.7s\n"
     ]
    },
    {
     "name": "stderr",
     "output_type": "stream",
     "text": [
      "/opt/anaconda3/lib/python3.11/site-packages/sklearn/svm/_base.py:297: ConvergenceWarning: Solver terminated early (max_iter=10000).  Consider pre-processing your data with StandardScaler or MinMaxScaler.\n",
      "  warnings.warn(\n"
     ]
    },
    {
     "name": "stdout",
     "output_type": "stream",
     "text": [
      "[CV 4/5] END C=3.1622776601683795, degree=3, gamma=auto, kernel=linear;, score=0.920 total time=   0.7s\n",
      "[CV 5/5] END C=3.1622776601683795, degree=3, gamma=auto, kernel=linear;, score=0.903 total time=   0.8s\n",
      "[CV 1/5] END C=3.1622776601683795, degree=3, gamma=auto, kernel=poly;, score=0.889 total time=   0.7s\n",
      "[CV 2/5] END C=3.1622776601683795, degree=3, gamma=auto, kernel=poly;, score=0.891 total time=   0.6s\n",
      "[CV 3/5] END C=3.1622776601683795, degree=3, gamma=auto, kernel=poly;, score=0.891 total time=   0.9s\n",
      "[CV 4/5] END C=3.1622776601683795, degree=3, gamma=auto, kernel=poly;, score=0.891 total time=   0.6s\n",
      "[CV 5/5] END C=3.1622776601683795, degree=3, gamma=auto, kernel=poly;, score=0.891 total time=   0.8s\n",
      "[CV 1/5] END C=3.1622776601683795, degree=3, gamma=auto, kernel=rbf;, score=0.894 total time=   0.9s\n",
      "[CV 2/5] END C=3.1622776601683795, degree=3, gamma=auto, kernel=rbf;, score=0.898 total time=   1.0s\n",
      "[CV 3/5] END C=3.1622776601683795, degree=3, gamma=auto, kernel=rbf;, score=0.898 total time=   0.9s\n",
      "[CV 4/5] END C=3.1622776601683795, degree=3, gamma=auto, kernel=rbf;, score=0.907 total time=   0.7s\n",
      "[CV 5/5] END C=3.1622776601683795, degree=3, gamma=auto, kernel=rbf;, score=0.900 total time=   0.7s\n"
     ]
    },
    {
     "name": "stderr",
     "output_type": "stream",
     "text": [
      "/opt/anaconda3/lib/python3.11/site-packages/sklearn/svm/_base.py:297: ConvergenceWarning: Solver terminated early (max_iter=10000).  Consider pre-processing your data with StandardScaler or MinMaxScaler.\n",
      "  warnings.warn(\n"
     ]
    },
    {
     "name": "stdout",
     "output_type": "stream",
     "text": [
      "[CV 1/5] END C=177.82794100389228, degree=1, gamma=scale, kernel=linear;, score=0.827 total time=   1.4s\n"
     ]
    },
    {
     "name": "stderr",
     "output_type": "stream",
     "text": [
      "/opt/anaconda3/lib/python3.11/site-packages/sklearn/svm/_base.py:297: ConvergenceWarning: Solver terminated early (max_iter=10000).  Consider pre-processing your data with StandardScaler or MinMaxScaler.\n",
      "  warnings.warn(\n"
     ]
    },
    {
     "name": "stdout",
     "output_type": "stream",
     "text": [
      "[CV 2/5] END C=177.82794100389228, degree=1, gamma=scale, kernel=linear;, score=0.885 total time=   1.5s\n"
     ]
    },
    {
     "name": "stderr",
     "output_type": "stream",
     "text": [
      "/opt/anaconda3/lib/python3.11/site-packages/sklearn/svm/_base.py:297: ConvergenceWarning: Solver terminated early (max_iter=10000).  Consider pre-processing your data with StandardScaler or MinMaxScaler.\n",
      "  warnings.warn(\n"
     ]
    },
    {
     "name": "stdout",
     "output_type": "stream",
     "text": [
      "[CV 3/5] END C=177.82794100389228, degree=1, gamma=scale, kernel=linear;, score=0.854 total time=   1.7s\n"
     ]
    },
    {
     "name": "stderr",
     "output_type": "stream",
     "text": [
      "/opt/anaconda3/lib/python3.11/site-packages/sklearn/svm/_base.py:297: ConvergenceWarning: Solver terminated early (max_iter=10000).  Consider pre-processing your data with StandardScaler or MinMaxScaler.\n",
      "  warnings.warn(\n"
     ]
    },
    {
     "name": "stdout",
     "output_type": "stream",
     "text": [
      "[CV 4/5] END C=177.82794100389228, degree=1, gamma=scale, kernel=linear;, score=0.889 total time=   1.8s\n"
     ]
    },
    {
     "name": "stderr",
     "output_type": "stream",
     "text": [
      "/opt/anaconda3/lib/python3.11/site-packages/sklearn/svm/_base.py:297: ConvergenceWarning: Solver terminated early (max_iter=10000).  Consider pre-processing your data with StandardScaler or MinMaxScaler.\n",
      "  warnings.warn(\n"
     ]
    },
    {
     "name": "stdout",
     "output_type": "stream",
     "text": [
      "[CV 5/5] END C=177.82794100389228, degree=1, gamma=scale, kernel=linear;, score=0.915 total time=   1.8s\n"
     ]
    },
    {
     "name": "stderr",
     "output_type": "stream",
     "text": [
      "/opt/anaconda3/lib/python3.11/site-packages/sklearn/svm/_base.py:297: ConvergenceWarning: Solver terminated early (max_iter=10000).  Consider pre-processing your data with StandardScaler or MinMaxScaler.\n",
      "  warnings.warn(\n"
     ]
    },
    {
     "name": "stdout",
     "output_type": "stream",
     "text": [
      "[CV 1/5] END C=177.82794100389228, degree=1, gamma=scale, kernel=poly;, score=0.901 total time=   1.7s\n"
     ]
    },
    {
     "name": "stderr",
     "output_type": "stream",
     "text": [
      "/opt/anaconda3/lib/python3.11/site-packages/sklearn/svm/_base.py:297: ConvergenceWarning: Solver terminated early (max_iter=10000).  Consider pre-processing your data with StandardScaler or MinMaxScaler.\n",
      "  warnings.warn(\n"
     ]
    },
    {
     "name": "stdout",
     "output_type": "stream",
     "text": [
      "[CV 2/5] END C=177.82794100389228, degree=1, gamma=scale, kernel=poly;, score=0.918 total time=   1.5s\n"
     ]
    },
    {
     "name": "stderr",
     "output_type": "stream",
     "text": [
      "/opt/anaconda3/lib/python3.11/site-packages/sklearn/svm/_base.py:297: ConvergenceWarning: Solver terminated early (max_iter=10000).  Consider pre-processing your data with StandardScaler or MinMaxScaler.\n",
      "  warnings.warn(\n"
     ]
    },
    {
     "name": "stdout",
     "output_type": "stream",
     "text": [
      "[CV 3/5] END C=177.82794100389228, degree=1, gamma=scale, kernel=poly;, score=0.906 total time=   2.1s\n"
     ]
    },
    {
     "name": "stderr",
     "output_type": "stream",
     "text": [
      "/opt/anaconda3/lib/python3.11/site-packages/sklearn/svm/_base.py:297: ConvergenceWarning: Solver terminated early (max_iter=10000).  Consider pre-processing your data with StandardScaler or MinMaxScaler.\n",
      "  warnings.warn(\n"
     ]
    },
    {
     "name": "stdout",
     "output_type": "stream",
     "text": [
      "[CV 4/5] END C=177.82794100389228, degree=1, gamma=scale, kernel=poly;, score=0.923 total time=   1.3s\n"
     ]
    },
    {
     "name": "stderr",
     "output_type": "stream",
     "text": [
      "/opt/anaconda3/lib/python3.11/site-packages/sklearn/svm/_base.py:297: ConvergenceWarning: Solver terminated early (max_iter=10000).  Consider pre-processing your data with StandardScaler or MinMaxScaler.\n",
      "  warnings.warn(\n"
     ]
    },
    {
     "name": "stdout",
     "output_type": "stream",
     "text": [
      "[CV 5/5] END C=177.82794100389228, degree=1, gamma=scale, kernel=poly;, score=0.909 total time=   1.1s\n"
     ]
    },
    {
     "name": "stderr",
     "output_type": "stream",
     "text": [
      "/opt/anaconda3/lib/python3.11/site-packages/sklearn/svm/_base.py:297: ConvergenceWarning: Solver terminated early (max_iter=10000).  Consider pre-processing your data with StandardScaler or MinMaxScaler.\n",
      "  warnings.warn(\n"
     ]
    },
    {
     "name": "stdout",
     "output_type": "stream",
     "text": [
      "[CV 1/5] END C=177.82794100389228, degree=1, gamma=scale, kernel=rbf;, score=0.888 total time=   1.4s\n"
     ]
    },
    {
     "name": "stderr",
     "output_type": "stream",
     "text": [
      "/opt/anaconda3/lib/python3.11/site-packages/sklearn/svm/_base.py:297: ConvergenceWarning: Solver terminated early (max_iter=10000).  Consider pre-processing your data with StandardScaler or MinMaxScaler.\n",
      "  warnings.warn(\n"
     ]
    },
    {
     "name": "stdout",
     "output_type": "stream",
     "text": [
      "[CV 2/5] END C=177.82794100389228, degree=1, gamma=scale, kernel=rbf;, score=0.882 total time=   1.6s\n"
     ]
    },
    {
     "name": "stderr",
     "output_type": "stream",
     "text": [
      "/opt/anaconda3/lib/python3.11/site-packages/sklearn/svm/_base.py:297: ConvergenceWarning: Solver terminated early (max_iter=10000).  Consider pre-processing your data with StandardScaler or MinMaxScaler.\n",
      "  warnings.warn(\n"
     ]
    },
    {
     "name": "stdout",
     "output_type": "stream",
     "text": [
      "[CV 3/5] END C=177.82794100389228, degree=1, gamma=scale, kernel=rbf;, score=0.888 total time=   1.4s\n"
     ]
    },
    {
     "name": "stderr",
     "output_type": "stream",
     "text": [
      "/opt/anaconda3/lib/python3.11/site-packages/sklearn/svm/_base.py:297: ConvergenceWarning: Solver terminated early (max_iter=10000).  Consider pre-processing your data with StandardScaler or MinMaxScaler.\n",
      "  warnings.warn(\n"
     ]
    },
    {
     "name": "stdout",
     "output_type": "stream",
     "text": [
      "[CV 4/5] END C=177.82794100389228, degree=1, gamma=scale, kernel=rbf;, score=0.906 total time=   1.7s\n"
     ]
    },
    {
     "name": "stderr",
     "output_type": "stream",
     "text": [
      "/opt/anaconda3/lib/python3.11/site-packages/sklearn/svm/_base.py:297: ConvergenceWarning: Solver terminated early (max_iter=10000).  Consider pre-processing your data with StandardScaler or MinMaxScaler.\n",
      "  warnings.warn(\n"
     ]
    },
    {
     "name": "stdout",
     "output_type": "stream",
     "text": [
      "[CV 5/5] END C=177.82794100389228, degree=1, gamma=scale, kernel=rbf;, score=0.897 total time=   1.9s\n"
     ]
    },
    {
     "name": "stderr",
     "output_type": "stream",
     "text": [
      "/opt/anaconda3/lib/python3.11/site-packages/sklearn/svm/_base.py:297: ConvergenceWarning: Solver terminated early (max_iter=10000).  Consider pre-processing your data with StandardScaler or MinMaxScaler.\n",
      "  warnings.warn(\n"
     ]
    },
    {
     "name": "stdout",
     "output_type": "stream",
     "text": [
      "[CV 1/5] END C=177.82794100389228, degree=1, gamma=auto, kernel=linear;, score=0.827 total time=   4.5s\n"
     ]
    },
    {
     "name": "stderr",
     "output_type": "stream",
     "text": [
      "/opt/anaconda3/lib/python3.11/site-packages/sklearn/svm/_base.py:297: ConvergenceWarning: Solver terminated early (max_iter=10000).  Consider pre-processing your data with StandardScaler or MinMaxScaler.\n",
      "  warnings.warn(\n"
     ]
    },
    {
     "name": "stdout",
     "output_type": "stream",
     "text": [
      "[CV 2/5] END C=177.82794100389228, degree=1, gamma=auto, kernel=linear;, score=0.885 total time=   1.9s\n"
     ]
    },
    {
     "name": "stderr",
     "output_type": "stream",
     "text": [
      "/opt/anaconda3/lib/python3.11/site-packages/sklearn/svm/_base.py:297: ConvergenceWarning: Solver terminated early (max_iter=10000).  Consider pre-processing your data with StandardScaler or MinMaxScaler.\n",
      "  warnings.warn(\n"
     ]
    },
    {
     "name": "stdout",
     "output_type": "stream",
     "text": [
      "[CV 3/5] END C=177.82794100389228, degree=1, gamma=auto, kernel=linear;, score=0.854 total time=   2.9s\n"
     ]
    },
    {
     "name": "stderr",
     "output_type": "stream",
     "text": [
      "/opt/anaconda3/lib/python3.11/site-packages/sklearn/svm/_base.py:297: ConvergenceWarning: Solver terminated early (max_iter=10000).  Consider pre-processing your data with StandardScaler or MinMaxScaler.\n",
      "  warnings.warn(\n"
     ]
    },
    {
     "name": "stdout",
     "output_type": "stream",
     "text": [
      "[CV 4/5] END C=177.82794100389228, degree=1, gamma=auto, kernel=linear;, score=0.889 total time=   1.5s\n"
     ]
    },
    {
     "name": "stderr",
     "output_type": "stream",
     "text": [
      "/opt/anaconda3/lib/python3.11/site-packages/sklearn/svm/_base.py:297: ConvergenceWarning: Solver terminated early (max_iter=10000).  Consider pre-processing your data with StandardScaler or MinMaxScaler.\n",
      "  warnings.warn(\n"
     ]
    },
    {
     "name": "stdout",
     "output_type": "stream",
     "text": [
      "[CV 5/5] END C=177.82794100389228, degree=1, gamma=auto, kernel=linear;, score=0.915 total time=   4.8s\n"
     ]
    },
    {
     "name": "stderr",
     "output_type": "stream",
     "text": [
      "/opt/anaconda3/lib/python3.11/site-packages/sklearn/svm/_base.py:297: ConvergenceWarning: Solver terminated early (max_iter=10000).  Consider pre-processing your data with StandardScaler or MinMaxScaler.\n",
      "  warnings.warn(\n"
     ]
    },
    {
     "name": "stdout",
     "output_type": "stream",
     "text": [
      "[CV 1/5] END C=177.82794100389228, degree=1, gamma=auto, kernel=poly;, score=0.904 total time=   1.1s\n"
     ]
    },
    {
     "name": "stderr",
     "output_type": "stream",
     "text": [
      "/opt/anaconda3/lib/python3.11/site-packages/sklearn/svm/_base.py:297: ConvergenceWarning: Solver terminated early (max_iter=10000).  Consider pre-processing your data with StandardScaler or MinMaxScaler.\n",
      "  warnings.warn(\n"
     ]
    },
    {
     "name": "stdout",
     "output_type": "stream",
     "text": [
      "[CV 2/5] END C=177.82794100389228, degree=1, gamma=auto, kernel=poly;, score=0.915 total time=   1.2s\n"
     ]
    },
    {
     "name": "stderr",
     "output_type": "stream",
     "text": [
      "/opt/anaconda3/lib/python3.11/site-packages/sklearn/svm/_base.py:297: ConvergenceWarning: Solver terminated early (max_iter=10000).  Consider pre-processing your data with StandardScaler or MinMaxScaler.\n",
      "  warnings.warn(\n"
     ]
    },
    {
     "name": "stdout",
     "output_type": "stream",
     "text": [
      "[CV 3/5] END C=177.82794100389228, degree=1, gamma=auto, kernel=poly;, score=0.907 total time=   0.6s\n"
     ]
    },
    {
     "name": "stderr",
     "output_type": "stream",
     "text": [
      "/opt/anaconda3/lib/python3.11/site-packages/sklearn/svm/_base.py:297: ConvergenceWarning: Solver terminated early (max_iter=10000).  Consider pre-processing your data with StandardScaler or MinMaxScaler.\n",
      "  warnings.warn(\n"
     ]
    },
    {
     "name": "stdout",
     "output_type": "stream",
     "text": [
      "[CV 4/5] END C=177.82794100389228, degree=1, gamma=auto, kernel=poly;, score=0.923 total time=   0.9s\n"
     ]
    },
    {
     "name": "stderr",
     "output_type": "stream",
     "text": [
      "/opt/anaconda3/lib/python3.11/site-packages/sklearn/svm/_base.py:297: ConvergenceWarning: Solver terminated early (max_iter=10000).  Consider pre-processing your data with StandardScaler or MinMaxScaler.\n",
      "  warnings.warn(\n"
     ]
    },
    {
     "name": "stdout",
     "output_type": "stream",
     "text": [
      "[CV 5/5] END C=177.82794100389228, degree=1, gamma=auto, kernel=poly;, score=0.903 total time=   2.3s\n"
     ]
    },
    {
     "name": "stderr",
     "output_type": "stream",
     "text": [
      "/opt/anaconda3/lib/python3.11/site-packages/sklearn/svm/_base.py:297: ConvergenceWarning: Solver terminated early (max_iter=10000).  Consider pre-processing your data with StandardScaler or MinMaxScaler.\n",
      "  warnings.warn(\n"
     ]
    },
    {
     "name": "stdout",
     "output_type": "stream",
     "text": [
      "[CV 1/5] END C=177.82794100389228, degree=1, gamma=auto, kernel=rbf;, score=0.894 total time=   2.6s\n"
     ]
    },
    {
     "name": "stderr",
     "output_type": "stream",
     "text": [
      "/opt/anaconda3/lib/python3.11/site-packages/sklearn/svm/_base.py:297: ConvergenceWarning: Solver terminated early (max_iter=10000).  Consider pre-processing your data with StandardScaler or MinMaxScaler.\n",
      "  warnings.warn(\n"
     ]
    },
    {
     "name": "stdout",
     "output_type": "stream",
     "text": [
      "[CV 2/5] END C=177.82794100389228, degree=1, gamma=auto, kernel=rbf;, score=0.903 total time=   1.6s\n"
     ]
    },
    {
     "name": "stderr",
     "output_type": "stream",
     "text": [
      "/opt/anaconda3/lib/python3.11/site-packages/sklearn/svm/_base.py:297: ConvergenceWarning: Solver terminated early (max_iter=10000).  Consider pre-processing your data with StandardScaler or MinMaxScaler.\n",
      "  warnings.warn(\n"
     ]
    },
    {
     "name": "stdout",
     "output_type": "stream",
     "text": [
      "[CV 3/5] END C=177.82794100389228, degree=1, gamma=auto, kernel=rbf;, score=0.901 total time=   1.9s\n"
     ]
    },
    {
     "name": "stderr",
     "output_type": "stream",
     "text": [
      "/opt/anaconda3/lib/python3.11/site-packages/sklearn/svm/_base.py:297: ConvergenceWarning: Solver terminated early (max_iter=10000).  Consider pre-processing your data with StandardScaler or MinMaxScaler.\n",
      "  warnings.warn(\n"
     ]
    },
    {
     "name": "stdout",
     "output_type": "stream",
     "text": [
      "[CV 4/5] END C=177.82794100389228, degree=1, gamma=auto, kernel=rbf;, score=0.914 total time=   1.5s\n"
     ]
    },
    {
     "name": "stderr",
     "output_type": "stream",
     "text": [
      "/opt/anaconda3/lib/python3.11/site-packages/sklearn/svm/_base.py:297: ConvergenceWarning: Solver terminated early (max_iter=10000).  Consider pre-processing your data with StandardScaler or MinMaxScaler.\n",
      "  warnings.warn(\n"
     ]
    },
    {
     "name": "stdout",
     "output_type": "stream",
     "text": [
      "[CV 5/5] END C=177.82794100389228, degree=1, gamma=auto, kernel=rbf;, score=0.907 total time=   0.9s\n"
     ]
    },
    {
     "name": "stderr",
     "output_type": "stream",
     "text": [
      "/opt/anaconda3/lib/python3.11/site-packages/sklearn/svm/_base.py:297: ConvergenceWarning: Solver terminated early (max_iter=10000).  Consider pre-processing your data with StandardScaler or MinMaxScaler.\n",
      "  warnings.warn(\n"
     ]
    },
    {
     "name": "stdout",
     "output_type": "stream",
     "text": [
      "[CV 1/5] END C=177.82794100389228, degree=3, gamma=scale, kernel=linear;, score=0.827 total time=   2.2s\n"
     ]
    },
    {
     "name": "stderr",
     "output_type": "stream",
     "text": [
      "/opt/anaconda3/lib/python3.11/site-packages/sklearn/svm/_base.py:297: ConvergenceWarning: Solver terminated early (max_iter=10000).  Consider pre-processing your data with StandardScaler or MinMaxScaler.\n",
      "  warnings.warn(\n"
     ]
    },
    {
     "name": "stdout",
     "output_type": "stream",
     "text": [
      "[CV 2/5] END C=177.82794100389228, degree=3, gamma=scale, kernel=linear;, score=0.885 total time=   1.4s\n"
     ]
    },
    {
     "name": "stderr",
     "output_type": "stream",
     "text": [
      "/opt/anaconda3/lib/python3.11/site-packages/sklearn/svm/_base.py:297: ConvergenceWarning: Solver terminated early (max_iter=10000).  Consider pre-processing your data with StandardScaler or MinMaxScaler.\n",
      "  warnings.warn(\n"
     ]
    },
    {
     "name": "stdout",
     "output_type": "stream",
     "text": [
      "[CV 3/5] END C=177.82794100389228, degree=3, gamma=scale, kernel=linear;, score=0.854 total time=   1.4s\n"
     ]
    },
    {
     "name": "stderr",
     "output_type": "stream",
     "text": [
      "/opt/anaconda3/lib/python3.11/site-packages/sklearn/svm/_base.py:297: ConvergenceWarning: Solver terminated early (max_iter=10000).  Consider pre-processing your data with StandardScaler or MinMaxScaler.\n",
      "  warnings.warn(\n"
     ]
    },
    {
     "name": "stdout",
     "output_type": "stream",
     "text": [
      "[CV 4/5] END C=177.82794100389228, degree=3, gamma=scale, kernel=linear;, score=0.889 total time=   1.4s\n"
     ]
    },
    {
     "name": "stderr",
     "output_type": "stream",
     "text": [
      "/opt/anaconda3/lib/python3.11/site-packages/sklearn/svm/_base.py:297: ConvergenceWarning: Solver terminated early (max_iter=10000).  Consider pre-processing your data with StandardScaler or MinMaxScaler.\n",
      "  warnings.warn(\n"
     ]
    },
    {
     "name": "stdout",
     "output_type": "stream",
     "text": [
      "[CV 5/5] END C=177.82794100389228, degree=3, gamma=scale, kernel=linear;, score=0.915 total time=   1.4s\n"
     ]
    },
    {
     "name": "stderr",
     "output_type": "stream",
     "text": [
      "/opt/anaconda3/lib/python3.11/site-packages/sklearn/svm/_base.py:297: ConvergenceWarning: Solver terminated early (max_iter=10000).  Consider pre-processing your data with StandardScaler or MinMaxScaler.\n",
      "  warnings.warn(\n"
     ]
    },
    {
     "name": "stdout",
     "output_type": "stream",
     "text": [
      "[CV 1/5] END C=177.82794100389228, degree=3, gamma=scale, kernel=poly;, score=0.876 total time=   1.1s\n"
     ]
    },
    {
     "name": "stderr",
     "output_type": "stream",
     "text": [
      "/opt/anaconda3/lib/python3.11/site-packages/sklearn/svm/_base.py:297: ConvergenceWarning: Solver terminated early (max_iter=10000).  Consider pre-processing your data with StandardScaler or MinMaxScaler.\n",
      "  warnings.warn(\n"
     ]
    },
    {
     "name": "stdout",
     "output_type": "stream",
     "text": [
      "[CV 2/5] END C=177.82794100389228, degree=3, gamma=scale, kernel=poly;, score=0.845 total time=   1.3s\n"
     ]
    },
    {
     "name": "stderr",
     "output_type": "stream",
     "text": [
      "/opt/anaconda3/lib/python3.11/site-packages/sklearn/svm/_base.py:297: ConvergenceWarning: Solver terminated early (max_iter=10000).  Consider pre-processing your data with StandardScaler or MinMaxScaler.\n",
      "  warnings.warn(\n"
     ]
    },
    {
     "name": "stdout",
     "output_type": "stream",
     "text": [
      "[CV 3/5] END C=177.82794100389228, degree=3, gamma=scale, kernel=poly;, score=0.869 total time=   1.2s\n"
     ]
    },
    {
     "name": "stderr",
     "output_type": "stream",
     "text": [
      "/opt/anaconda3/lib/python3.11/site-packages/sklearn/svm/_base.py:297: ConvergenceWarning: Solver terminated early (max_iter=10000).  Consider pre-processing your data with StandardScaler or MinMaxScaler.\n",
      "  warnings.warn(\n"
     ]
    },
    {
     "name": "stdout",
     "output_type": "stream",
     "text": [
      "[CV 4/5] END C=177.82794100389228, degree=3, gamma=scale, kernel=poly;, score=0.835 total time=   1.3s\n"
     ]
    },
    {
     "name": "stderr",
     "output_type": "stream",
     "text": [
      "/opt/anaconda3/lib/python3.11/site-packages/sklearn/svm/_base.py:297: ConvergenceWarning: Solver terminated early (max_iter=10000).  Consider pre-processing your data with StandardScaler or MinMaxScaler.\n",
      "  warnings.warn(\n"
     ]
    },
    {
     "name": "stdout",
     "output_type": "stream",
     "text": [
      "[CV 5/5] END C=177.82794100389228, degree=3, gamma=scale, kernel=poly;, score=0.886 total time=   1.3s\n"
     ]
    },
    {
     "name": "stderr",
     "output_type": "stream",
     "text": [
      "/opt/anaconda3/lib/python3.11/site-packages/sklearn/svm/_base.py:297: ConvergenceWarning: Solver terminated early (max_iter=10000).  Consider pre-processing your data with StandardScaler or MinMaxScaler.\n",
      "  warnings.warn(\n"
     ]
    },
    {
     "name": "stdout",
     "output_type": "stream",
     "text": [
      "[CV 1/5] END C=177.82794100389228, degree=3, gamma=scale, kernel=rbf;, score=0.888 total time=   0.9s\n"
     ]
    },
    {
     "name": "stderr",
     "output_type": "stream",
     "text": [
      "/opt/anaconda3/lib/python3.11/site-packages/sklearn/svm/_base.py:297: ConvergenceWarning: Solver terminated early (max_iter=10000).  Consider pre-processing your data with StandardScaler or MinMaxScaler.\n",
      "  warnings.warn(\n"
     ]
    },
    {
     "name": "stdout",
     "output_type": "stream",
     "text": [
      "[CV 2/5] END C=177.82794100389228, degree=3, gamma=scale, kernel=rbf;, score=0.882 total time=   0.9s\n"
     ]
    },
    {
     "name": "stderr",
     "output_type": "stream",
     "text": [
      "/opt/anaconda3/lib/python3.11/site-packages/sklearn/svm/_base.py:297: ConvergenceWarning: Solver terminated early (max_iter=10000).  Consider pre-processing your data with StandardScaler or MinMaxScaler.\n",
      "  warnings.warn(\n"
     ]
    },
    {
     "name": "stdout",
     "output_type": "stream",
     "text": [
      "[CV 3/5] END C=177.82794100389228, degree=3, gamma=scale, kernel=rbf;, score=0.888 total time=   0.9s\n"
     ]
    },
    {
     "name": "stderr",
     "output_type": "stream",
     "text": [
      "/opt/anaconda3/lib/python3.11/site-packages/sklearn/svm/_base.py:297: ConvergenceWarning: Solver terminated early (max_iter=10000).  Consider pre-processing your data with StandardScaler or MinMaxScaler.\n",
      "  warnings.warn(\n"
     ]
    },
    {
     "name": "stdout",
     "output_type": "stream",
     "text": [
      "[CV 4/5] END C=177.82794100389228, degree=3, gamma=scale, kernel=rbf;, score=0.906 total time=   1.0s\n"
     ]
    },
    {
     "name": "stderr",
     "output_type": "stream",
     "text": [
      "/opt/anaconda3/lib/python3.11/site-packages/sklearn/svm/_base.py:297: ConvergenceWarning: Solver terminated early (max_iter=10000).  Consider pre-processing your data with StandardScaler or MinMaxScaler.\n",
      "  warnings.warn(\n"
     ]
    },
    {
     "name": "stdout",
     "output_type": "stream",
     "text": [
      "[CV 5/5] END C=177.82794100389228, degree=3, gamma=scale, kernel=rbf;, score=0.897 total time=   0.9s\n"
     ]
    },
    {
     "name": "stderr",
     "output_type": "stream",
     "text": [
      "/opt/anaconda3/lib/python3.11/site-packages/sklearn/svm/_base.py:297: ConvergenceWarning: Solver terminated early (max_iter=10000).  Consider pre-processing your data with StandardScaler or MinMaxScaler.\n",
      "  warnings.warn(\n"
     ]
    },
    {
     "name": "stdout",
     "output_type": "stream",
     "text": [
      "[CV 1/5] END C=177.82794100389228, degree=3, gamma=auto, kernel=linear;, score=0.827 total time=   1.3s\n"
     ]
    },
    {
     "name": "stderr",
     "output_type": "stream",
     "text": [
      "/opt/anaconda3/lib/python3.11/site-packages/sklearn/svm/_base.py:297: ConvergenceWarning: Solver terminated early (max_iter=10000).  Consider pre-processing your data with StandardScaler or MinMaxScaler.\n",
      "  warnings.warn(\n"
     ]
    },
    {
     "name": "stdout",
     "output_type": "stream",
     "text": [
      "[CV 2/5] END C=177.82794100389228, degree=3, gamma=auto, kernel=linear;, score=0.885 total time=   1.4s\n"
     ]
    },
    {
     "name": "stderr",
     "output_type": "stream",
     "text": [
      "/opt/anaconda3/lib/python3.11/site-packages/sklearn/svm/_base.py:297: ConvergenceWarning: Solver terminated early (max_iter=10000).  Consider pre-processing your data with StandardScaler or MinMaxScaler.\n",
      "  warnings.warn(\n"
     ]
    },
    {
     "name": "stdout",
     "output_type": "stream",
     "text": [
      "[CV 3/5] END C=177.82794100389228, degree=3, gamma=auto, kernel=linear;, score=0.854 total time=   1.4s\n"
     ]
    },
    {
     "name": "stderr",
     "output_type": "stream",
     "text": [
      "/opt/anaconda3/lib/python3.11/site-packages/sklearn/svm/_base.py:297: ConvergenceWarning: Solver terminated early (max_iter=10000).  Consider pre-processing your data with StandardScaler or MinMaxScaler.\n",
      "  warnings.warn(\n"
     ]
    },
    {
     "name": "stdout",
     "output_type": "stream",
     "text": [
      "[CV 4/5] END C=177.82794100389228, degree=3, gamma=auto, kernel=linear;, score=0.889 total time=   1.5s\n"
     ]
    },
    {
     "name": "stderr",
     "output_type": "stream",
     "text": [
      "/opt/anaconda3/lib/python3.11/site-packages/sklearn/svm/_base.py:297: ConvergenceWarning: Solver terminated early (max_iter=10000).  Consider pre-processing your data with StandardScaler or MinMaxScaler.\n",
      "  warnings.warn(\n"
     ]
    },
    {
     "name": "stdout",
     "output_type": "stream",
     "text": [
      "[CV 5/5] END C=177.82794100389228, degree=3, gamma=auto, kernel=linear;, score=0.915 total time=   1.4s\n",
      "[CV 1/5] END C=177.82794100389228, degree=3, gamma=auto, kernel=poly;, score=0.894 total time=   0.4s\n",
      "[CV 2/5] END C=177.82794100389228, degree=3, gamma=auto, kernel=poly;, score=0.910 total time=   0.4s\n",
      "[CV 3/5] END C=177.82794100389228, degree=3, gamma=auto, kernel=poly;, score=0.895 total time=   0.5s\n",
      "[CV 4/5] END C=177.82794100389228, degree=3, gamma=auto, kernel=poly;, score=0.915 total time=   0.4s\n",
      "[CV 5/5] END C=177.82794100389228, degree=3, gamma=auto, kernel=poly;, score=0.901 total time=   0.5s\n"
     ]
    },
    {
     "name": "stderr",
     "output_type": "stream",
     "text": [
      "/opt/anaconda3/lib/python3.11/site-packages/sklearn/svm/_base.py:297: ConvergenceWarning: Solver terminated early (max_iter=10000).  Consider pre-processing your data with StandardScaler or MinMaxScaler.\n",
      "  warnings.warn(\n"
     ]
    },
    {
     "name": "stdout",
     "output_type": "stream",
     "text": [
      "[CV 1/5] END C=177.82794100389228, degree=3, gamma=auto, kernel=rbf;, score=0.894 total time=   1.1s\n"
     ]
    },
    {
     "name": "stderr",
     "output_type": "stream",
     "text": [
      "/opt/anaconda3/lib/python3.11/site-packages/sklearn/svm/_base.py:297: ConvergenceWarning: Solver terminated early (max_iter=10000).  Consider pre-processing your data with StandardScaler or MinMaxScaler.\n",
      "  warnings.warn(\n"
     ]
    },
    {
     "name": "stdout",
     "output_type": "stream",
     "text": [
      "[CV 2/5] END C=177.82794100389228, degree=3, gamma=auto, kernel=rbf;, score=0.903 total time=   0.9s\n"
     ]
    },
    {
     "name": "stderr",
     "output_type": "stream",
     "text": [
      "/opt/anaconda3/lib/python3.11/site-packages/sklearn/svm/_base.py:297: ConvergenceWarning: Solver terminated early (max_iter=10000).  Consider pre-processing your data with StandardScaler or MinMaxScaler.\n",
      "  warnings.warn(\n"
     ]
    },
    {
     "name": "stdout",
     "output_type": "stream",
     "text": [
      "[CV 3/5] END C=177.82794100389228, degree=3, gamma=auto, kernel=rbf;, score=0.901 total time=   0.8s\n"
     ]
    },
    {
     "name": "stderr",
     "output_type": "stream",
     "text": [
      "/opt/anaconda3/lib/python3.11/site-packages/sklearn/svm/_base.py:297: ConvergenceWarning: Solver terminated early (max_iter=10000).  Consider pre-processing your data with StandardScaler or MinMaxScaler.\n",
      "  warnings.warn(\n"
     ]
    },
    {
     "name": "stdout",
     "output_type": "stream",
     "text": [
      "[CV 4/5] END C=177.82794100389228, degree=3, gamma=auto, kernel=rbf;, score=0.914 total time=   0.8s\n"
     ]
    },
    {
     "name": "stderr",
     "output_type": "stream",
     "text": [
      "/opt/anaconda3/lib/python3.11/site-packages/sklearn/svm/_base.py:297: ConvergenceWarning: Solver terminated early (max_iter=10000).  Consider pre-processing your data with StandardScaler or MinMaxScaler.\n",
      "  warnings.warn(\n"
     ]
    },
    {
     "name": "stdout",
     "output_type": "stream",
     "text": [
      "[CV 5/5] END C=177.82794100389228, degree=3, gamma=auto, kernel=rbf;, score=0.907 total time=   0.8s\n"
     ]
    },
    {
     "name": "stderr",
     "output_type": "stream",
     "text": [
      "/opt/anaconda3/lib/python3.11/site-packages/sklearn/svm/_base.py:297: ConvergenceWarning: Solver terminated early (max_iter=10000).  Consider pre-processing your data with StandardScaler or MinMaxScaler.\n",
      "  warnings.warn(\n"
     ]
    },
    {
     "name": "stdout",
     "output_type": "stream",
     "text": [
      "[CV 1/5] END C=10000.0, degree=1, gamma=scale, kernel=linear;, score=0.733 total time=   1.5s\n"
     ]
    },
    {
     "name": "stderr",
     "output_type": "stream",
     "text": [
      "/opt/anaconda3/lib/python3.11/site-packages/sklearn/svm/_base.py:297: ConvergenceWarning: Solver terminated early (max_iter=10000).  Consider pre-processing your data with StandardScaler or MinMaxScaler.\n",
      "  warnings.warn(\n"
     ]
    },
    {
     "name": "stdout",
     "output_type": "stream",
     "text": [
      "[CV 2/5] END C=10000.0, degree=1, gamma=scale, kernel=linear;, score=0.744 total time=   1.5s\n"
     ]
    },
    {
     "name": "stderr",
     "output_type": "stream",
     "text": [
      "/opt/anaconda3/lib/python3.11/site-packages/sklearn/svm/_base.py:297: ConvergenceWarning: Solver terminated early (max_iter=10000).  Consider pre-processing your data with StandardScaler or MinMaxScaler.\n",
      "  warnings.warn(\n"
     ]
    },
    {
     "name": "stdout",
     "output_type": "stream",
     "text": [
      "[CV 3/5] END C=10000.0, degree=1, gamma=scale, kernel=linear;, score=0.561 total time=   1.5s\n"
     ]
    },
    {
     "name": "stderr",
     "output_type": "stream",
     "text": [
      "/opt/anaconda3/lib/python3.11/site-packages/sklearn/svm/_base.py:297: ConvergenceWarning: Solver terminated early (max_iter=10000).  Consider pre-processing your data with StandardScaler or MinMaxScaler.\n",
      "  warnings.warn(\n"
     ]
    },
    {
     "name": "stdout",
     "output_type": "stream",
     "text": [
      "[CV 4/5] END C=10000.0, degree=1, gamma=scale, kernel=linear;, score=0.516 total time=   1.6s\n"
     ]
    },
    {
     "name": "stderr",
     "output_type": "stream",
     "text": [
      "/opt/anaconda3/lib/python3.11/site-packages/sklearn/svm/_base.py:297: ConvergenceWarning: Solver terminated early (max_iter=10000).  Consider pre-processing your data with StandardScaler or MinMaxScaler.\n",
      "  warnings.warn(\n"
     ]
    },
    {
     "name": "stdout",
     "output_type": "stream",
     "text": [
      "[CV 5/5] END C=10000.0, degree=1, gamma=scale, kernel=linear;, score=0.408 total time=   2.1s\n"
     ]
    },
    {
     "name": "stderr",
     "output_type": "stream",
     "text": [
      "/opt/anaconda3/lib/python3.11/site-packages/sklearn/svm/_base.py:297: ConvergenceWarning: Solver terminated early (max_iter=10000).  Consider pre-processing your data with StandardScaler or MinMaxScaler.\n",
      "  warnings.warn(\n"
     ]
    },
    {
     "name": "stdout",
     "output_type": "stream",
     "text": [
      "[CV 1/5] END C=10000.0, degree=1, gamma=scale, kernel=poly;, score=0.754 total time=   2.1s\n"
     ]
    },
    {
     "name": "stderr",
     "output_type": "stream",
     "text": [
      "/opt/anaconda3/lib/python3.11/site-packages/sklearn/svm/_base.py:297: ConvergenceWarning: Solver terminated early (max_iter=10000).  Consider pre-processing your data with StandardScaler or MinMaxScaler.\n",
      "  warnings.warn(\n"
     ]
    },
    {
     "name": "stdout",
     "output_type": "stream",
     "text": [
      "[CV 2/5] END C=10000.0, degree=1, gamma=scale, kernel=poly;, score=0.605 total time=   2.0s\n"
     ]
    },
    {
     "name": "stderr",
     "output_type": "stream",
     "text": [
      "/opt/anaconda3/lib/python3.11/site-packages/sklearn/svm/_base.py:297: ConvergenceWarning: Solver terminated early (max_iter=10000).  Consider pre-processing your data with StandardScaler or MinMaxScaler.\n",
      "  warnings.warn(\n"
     ]
    },
    {
     "name": "stdout",
     "output_type": "stream",
     "text": [
      "[CV 3/5] END C=10000.0, degree=1, gamma=scale, kernel=poly;, score=0.640 total time=   1.6s\n"
     ]
    },
    {
     "name": "stderr",
     "output_type": "stream",
     "text": [
      "/opt/anaconda3/lib/python3.11/site-packages/sklearn/svm/_base.py:297: ConvergenceWarning: Solver terminated early (max_iter=10000).  Consider pre-processing your data with StandardScaler or MinMaxScaler.\n",
      "  warnings.warn(\n"
     ]
    },
    {
     "name": "stdout",
     "output_type": "stream",
     "text": [
      "[CV 4/5] END C=10000.0, degree=1, gamma=scale, kernel=poly;, score=0.517 total time=   1.6s\n"
     ]
    },
    {
     "name": "stderr",
     "output_type": "stream",
     "text": [
      "/opt/anaconda3/lib/python3.11/site-packages/sklearn/svm/_base.py:297: ConvergenceWarning: Solver terminated early (max_iter=10000).  Consider pre-processing your data with StandardScaler or MinMaxScaler.\n",
      "  warnings.warn(\n"
     ]
    },
    {
     "name": "stdout",
     "output_type": "stream",
     "text": [
      "[CV 5/5] END C=10000.0, degree=1, gamma=scale, kernel=poly;, score=0.530 total time=   1.6s\n"
     ]
    },
    {
     "name": "stderr",
     "output_type": "stream",
     "text": [
      "/opt/anaconda3/lib/python3.11/site-packages/sklearn/svm/_base.py:297: ConvergenceWarning: Solver terminated early (max_iter=10000).  Consider pre-processing your data with StandardScaler or MinMaxScaler.\n",
      "  warnings.warn(\n"
     ]
    },
    {
     "name": "stdout",
     "output_type": "stream",
     "text": [
      "[CV 1/5] END C=10000.0, degree=1, gamma=scale, kernel=rbf;, score=0.866 total time=   3.3s\n"
     ]
    },
    {
     "name": "stderr",
     "output_type": "stream",
     "text": [
      "/opt/anaconda3/lib/python3.11/site-packages/sklearn/svm/_base.py:297: ConvergenceWarning: Solver terminated early (max_iter=10000).  Consider pre-processing your data with StandardScaler or MinMaxScaler.\n",
      "  warnings.warn(\n"
     ]
    },
    {
     "name": "stdout",
     "output_type": "stream",
     "text": [
      "[CV 2/5] END C=10000.0, degree=1, gamma=scale, kernel=rbf;, score=0.865 total time=   2.0s\n"
     ]
    },
    {
     "name": "stderr",
     "output_type": "stream",
     "text": [
      "/opt/anaconda3/lib/python3.11/site-packages/sklearn/svm/_base.py:297: ConvergenceWarning: Solver terminated early (max_iter=10000).  Consider pre-processing your data with StandardScaler or MinMaxScaler.\n",
      "  warnings.warn(\n"
     ]
    },
    {
     "name": "stdout",
     "output_type": "stream",
     "text": [
      "[CV 3/5] END C=10000.0, degree=1, gamma=scale, kernel=rbf;, score=0.868 total time=   1.0s\n"
     ]
    },
    {
     "name": "stderr",
     "output_type": "stream",
     "text": [
      "/opt/anaconda3/lib/python3.11/site-packages/sklearn/svm/_base.py:297: ConvergenceWarning: Solver terminated early (max_iter=10000).  Consider pre-processing your data with StandardScaler or MinMaxScaler.\n",
      "  warnings.warn(\n"
     ]
    },
    {
     "name": "stdout",
     "output_type": "stream",
     "text": [
      "[CV 4/5] END C=10000.0, degree=1, gamma=scale, kernel=rbf;, score=0.862 total time=   1.0s\n"
     ]
    },
    {
     "name": "stderr",
     "output_type": "stream",
     "text": [
      "/opt/anaconda3/lib/python3.11/site-packages/sklearn/svm/_base.py:297: ConvergenceWarning: Solver terminated early (max_iter=10000).  Consider pre-processing your data with StandardScaler or MinMaxScaler.\n",
      "  warnings.warn(\n"
     ]
    },
    {
     "name": "stdout",
     "output_type": "stream",
     "text": [
      "[CV 5/5] END C=10000.0, degree=1, gamma=scale, kernel=rbf;, score=0.871 total time=   1.1s\n"
     ]
    },
    {
     "name": "stderr",
     "output_type": "stream",
     "text": [
      "/opt/anaconda3/lib/python3.11/site-packages/sklearn/svm/_base.py:297: ConvergenceWarning: Solver terminated early (max_iter=10000).  Consider pre-processing your data with StandardScaler or MinMaxScaler.\n",
      "  warnings.warn(\n"
     ]
    },
    {
     "name": "stdout",
     "output_type": "stream",
     "text": [
      "[CV 1/5] END C=10000.0, degree=1, gamma=auto, kernel=linear;, score=0.733 total time=   1.6s\n"
     ]
    },
    {
     "name": "stderr",
     "output_type": "stream",
     "text": [
      "/opt/anaconda3/lib/python3.11/site-packages/sklearn/svm/_base.py:297: ConvergenceWarning: Solver terminated early (max_iter=10000).  Consider pre-processing your data with StandardScaler or MinMaxScaler.\n",
      "  warnings.warn(\n"
     ]
    },
    {
     "name": "stdout",
     "output_type": "stream",
     "text": [
      "[CV 2/5] END C=10000.0, degree=1, gamma=auto, kernel=linear;, score=0.744 total time=   1.6s\n"
     ]
    },
    {
     "name": "stderr",
     "output_type": "stream",
     "text": [
      "/opt/anaconda3/lib/python3.11/site-packages/sklearn/svm/_base.py:297: ConvergenceWarning: Solver terminated early (max_iter=10000).  Consider pre-processing your data with StandardScaler or MinMaxScaler.\n",
      "  warnings.warn(\n"
     ]
    },
    {
     "name": "stdout",
     "output_type": "stream",
     "text": [
      "[CV 3/5] END C=10000.0, degree=1, gamma=auto, kernel=linear;, score=0.561 total time=   1.6s\n"
     ]
    },
    {
     "name": "stderr",
     "output_type": "stream",
     "text": [
      "/opt/anaconda3/lib/python3.11/site-packages/sklearn/svm/_base.py:297: ConvergenceWarning: Solver terminated early (max_iter=10000).  Consider pre-processing your data with StandardScaler or MinMaxScaler.\n",
      "  warnings.warn(\n"
     ]
    },
    {
     "name": "stdout",
     "output_type": "stream",
     "text": [
      "[CV 4/5] END C=10000.0, degree=1, gamma=auto, kernel=linear;, score=0.516 total time=   1.5s\n"
     ]
    },
    {
     "name": "stderr",
     "output_type": "stream",
     "text": [
      "/opt/anaconda3/lib/python3.11/site-packages/sklearn/svm/_base.py:297: ConvergenceWarning: Solver terminated early (max_iter=10000).  Consider pre-processing your data with StandardScaler or MinMaxScaler.\n",
      "  warnings.warn(\n"
     ]
    },
    {
     "name": "stdout",
     "output_type": "stream",
     "text": [
      "[CV 5/5] END C=10000.0, degree=1, gamma=auto, kernel=linear;, score=0.408 total time=   1.7s\n"
     ]
    },
    {
     "name": "stderr",
     "output_type": "stream",
     "text": [
      "/opt/anaconda3/lib/python3.11/site-packages/sklearn/svm/_base.py:297: ConvergenceWarning: Solver terminated early (max_iter=10000).  Consider pre-processing your data with StandardScaler or MinMaxScaler.\n",
      "  warnings.warn(\n"
     ]
    },
    {
     "name": "stdout",
     "output_type": "stream",
     "text": [
      "[CV 1/5] END C=10000.0, degree=1, gamma=auto, kernel=poly;, score=0.769 total time=   1.6s\n"
     ]
    },
    {
     "name": "stderr",
     "output_type": "stream",
     "text": [
      "/opt/anaconda3/lib/python3.11/site-packages/sklearn/svm/_base.py:297: ConvergenceWarning: Solver terminated early (max_iter=10000).  Consider pre-processing your data with StandardScaler or MinMaxScaler.\n",
      "  warnings.warn(\n"
     ]
    },
    {
     "name": "stdout",
     "output_type": "stream",
     "text": [
      "[CV 2/5] END C=10000.0, degree=1, gamma=auto, kernel=poly;, score=0.690 total time=   1.5s\n"
     ]
    },
    {
     "name": "stderr",
     "output_type": "stream",
     "text": [
      "/opt/anaconda3/lib/python3.11/site-packages/sklearn/svm/_base.py:297: ConvergenceWarning: Solver terminated early (max_iter=10000).  Consider pre-processing your data with StandardScaler or MinMaxScaler.\n",
      "  warnings.warn(\n"
     ]
    },
    {
     "name": "stdout",
     "output_type": "stream",
     "text": [
      "[CV 3/5] END C=10000.0, degree=1, gamma=auto, kernel=poly;, score=0.739 total time=   2.0s\n"
     ]
    },
    {
     "name": "stderr",
     "output_type": "stream",
     "text": [
      "/opt/anaconda3/lib/python3.11/site-packages/sklearn/svm/_base.py:297: ConvergenceWarning: Solver terminated early (max_iter=10000).  Consider pre-processing your data with StandardScaler or MinMaxScaler.\n",
      "  warnings.warn(\n"
     ]
    },
    {
     "name": "stdout",
     "output_type": "stream",
     "text": [
      "[CV 4/5] END C=10000.0, degree=1, gamma=auto, kernel=poly;, score=0.581 total time=   1.6s\n"
     ]
    },
    {
     "name": "stderr",
     "output_type": "stream",
     "text": [
      "/opt/anaconda3/lib/python3.11/site-packages/sklearn/svm/_base.py:297: ConvergenceWarning: Solver terminated early (max_iter=10000).  Consider pre-processing your data with StandardScaler or MinMaxScaler.\n",
      "  warnings.warn(\n"
     ]
    },
    {
     "name": "stdout",
     "output_type": "stream",
     "text": [
      "[CV 5/5] END C=10000.0, degree=1, gamma=auto, kernel=poly;, score=0.772 total time=   1.8s\n"
     ]
    },
    {
     "name": "stderr",
     "output_type": "stream",
     "text": [
      "/opt/anaconda3/lib/python3.11/site-packages/sklearn/svm/_base.py:297: ConvergenceWarning: Solver terminated early (max_iter=10000).  Consider pre-processing your data with StandardScaler or MinMaxScaler.\n",
      "  warnings.warn(\n"
     ]
    },
    {
     "name": "stdout",
     "output_type": "stream",
     "text": [
      "[CV 1/5] END C=10000.0, degree=1, gamma=auto, kernel=rbf;, score=0.809 total time=   2.3s\n"
     ]
    },
    {
     "name": "stderr",
     "output_type": "stream",
     "text": [
      "/opt/anaconda3/lib/python3.11/site-packages/sklearn/svm/_base.py:297: ConvergenceWarning: Solver terminated early (max_iter=10000).  Consider pre-processing your data with StandardScaler or MinMaxScaler.\n",
      "  warnings.warn(\n"
     ]
    },
    {
     "name": "stdout",
     "output_type": "stream",
     "text": [
      "[CV 2/5] END C=10000.0, degree=1, gamma=auto, kernel=rbf;, score=0.778 total time=   1.9s\n"
     ]
    },
    {
     "name": "stderr",
     "output_type": "stream",
     "text": [
      "/opt/anaconda3/lib/python3.11/site-packages/sklearn/svm/_base.py:297: ConvergenceWarning: Solver terminated early (max_iter=10000).  Consider pre-processing your data with StandardScaler or MinMaxScaler.\n",
      "  warnings.warn(\n"
     ]
    },
    {
     "name": "stdout",
     "output_type": "stream",
     "text": [
      "[CV 3/5] END C=10000.0, degree=1, gamma=auto, kernel=rbf;, score=0.825 total time=   2.6s\n"
     ]
    },
    {
     "name": "stderr",
     "output_type": "stream",
     "text": [
      "/opt/anaconda3/lib/python3.11/site-packages/sklearn/svm/_base.py:297: ConvergenceWarning: Solver terminated early (max_iter=10000).  Consider pre-processing your data with StandardScaler or MinMaxScaler.\n",
      "  warnings.warn(\n"
     ]
    },
    {
     "name": "stdout",
     "output_type": "stream",
     "text": [
      "[CV 4/5] END C=10000.0, degree=1, gamma=auto, kernel=rbf;, score=0.851 total time=   3.0s\n"
     ]
    },
    {
     "name": "stderr",
     "output_type": "stream",
     "text": [
      "/opt/anaconda3/lib/python3.11/site-packages/sklearn/svm/_base.py:297: ConvergenceWarning: Solver terminated early (max_iter=10000).  Consider pre-processing your data with StandardScaler or MinMaxScaler.\n",
      "  warnings.warn(\n"
     ]
    },
    {
     "name": "stdout",
     "output_type": "stream",
     "text": [
      "[CV 5/5] END C=10000.0, degree=1, gamma=auto, kernel=rbf;, score=0.880 total time=   2.2s\n"
     ]
    },
    {
     "name": "stderr",
     "output_type": "stream",
     "text": [
      "/opt/anaconda3/lib/python3.11/site-packages/sklearn/svm/_base.py:297: ConvergenceWarning: Solver terminated early (max_iter=10000).  Consider pre-processing your data with StandardScaler or MinMaxScaler.\n",
      "  warnings.warn(\n"
     ]
    },
    {
     "name": "stdout",
     "output_type": "stream",
     "text": [
      "[CV 1/5] END C=10000.0, degree=3, gamma=scale, kernel=linear;, score=0.733 total time=   1.7s\n"
     ]
    },
    {
     "name": "stderr",
     "output_type": "stream",
     "text": [
      "/opt/anaconda3/lib/python3.11/site-packages/sklearn/svm/_base.py:297: ConvergenceWarning: Solver terminated early (max_iter=10000).  Consider pre-processing your data with StandardScaler or MinMaxScaler.\n",
      "  warnings.warn(\n"
     ]
    },
    {
     "name": "stdout",
     "output_type": "stream",
     "text": [
      "[CV 2/5] END C=10000.0, degree=3, gamma=scale, kernel=linear;, score=0.744 total time=   1.6s\n"
     ]
    },
    {
     "name": "stderr",
     "output_type": "stream",
     "text": [
      "/opt/anaconda3/lib/python3.11/site-packages/sklearn/svm/_base.py:297: ConvergenceWarning: Solver terminated early (max_iter=10000).  Consider pre-processing your data with StandardScaler or MinMaxScaler.\n",
      "  warnings.warn(\n"
     ]
    },
    {
     "name": "stdout",
     "output_type": "stream",
     "text": [
      "[CV 3/5] END C=10000.0, degree=3, gamma=scale, kernel=linear;, score=0.561 total time=   1.9s\n"
     ]
    },
    {
     "name": "stderr",
     "output_type": "stream",
     "text": [
      "/opt/anaconda3/lib/python3.11/site-packages/sklearn/svm/_base.py:297: ConvergenceWarning: Solver terminated early (max_iter=10000).  Consider pre-processing your data with StandardScaler or MinMaxScaler.\n",
      "  warnings.warn(\n"
     ]
    },
    {
     "name": "stdout",
     "output_type": "stream",
     "text": [
      "[CV 4/5] END C=10000.0, degree=3, gamma=scale, kernel=linear;, score=0.516 total time=   4.8s\n"
     ]
    },
    {
     "name": "stderr",
     "output_type": "stream",
     "text": [
      "/opt/anaconda3/lib/python3.11/site-packages/sklearn/svm/_base.py:297: ConvergenceWarning: Solver terminated early (max_iter=10000).  Consider pre-processing your data with StandardScaler or MinMaxScaler.\n",
      "  warnings.warn(\n"
     ]
    },
    {
     "name": "stdout",
     "output_type": "stream",
     "text": [
      "[CV 5/5] END C=10000.0, degree=3, gamma=scale, kernel=linear;, score=0.408 total time=   3.0s\n"
     ]
    },
    {
     "name": "stderr",
     "output_type": "stream",
     "text": [
      "/opt/anaconda3/lib/python3.11/site-packages/sklearn/svm/_base.py:297: ConvergenceWarning: Solver terminated early (max_iter=10000).  Consider pre-processing your data with StandardScaler or MinMaxScaler.\n",
      "  warnings.warn(\n"
     ]
    },
    {
     "name": "stdout",
     "output_type": "stream",
     "text": [
      "[CV 1/5] END C=10000.0, degree=3, gamma=scale, kernel=poly;, score=0.836 total time=   5.6s\n"
     ]
    },
    {
     "name": "stderr",
     "output_type": "stream",
     "text": [
      "/opt/anaconda3/lib/python3.11/site-packages/sklearn/svm/_base.py:297: ConvergenceWarning: Solver terminated early (max_iter=10000).  Consider pre-processing your data with StandardScaler or MinMaxScaler.\n",
      "  warnings.warn(\n"
     ]
    },
    {
     "name": "stdout",
     "output_type": "stream",
     "text": [
      "[CV 2/5] END C=10000.0, degree=3, gamma=scale, kernel=poly;, score=0.744 total time=   5.9s\n"
     ]
    },
    {
     "name": "stderr",
     "output_type": "stream",
     "text": [
      "/opt/anaconda3/lib/python3.11/site-packages/sklearn/svm/_base.py:297: ConvergenceWarning: Solver terminated early (max_iter=10000).  Consider pre-processing your data with StandardScaler or MinMaxScaler.\n",
      "  warnings.warn(\n"
     ]
    },
    {
     "name": "stdout",
     "output_type": "stream",
     "text": [
      "[CV 3/5] END C=10000.0, degree=3, gamma=scale, kernel=poly;, score=0.825 total time=   3.0s\n"
     ]
    },
    {
     "name": "stderr",
     "output_type": "stream",
     "text": [
      "/opt/anaconda3/lib/python3.11/site-packages/sklearn/svm/_base.py:297: ConvergenceWarning: Solver terminated early (max_iter=10000).  Consider pre-processing your data with StandardScaler or MinMaxScaler.\n",
      "  warnings.warn(\n"
     ]
    },
    {
     "name": "stdout",
     "output_type": "stream",
     "text": [
      "[CV 4/5] END C=10000.0, degree=3, gamma=scale, kernel=poly;, score=0.807 total time=   3.0s\n"
     ]
    },
    {
     "name": "stderr",
     "output_type": "stream",
     "text": [
      "/opt/anaconda3/lib/python3.11/site-packages/sklearn/svm/_base.py:297: ConvergenceWarning: Solver terminated early (max_iter=10000).  Consider pre-processing your data with StandardScaler or MinMaxScaler.\n",
      "  warnings.warn(\n"
     ]
    },
    {
     "name": "stdout",
     "output_type": "stream",
     "text": [
      "[CV 5/5] END C=10000.0, degree=3, gamma=scale, kernel=poly;, score=0.801 total time=   3.1s\n"
     ]
    },
    {
     "name": "stderr",
     "output_type": "stream",
     "text": [
      "/opt/anaconda3/lib/python3.11/site-packages/sklearn/svm/_base.py:297: ConvergenceWarning: Solver terminated early (max_iter=10000).  Consider pre-processing your data with StandardScaler or MinMaxScaler.\n",
      "  warnings.warn(\n"
     ]
    },
    {
     "name": "stdout",
     "output_type": "stream",
     "text": [
      "[CV 1/5] END C=10000.0, degree=3, gamma=scale, kernel=rbf;, score=0.866 total time=   1.8s\n"
     ]
    },
    {
     "name": "stderr",
     "output_type": "stream",
     "text": [
      "/opt/anaconda3/lib/python3.11/site-packages/sklearn/svm/_base.py:297: ConvergenceWarning: Solver terminated early (max_iter=10000).  Consider pre-processing your data with StandardScaler or MinMaxScaler.\n",
      "  warnings.warn(\n"
     ]
    },
    {
     "name": "stdout",
     "output_type": "stream",
     "text": [
      "[CV 2/5] END C=10000.0, degree=3, gamma=scale, kernel=rbf;, score=0.865 total time=   2.2s\n"
     ]
    },
    {
     "name": "stderr",
     "output_type": "stream",
     "text": [
      "/opt/anaconda3/lib/python3.11/site-packages/sklearn/svm/_base.py:297: ConvergenceWarning: Solver terminated early (max_iter=10000).  Consider pre-processing your data with StandardScaler or MinMaxScaler.\n",
      "  warnings.warn(\n"
     ]
    },
    {
     "name": "stdout",
     "output_type": "stream",
     "text": [
      "[CV 3/5] END C=10000.0, degree=3, gamma=scale, kernel=rbf;, score=0.868 total time=   1.6s\n"
     ]
    },
    {
     "name": "stderr",
     "output_type": "stream",
     "text": [
      "/opt/anaconda3/lib/python3.11/site-packages/sklearn/svm/_base.py:297: ConvergenceWarning: Solver terminated early (max_iter=10000).  Consider pre-processing your data with StandardScaler or MinMaxScaler.\n",
      "  warnings.warn(\n"
     ]
    },
    {
     "name": "stdout",
     "output_type": "stream",
     "text": [
      "[CV 4/5] END C=10000.0, degree=3, gamma=scale, kernel=rbf;, score=0.862 total time=   1.5s\n"
     ]
    },
    {
     "name": "stderr",
     "output_type": "stream",
     "text": [
      "/opt/anaconda3/lib/python3.11/site-packages/sklearn/svm/_base.py:297: ConvergenceWarning: Solver terminated early (max_iter=10000).  Consider pre-processing your data with StandardScaler or MinMaxScaler.\n",
      "  warnings.warn(\n"
     ]
    },
    {
     "name": "stdout",
     "output_type": "stream",
     "text": [
      "[CV 5/5] END C=10000.0, degree=3, gamma=scale, kernel=rbf;, score=0.871 total time=   1.2s\n"
     ]
    },
    {
     "name": "stderr",
     "output_type": "stream",
     "text": [
      "/opt/anaconda3/lib/python3.11/site-packages/sklearn/svm/_base.py:297: ConvergenceWarning: Solver terminated early (max_iter=10000).  Consider pre-processing your data with StandardScaler or MinMaxScaler.\n",
      "  warnings.warn(\n"
     ]
    },
    {
     "name": "stdout",
     "output_type": "stream",
     "text": [
      "[CV 1/5] END C=10000.0, degree=3, gamma=auto, kernel=linear;, score=0.733 total time=   1.5s\n"
     ]
    },
    {
     "name": "stderr",
     "output_type": "stream",
     "text": [
      "/opt/anaconda3/lib/python3.11/site-packages/sklearn/svm/_base.py:297: ConvergenceWarning: Solver terminated early (max_iter=10000).  Consider pre-processing your data with StandardScaler or MinMaxScaler.\n",
      "  warnings.warn(\n"
     ]
    },
    {
     "name": "stdout",
     "output_type": "stream",
     "text": [
      "[CV 2/5] END C=10000.0, degree=3, gamma=auto, kernel=linear;, score=0.744 total time=   1.6s\n"
     ]
    },
    {
     "name": "stderr",
     "output_type": "stream",
     "text": [
      "/opt/anaconda3/lib/python3.11/site-packages/sklearn/svm/_base.py:297: ConvergenceWarning: Solver terminated early (max_iter=10000).  Consider pre-processing your data with StandardScaler or MinMaxScaler.\n",
      "  warnings.warn(\n"
     ]
    },
    {
     "name": "stdout",
     "output_type": "stream",
     "text": [
      "[CV 3/5] END C=10000.0, degree=3, gamma=auto, kernel=linear;, score=0.561 total time=   1.7s\n"
     ]
    },
    {
     "name": "stderr",
     "output_type": "stream",
     "text": [
      "/opt/anaconda3/lib/python3.11/site-packages/sklearn/svm/_base.py:297: ConvergenceWarning: Solver terminated early (max_iter=10000).  Consider pre-processing your data with StandardScaler or MinMaxScaler.\n",
      "  warnings.warn(\n"
     ]
    },
    {
     "name": "stdout",
     "output_type": "stream",
     "text": [
      "[CV 4/5] END C=10000.0, degree=3, gamma=auto, kernel=linear;, score=0.516 total time=   1.5s\n"
     ]
    },
    {
     "name": "stderr",
     "output_type": "stream",
     "text": [
      "/opt/anaconda3/lib/python3.11/site-packages/sklearn/svm/_base.py:297: ConvergenceWarning: Solver terminated early (max_iter=10000).  Consider pre-processing your data with StandardScaler or MinMaxScaler.\n",
      "  warnings.warn(\n"
     ]
    },
    {
     "name": "stdout",
     "output_type": "stream",
     "text": [
      "[CV 5/5] END C=10000.0, degree=3, gamma=auto, kernel=linear;, score=0.408 total time=   1.6s\n"
     ]
    },
    {
     "name": "stderr",
     "output_type": "stream",
     "text": [
      "/opt/anaconda3/lib/python3.11/site-packages/sklearn/svm/_base.py:297: ConvergenceWarning: Solver terminated early (max_iter=10000).  Consider pre-processing your data with StandardScaler or MinMaxScaler.\n",
      "  warnings.warn(\n"
     ]
    },
    {
     "name": "stdout",
     "output_type": "stream",
     "text": [
      "[CV 1/5] END C=10000.0, degree=3, gamma=auto, kernel=poly;, score=0.883 total time=   0.9s\n"
     ]
    },
    {
     "name": "stderr",
     "output_type": "stream",
     "text": [
      "/opt/anaconda3/lib/python3.11/site-packages/sklearn/svm/_base.py:297: ConvergenceWarning: Solver terminated early (max_iter=10000).  Consider pre-processing your data with StandardScaler or MinMaxScaler.\n",
      "  warnings.warn(\n"
     ]
    },
    {
     "name": "stdout",
     "output_type": "stream",
     "text": [
      "[CV 2/5] END C=10000.0, degree=3, gamma=auto, kernel=poly;, score=0.888 total time=   1.0s\n"
     ]
    },
    {
     "name": "stderr",
     "output_type": "stream",
     "text": [
      "/opt/anaconda3/lib/python3.11/site-packages/sklearn/svm/_base.py:297: ConvergenceWarning: Solver terminated early (max_iter=10000).  Consider pre-processing your data with StandardScaler or MinMaxScaler.\n",
      "  warnings.warn(\n"
     ]
    },
    {
     "name": "stdout",
     "output_type": "stream",
     "text": [
      "[CV 3/5] END C=10000.0, degree=3, gamma=auto, kernel=poly;, score=0.889 total time=   0.9s\n"
     ]
    },
    {
     "name": "stderr",
     "output_type": "stream",
     "text": [
      "/opt/anaconda3/lib/python3.11/site-packages/sklearn/svm/_base.py:297: ConvergenceWarning: Solver terminated early (max_iter=10000).  Consider pre-processing your data with StandardScaler or MinMaxScaler.\n",
      "  warnings.warn(\n"
     ]
    },
    {
     "name": "stdout",
     "output_type": "stream",
     "text": [
      "[CV 4/5] END C=10000.0, degree=3, gamma=auto, kernel=poly;, score=0.903 total time=   1.1s\n"
     ]
    },
    {
     "name": "stderr",
     "output_type": "stream",
     "text": [
      "/opt/anaconda3/lib/python3.11/site-packages/sklearn/svm/_base.py:297: ConvergenceWarning: Solver terminated early (max_iter=10000).  Consider pre-processing your data with StandardScaler or MinMaxScaler.\n",
      "  warnings.warn(\n"
     ]
    },
    {
     "name": "stdout",
     "output_type": "stream",
     "text": [
      "[CV 5/5] END C=10000.0, degree=3, gamma=auto, kernel=poly;, score=0.900 total time=   1.5s\n"
     ]
    },
    {
     "name": "stderr",
     "output_type": "stream",
     "text": [
      "/opt/anaconda3/lib/python3.11/site-packages/sklearn/svm/_base.py:297: ConvergenceWarning: Solver terminated early (max_iter=10000).  Consider pre-processing your data with StandardScaler or MinMaxScaler.\n",
      "  warnings.warn(\n"
     ]
    },
    {
     "name": "stdout",
     "output_type": "stream",
     "text": [
      "[CV 1/5] END C=10000.0, degree=3, gamma=auto, kernel=rbf;, score=0.809 total time=   2.6s\n"
     ]
    },
    {
     "name": "stderr",
     "output_type": "stream",
     "text": [
      "/opt/anaconda3/lib/python3.11/site-packages/sklearn/svm/_base.py:297: ConvergenceWarning: Solver terminated early (max_iter=10000).  Consider pre-processing your data with StandardScaler or MinMaxScaler.\n",
      "  warnings.warn(\n"
     ]
    },
    {
     "name": "stdout",
     "output_type": "stream",
     "text": [
      "[CV 2/5] END C=10000.0, degree=3, gamma=auto, kernel=rbf;, score=0.778 total time=   2.5s\n"
     ]
    },
    {
     "name": "stderr",
     "output_type": "stream",
     "text": [
      "/opt/anaconda3/lib/python3.11/site-packages/sklearn/svm/_base.py:297: ConvergenceWarning: Solver terminated early (max_iter=10000).  Consider pre-processing your data with StandardScaler or MinMaxScaler.\n",
      "  warnings.warn(\n"
     ]
    },
    {
     "name": "stdout",
     "output_type": "stream",
     "text": [
      "[CV 3/5] END C=10000.0, degree=3, gamma=auto, kernel=rbf;, score=0.825 total time=   1.8s\n"
     ]
    },
    {
     "name": "stderr",
     "output_type": "stream",
     "text": [
      "/opt/anaconda3/lib/python3.11/site-packages/sklearn/svm/_base.py:297: ConvergenceWarning: Solver terminated early (max_iter=10000).  Consider pre-processing your data with StandardScaler or MinMaxScaler.\n",
      "  warnings.warn(\n"
     ]
    },
    {
     "name": "stdout",
     "output_type": "stream",
     "text": [
      "[CV 4/5] END C=10000.0, degree=3, gamma=auto, kernel=rbf;, score=0.851 total time=   2.0s\n"
     ]
    },
    {
     "name": "stderr",
     "output_type": "stream",
     "text": [
      "/opt/anaconda3/lib/python3.11/site-packages/sklearn/svm/_base.py:297: ConvergenceWarning: Solver terminated early (max_iter=10000).  Consider pre-processing your data with StandardScaler or MinMaxScaler.\n",
      "  warnings.warn(\n"
     ]
    },
    {
     "name": "stdout",
     "output_type": "stream",
     "text": [
      "[CV 5/5] END C=10000.0, degree=3, gamma=auto, kernel=rbf;, score=0.880 total time=   2.0s\n"
     ]
    },
    {
     "name": "stderr",
     "output_type": "stream",
     "text": [
      "/opt/anaconda3/lib/python3.11/site-packages/sklearn/svm/_base.py:297: ConvergenceWarning: Solver terminated early (max_iter=10000).  Consider pre-processing your data with StandardScaler or MinMaxScaler.\n",
      "  warnings.warn(\n",
      "02:43:57 PM DEBUG: SVC: Best Model=SVC(C=177.82794100389228, degree=1, kernel='poly', max_iter=10000,\n",
      "    probability=True)\n",
      "02:43:57 PM DEBUG: SVC: Best Params={'C': 177.82794100389228, 'degree': 1, 'gamma': 'scale', 'kernel': 'poly'}\n",
      "02:43:57 PM DEBUG: SVC: Fitted\n",
      "02:43:57 PM DEBUG: SVC: Got preds/probs\n",
      "02:43:57 PM DEBUG: SVC: Got metrics\n"
     ]
    },
    {
     "name": "stdout",
     "output_type": "stream",
     "text": [
      "SVC: Done: 5m 57.66s\n",
      "SVC: Done GridSearchCV optimization (5-fold)\n"
     ]
    }
   ],
   "source": [
    "# Perform GridSearchCV\n",
    "CV=5\n",
    "VERBOSE=3\n",
    "results = {}\n",
    "\n",
    "for name, model in models.items():\n",
    "    \n",
    "    print(f'{name}: Starting GridSearchCV optimization ({CV}-fold)', flush=True)\n",
    "    grid_search = GridSearchCV(model, param_grid=param_grid[name], scoring='accuracy',\n",
    "                              cv=CV, verbose=VERBOSE)\n",
    "    \n",
    "    results[name] = build_results_row(name, grid_search, X_train_scaled, X_test_scaled, y_train, y_test, use_best=True)\n",
    "    print(f'{name}: Done GridSearchCV optimization ({CV}-fold)', flush=True)"
   ]
  },
  {
   "cell_type": "code",
   "execution_count": 66,
   "metadata": {},
   "outputs": [
    {
     "name": "stdout",
     "output_type": "stream",
     "text": [
      "GridSearchCV optimization (5-fold):\n",
      "\n",
      "\tBest Model: <class 'sklearn.svm._classes.SVC'>\n",
      "\tScore: 91.14%\n",
      "\tBest Params: {'C': 177.82794100389228, 'degree': 1, 'gamma': 'scale', 'kernel': 'poly'}\n"
     ]
    }
   ],
   "source": [
    "best_model = grid_search.best_estimator_\n",
    "print('GridSearchCV optimization ({}-fold):\\n\\n\\tBest Model: {}\\n\\tScore: {:.2f}%\\n\\tBest Params: {}'\n",
    "      .format(CV, best_model.__class__, grid_search.best_score_ * 100, grid_search.best_params_), flush=True)"
   ]
  },
  {
   "cell_type": "code",
   "execution_count": 67,
   "metadata": {},
   "outputs": [
    {
     "name": "stderr",
     "output_type": "stream",
     "text": [
      "02:44:11 PM DEBUG: STREAM b'IHDR' 16 13\n",
      "02:44:11 PM DEBUG: STREAM b'iCCP' 41 296\n",
      "02:44:11 PM DEBUG: iCCP profile name b'Skia'\n",
      "02:44:11 PM DEBUG: Compression method 0\n",
      "02:44:11 PM DEBUG: STREAM b'IDAT' 349 8192\n"
     ]
    },
    {
     "data": {
      "text/html": [
       "<div>\n",
       "<style scoped>\n",
       "    .dataframe tbody tr th:only-of-type {\n",
       "        vertical-align: middle;\n",
       "    }\n",
       "\n",
       "    .dataframe tbody tr th {\n",
       "        vertical-align: top;\n",
       "    }\n",
       "\n",
       "    .dataframe thead th {\n",
       "        text-align: right;\n",
       "    }\n",
       "</style>\n",
       "<table border=\"1\" class=\"dataframe\">\n",
       "  <thead>\n",
       "    <tr style=\"text-align: right;\">\n",
       "      <th></th>\n",
       "      <th>best_params</th>\n",
       "      <th>Train Time</th>\n",
       "      <th>Train Accuracy</th>\n",
       "      <th>Test Accuracy</th>\n",
       "      <th>Precision</th>\n",
       "      <th>Recall</th>\n",
       "      <th>F1</th>\n",
       "      <th>AUC</th>\n",
       "      <th>TN</th>\n",
       "      <th>FP</th>\n",
       "      <th>FN</th>\n",
       "      <th>TP</th>\n",
       "    </tr>\n",
       "  </thead>\n",
       "  <tbody>\n",
       "    <tr>\n",
       "      <th>KNeighborsClassifier</th>\n",
       "      <td>{'algorithm': 'auto', 'n_neighbors': 11, 'weig...</td>\n",
       "      <td>9.23s</td>\n",
       "      <td>100.00%</td>\n",
       "      <td>90.17%</td>\n",
       "      <td>73.68%</td>\n",
       "      <td>15.56%</td>\n",
       "      <td>25.69%</td>\n",
       "      <td>77.33%</td>\n",
       "      <td>729</td>\n",
       "      <td>5</td>\n",
       "      <td>76</td>\n",
       "      <td>14</td>\n",
       "    </tr>\n",
       "    <tr>\n",
       "      <th>SVC</th>\n",
       "      <td>{'C': 177.82794100389228, 'degree': 1, 'gamma'...</td>\n",
       "      <td>5m 57.44s</td>\n",
       "      <td>91.65%</td>\n",
       "      <td>89.32%</td>\n",
       "      <td>50.78%</td>\n",
       "      <td>72.22%</td>\n",
       "      <td>59.63%</td>\n",
       "      <td>92.04%</td>\n",
       "      <td>671</td>\n",
       "      <td>63</td>\n",
       "      <td>25</td>\n",
       "      <td>65</td>\n",
       "    </tr>\n",
       "    <tr>\n",
       "      <th>DecisionTreeClassifier</th>\n",
       "      <td>{'criterion': 'entropy', 'max_depth': 10, 'min...</td>\n",
       "      <td>18.76s</td>\n",
       "      <td>94.84%</td>\n",
       "      <td>82.89%</td>\n",
       "      <td>34.91%</td>\n",
       "      <td>65.56%</td>\n",
       "      <td>45.56%</td>\n",
       "      <td>82.15%</td>\n",
       "      <td>624</td>\n",
       "      <td>110</td>\n",
       "      <td>31</td>\n",
       "      <td>59</td>\n",
       "    </tr>\n",
       "    <tr>\n",
       "      <th>LogisticRegression</th>\n",
       "      <td>{'C': 10, 'penalty': 'l2', 'solver': 'saga'}</td>\n",
       "      <td>6.76s</td>\n",
       "      <td>86.04%</td>\n",
       "      <td>72.21%</td>\n",
       "      <td>27.80%</td>\n",
       "      <td>96.67%</td>\n",
       "      <td>43.18%</td>\n",
       "      <td>92.45%</td>\n",
       "      <td>508</td>\n",
       "      <td>226</td>\n",
       "      <td>3</td>\n",
       "      <td>87</td>\n",
       "    </tr>\n",
       "  </tbody>\n",
       "</table>\n",
       "</div>"
      ],
      "text/plain": [
       "                                                              best_params  \\\n",
       "KNeighborsClassifier    {'algorithm': 'auto', 'n_neighbors': 11, 'weig...   \n",
       "SVC                     {'C': 177.82794100389228, 'degree': 1, 'gamma'...   \n",
       "DecisionTreeClassifier  {'criterion': 'entropy', 'max_depth': 10, 'min...   \n",
       "LogisticRegression           {'C': 10, 'penalty': 'l2', 'solver': 'saga'}   \n",
       "\n",
       "                       Train Time Train Accuracy Test Accuracy Precision  \\\n",
       "KNeighborsClassifier        9.23s        100.00%        90.17%    73.68%   \n",
       "SVC                     5m 57.44s         91.65%        89.32%    50.78%   \n",
       "DecisionTreeClassifier     18.76s         94.84%        82.89%    34.91%   \n",
       "LogisticRegression          6.76s         86.04%        72.21%    27.80%   \n",
       "\n",
       "                        Recall      F1     AUC   TN   FP  FN  TP  \n",
       "KNeighborsClassifier    15.56%  25.69%  77.33%  729    5  76  14  \n",
       "SVC                     72.22%  59.63%  92.04%  671   63  25  65  \n",
       "DecisionTreeClassifier  65.56%  45.56%  82.15%  624  110  31  59  \n",
       "LogisticRegression      96.67%  43.18%  92.45%  508  226   3  87  "
      ]
     },
     "execution_count": 67,
     "metadata": {},
     "output_type": "execute_result"
    }
   ],
   "source": [
    "results_tuned_df = pd.DataFrame(results).T.sort_values(by='Test Accuracy', ascending=False)\n",
    "\n",
    "if not Config.SUPPRESS_OUTPUT_FILES:  \n",
    "    dfi.export(results_tuned_df[report_cols_tuned], 'images/table_models_tuned.png')\n",
    "\n",
    "results_tuned_df[report_cols_tuned]"
   ]
  },
  {
   "cell_type": "code",
   "execution_count": 68,
   "metadata": {},
   "outputs": [
    {
     "data": {
      "text/html": [
       "<div>\n",
       "<style scoped>\n",
       "    .dataframe tbody tr th:only-of-type {\n",
       "        vertical-align: middle;\n",
       "    }\n",
       "\n",
       "    .dataframe tbody tr th {\n",
       "        vertical-align: top;\n",
       "    }\n",
       "\n",
       "    .dataframe thead th {\n",
       "        text-align: right;\n",
       "    }\n",
       "</style>\n",
       "<table border=\"1\" class=\"dataframe\">\n",
       "  <thead>\n",
       "    <tr style=\"text-align: right;\">\n",
       "      <th></th>\n",
       "      <th>Train Time</th>\n",
       "      <th>Train Accuracy</th>\n",
       "      <th>Test Accuracy</th>\n",
       "      <th>Precision</th>\n",
       "      <th>Recall</th>\n",
       "      <th>F1</th>\n",
       "      <th>AUC</th>\n",
       "      <th>TN</th>\n",
       "      <th>FP</th>\n",
       "      <th>FN</th>\n",
       "      <th>TP</th>\n",
       "    </tr>\n",
       "  </thead>\n",
       "  <tbody>\n",
       "    <tr>\n",
       "      <th>SVC</th>\n",
       "      <td>0.99s</td>\n",
       "      <td>90.71%</td>\n",
       "      <td>90.66%</td>\n",
       "      <td>70.97%</td>\n",
       "      <td>24.44%</td>\n",
       "      <td>36.36%</td>\n",
       "      <td>91.64%</td>\n",
       "      <td>725</td>\n",
       "      <td>9</td>\n",
       "      <td>68</td>\n",
       "      <td>22</td>\n",
       "    </tr>\n",
       "    <tr>\n",
       "      <th>LogisticRegression</th>\n",
       "      <td>0.06s</td>\n",
       "      <td>91.29%</td>\n",
       "      <td>90.53%</td>\n",
       "      <td>56.00%</td>\n",
       "      <td>62.22%</td>\n",
       "      <td>58.95%</td>\n",
       "      <td>93.26%</td>\n",
       "      <td>690</td>\n",
       "      <td>44</td>\n",
       "      <td>34</td>\n",
       "      <td>56</td>\n",
       "    </tr>\n",
       "    <tr>\n",
       "      <th>KNeighborsClassifier</th>\n",
       "      <td>0.00s</td>\n",
       "      <td>91.05%</td>\n",
       "      <td>89.56%</td>\n",
       "      <td>57.14%</td>\n",
       "      <td>17.78%</td>\n",
       "      <td>27.12%</td>\n",
       "      <td>73.04%</td>\n",
       "      <td>722</td>\n",
       "      <td>12</td>\n",
       "      <td>74</td>\n",
       "      <td>16</td>\n",
       "    </tr>\n",
       "    <tr>\n",
       "      <th>DecisionTreeClassifier</th>\n",
       "      <td>0.02s</td>\n",
       "      <td>100.00%</td>\n",
       "      <td>78.16%</td>\n",
       "      <td>26.32%</td>\n",
       "      <td>55.56%</td>\n",
       "      <td>35.71%</td>\n",
       "      <td>68.24%</td>\n",
       "      <td>594</td>\n",
       "      <td>140</td>\n",
       "      <td>40</td>\n",
       "      <td>50</td>\n",
       "    </tr>\n",
       "    <tr>\n",
       "      <th>DummyClassifier</th>\n",
       "      <td>0.00s</td>\n",
       "      <td>50.68%</td>\n",
       "      <td>52.31%</td>\n",
       "      <td>13.97%</td>\n",
       "      <td>62.22%</td>\n",
       "      <td>22.81%</td>\n",
       "      <td>50.00%</td>\n",
       "      <td>389</td>\n",
       "      <td>345</td>\n",
       "      <td>34</td>\n",
       "      <td>56</td>\n",
       "    </tr>\n",
       "  </tbody>\n",
       "</table>\n",
       "</div>"
      ],
      "text/plain": [
       "                       Train Time Train Accuracy Test Accuracy Precision  \\\n",
       "SVC                         0.99s         90.71%        90.66%    70.97%   \n",
       "LogisticRegression          0.06s         91.29%        90.53%    56.00%   \n",
       "KNeighborsClassifier        0.00s         91.05%        89.56%    57.14%   \n",
       "DecisionTreeClassifier      0.02s        100.00%        78.16%    26.32%   \n",
       "DummyClassifier             0.00s         50.68%        52.31%    13.97%   \n",
       "\n",
       "                        Recall      F1     AUC   TN   FP  FN  TP  \n",
       "SVC                     24.44%  36.36%  91.64%  725    9  68  22  \n",
       "LogisticRegression      62.22%  58.95%  93.26%  690   44  34  56  \n",
       "KNeighborsClassifier    17.78%  27.12%  73.04%  722   12  74  16  \n",
       "DecisionTreeClassifier  55.56%  35.71%  68.24%  594  140  40  50  \n",
       "DummyClassifier         62.22%  22.81%  50.00%  389  345  34  56  "
      ]
     },
     "execution_count": 68,
     "metadata": {},
     "output_type": "execute_result"
    }
   ],
   "source": [
    "results_defaults_df[report_cols]"
   ]
  },
  {
   "cell_type": "markdown",
   "metadata": {},
   "source": [
    "Optimizations:\n",
    "\n",
    "* Switch to MinMaxScaler\n",
    "* Tuned max_iter, C, poly/degree\n",
    "* LR: class_weight = balanced"
   ]
  },
  {
   "cell_type": "markdown",
   "metadata": {},
   "source": [
    "FE: remove housing, loan"
   ]
  },
  {
   "cell_type": "markdown",
   "metadata": {},
   "source": [
    "#### Confusion Matrix"
   ]
  },
  {
   "cell_type": "code",
   "execution_count": 72,
   "metadata": {},
   "outputs": [
    {
     "name": "stderr",
     "output_type": "stream",
     "text": [
      "02:44:13 PM DEBUG: locator: <matplotlib.ticker.AutoLocator object at 0x1408e99d0>\n",
      "02:44:13 PM DEBUG: locator: <matplotlib.ticker.AutoLocator object at 0x140a9c4d0>\n",
      "02:44:13 PM DEBUG: locator: <matplotlib.ticker.AutoLocator object at 0x140b01050>\n",
      "02:44:13 PM DEBUG: locator: <matplotlib.ticker.AutoLocator object at 0x140b426d0>\n",
      "02:44:13 PM DEBUG: locator: <matplotlib.ticker.AutoLocator object at 0x140a8df90>\n",
      "02:44:13 PM DEBUG: locator: <matplotlib.ticker.AutoLocator object at 0x140b5bed0>\n",
      "02:44:13 PM DEBUG: locator: <matplotlib.ticker.AutoLocator object at 0x140a15710>\n",
      "02:44:16 PM DEBUG: locator: <matplotlib.ticker.AutoLocator object at 0x140a43650>\n"
     ]
    },
    {
     "data": {
      "image/png": "[encoded data removed]",
      "text/plain": [
       "<Figure size 1000x800 with 16 Axes>"
      ]
     },
     "metadata": {},
     "output_type": "display_data"
    }
   ],
   "source": [
    "# Plot the default and tuned confusion matrices side-by-side\n",
    "\n",
    "fig, axes = plt.subplots(4, 2, figsize=(Config.PAGE_WIDTH, 8))\n",
    "fig.suptitle('Confusion Matrix: Default vs Tuned Models')\n",
    "\n",
    "row = 0\n",
    "for name, model in models.items():\n",
    "    \n",
    "    # Get the CM from the results for left and right views\n",
    "    cm_l = results_defaults_df.loc[name]['cm']\n",
    "    cm_r = results_tuned_df.loc[name]['cm']\n",
    "\n",
    "    # Get the CM\n",
    "    disp_l = ConfusionMatrixDisplay(cm_l)#, display_labels=['Unsuccessful', 'Successful'])\n",
    "    disp_r = ConfusionMatrixDisplay(cm_r)#, display_labels=['Unsuccessful', 'Successful'])\n",
    "\n",
    "    # plot CM\n",
    "    disp_l.plot(ax=axes[row,0])\n",
    "    disp_r.plot(ax=axes[row,1])\n",
    "\n",
    "    axes[row,0].set_title(f'{name} (Defaults)')\n",
    "    axes[row,1].set_title(f'{name} (Tuned)')\n",
    "\n",
    "    row += 1\n",
    "\n",
    "plt.tight_layout()\n",
    "\n",
    "if not Config.SUPPRESS_OUTPUT_FILES:  \n",
    "    plt.savefig('images/confusion_matrices.png')\n",
    "    \n",
    "plt.show()"
   ]
  },
  {
   "cell_type": "markdown",
   "metadata": {},
   "source": [
    "#### ROC Curves"
   ]
  },
  {
   "cell_type": "code",
   "execution_count": 74,
   "metadata": {},
   "outputs": [
    {
     "data": {
      "image/png": "[encoded data removed]",
      "text/plain": [
       "<Figure size 1000x600 with 2 Axes>"
      ]
     },
     "metadata": {},
     "output_type": "display_data"
    }
   ],
   "source": [
    "fig, axes = plt.subplots(1,2, figsize=(Config.PAGE_WIDTH, 6))\n",
    "\n",
    "# Flatten axes for easy iteration\n",
    "axes = axes.flatten()\n",
    "\n",
    "# plt.figure()\n",
    "for name, model in models.items():\n",
    "    probs_l = results_defaults_df.loc[name]['probs']\n",
    "    probs_r = results_tuned_df.loc[name]['probs']\n",
    "    fpr_l, tpr_l, threshold_l = roc_curve(y_test, probs_l)\n",
    "    fpr_r, tpr_r, threshold_r = roc_curve(y_test, probs_r)\n",
    "    axes[0].plot(fpr_l, tpr_l, label=name)\n",
    "    axes[1].plot(fpr_r, tpr_r, label=name)\n",
    "\n",
    "# Add the Baseline\n",
    "axes[0].plot([0, 1], [0, 1], 'k--', label='Baseline')\n",
    "axes[1].plot([0, 1], [0, 1], 'k--', label='Baseline')\n",
    "\n",
    "axes[0].set_ylabel(\"False Positive Rate\")\n",
    "axes[0].set_xlabel(\"Default Model: True Positive Rate\")\n",
    "axes[1].set_xlabel(\"Tuned Model: True Positive Rate\")\n",
    "plt.suptitle(\"ROC Curves: Default vs Tuned Models\")\n",
    "plt.legend(loc=\"best\")\n",
    "\n",
    "plt.tight_layout()\n",
    "\n",
    "if not Config.SUPPRESS_OUTPUT_FILES:  \n",
    "    plt.savefig('images/roc_curves.png')\n",
    "\n",
    "plt.show()"
   ]
  },
  {
   "cell_type": "markdown",
   "metadata": {},
   "source": [
    "#### Feature Importance"
   ]
  },
  {
   "cell_type": "code",
   "execution_count": 76,
   "metadata": {},
   "outputs": [],
   "source": [
    "# Get feature importances from the best VotingRegressor model\n",
    "feature_importances = np.zeros(X_train.shape[1])\n",
    "if hasattr(best_model, 'feature_importances_'):\n",
    "    feature_importances += best_model.feature_importances_\n",
    "elif hasattr(best_model, 'coef_'):\n",
    "    feature_importances += np.abs(best_model.coef_)  # Use absolute values for linear models"
   ]
  },
  {
   "cell_type": "code",
   "execution_count": 77,
   "metadata": {},
   "outputs": [
    {
     "data": {
      "text/plain": [
       "array([0., 0., 0., 0., 0., 0., 0., 0., 0., 0., 0., 0., 0., 0., 0., 0., 0.,\n",
       "       0., 0., 0.])"
      ]
     },
     "execution_count": 77,
     "metadata": {},
     "output_type": "execute_result"
    }
   ],
   "source": [
    "feature_importances"
   ]
  },
  {
   "cell_type": "code",
   "execution_count": 78,
   "metadata": {},
   "outputs": [
    {
     "name": "stderr",
     "output_type": "stream",
     "text": [
      "/var/folders/p0/_b24zpks5fd7l2cg_53cspsh0000gn/T/ipykernel_9291/3867228724.py:2: RuntimeWarning: invalid value encountered in divide\n",
      "  feature_importances = feature_importances / feature_importances.sum()\n"
     ]
    }
   ],
   "source": [
    "# Normalize the feature importances\n",
    "feature_importances = feature_importances / feature_importances.sum()\n",
    "\n",
    "# Create a DataFrame with feature names and importances\n",
    "feature_names = X_train.columns\n",
    "importance_summary = pd.DataFrame({'Feature': feature_names, 'Importance': feature_importances})\n",
    "importance_summary = importance_summary.sort_values('Importance', ascending=False).reset_index(drop=True)"
   ]
  },
  {
   "cell_type": "code",
   "execution_count": 79,
   "metadata": {},
   "outputs": [
    {
     "name": "stdout",
     "output_type": "stream",
     "text": [
      "Top 10 Feature Importances from the tuned VotingRegressor:\n",
      "       Feature  Importance\n",
      "0          age         NaN\n",
      "1          job         NaN\n",
      "2      marital         NaN\n",
      "3    education         NaN\n",
      "4      default         NaN\n",
      "5      housing         NaN\n",
      "6         loan         NaN\n",
      "7      contact         NaN\n",
      "8        month         NaN\n",
      "9  day_of_week         NaN\n"
     ]
    },
    {
     "data": {
      "image/png": "[encoded data removed]",
      "text/plain": [
       "<Figure size 800x400 with 1 Axes>"
      ]
     },
     "metadata": {},
     "output_type": "display_data"
    }
   ],
   "source": [
    "# Display the top 10 most important features\n",
    "print(\"Top 10 Feature Importances from the tuned VotingRegressor:\")\n",
    "print(importance_summary.head(10))\n",
    "\n",
    "# Visualize feature importances\n",
    "plt.figure(figsize=(8, 4))\n",
    "plt.barh(importance_summary['Feature'][:10], importance_summary['Importance'][:10], color='skyblue')\n",
    "plt.xlabel('Importance')\n",
    "plt.title('Top 10 Feature Importances from Tuned VotingRegressor')\n",
    "plt.gca().invert_yaxis()  # Invert y-axis to have the most important feature on top\n",
    "plt.tight_layout()\n",
    "plt.savefig('images/feature_importance_top10.png')\n",
    "plt.show()"
   ]
  },
  {
   "cell_type": "markdown",
   "metadata": {},
   "source": [
    "#### Permutation Importance"
   ]
  },
  {
   "cell_type": "code",
   "execution_count": 81,
   "metadata": {},
   "outputs": [
    {
     "name": "stderr",
     "output_type": "stream",
     "text": [
      "02:44:29 PM DEBUG: STREAM b'IHDR' 16 13\n",
      "02:44:29 PM DEBUG: STREAM b'iCCP' 41 296\n",
      "02:44:29 PM DEBUG: iCCP profile name b'Skia'\n",
      "02:44:29 PM DEBUG: Compression method 0\n",
      "02:44:29 PM DEBUG: STREAM b'IDAT' 349 8192\n"
     ]
    },
    {
     "data": {
      "text/html": [
       "<div>\n",
       "<style scoped>\n",
       "    .dataframe tbody tr th:only-of-type {\n",
       "        vertical-align: middle;\n",
       "    }\n",
       "\n",
       "    .dataframe tbody tr th {\n",
       "        vertical-align: top;\n",
       "    }\n",
       "\n",
       "    .dataframe thead th {\n",
       "        text-align: right;\n",
       "    }\n",
       "</style>\n",
       "<table border=\"1\" class=\"dataframe\">\n",
       "  <thead>\n",
       "    <tr style=\"text-align: right;\">\n",
       "      <th></th>\n",
       "      <th>Feature</th>\n",
       "      <th>Importance</th>\n",
       "    </tr>\n",
       "  </thead>\n",
       "  <tbody>\n",
       "    <tr>\n",
       "      <th>10</th>\n",
       "      <td>duration</td>\n",
       "      <td>0.084102</td>\n",
       "    </tr>\n",
       "    <tr>\n",
       "      <th>18</th>\n",
       "      <td>euribor3m</td>\n",
       "      <td>0.025971</td>\n",
       "    </tr>\n",
       "    <tr>\n",
       "      <th>14</th>\n",
       "      <td>poutcome</td>\n",
       "      <td>0.024636</td>\n",
       "    </tr>\n",
       "    <tr>\n",
       "      <th>16</th>\n",
       "      <td>cons.price.idx</td>\n",
       "      <td>0.015413</td>\n",
       "    </tr>\n",
       "    <tr>\n",
       "      <th>15</th>\n",
       "      <td>emp.var.rate</td>\n",
       "      <td>0.013956</td>\n",
       "    </tr>\n",
       "    <tr>\n",
       "      <th>17</th>\n",
       "      <td>cons.conf.idx</td>\n",
       "      <td>0.004976</td>\n",
       "    </tr>\n",
       "    <tr>\n",
       "      <th>13</th>\n",
       "      <td>previous</td>\n",
       "      <td>0.003762</td>\n",
       "    </tr>\n",
       "    <tr>\n",
       "      <th>3</th>\n",
       "      <td>education</td>\n",
       "      <td>0.003519</td>\n",
       "    </tr>\n",
       "    <tr>\n",
       "      <th>6</th>\n",
       "      <td>loan</td>\n",
       "      <td>0.002306</td>\n",
       "    </tr>\n",
       "    <tr>\n",
       "      <th>2</th>\n",
       "      <td>marital</td>\n",
       "      <td>0.002184</td>\n",
       "    </tr>\n",
       "  </tbody>\n",
       "</table>\n",
       "</div>"
      ],
      "text/plain": [
       "           Feature  Importance\n",
       "10        duration    0.084102\n",
       "18       euribor3m    0.025971\n",
       "14        poutcome    0.024636\n",
       "16  cons.price.idx    0.015413\n",
       "15    emp.var.rate    0.013956\n",
       "17   cons.conf.idx    0.004976\n",
       "13        previous    0.003762\n",
       "3        education    0.003519\n",
       "6             loan    0.002306\n",
       "2          marital    0.002184"
      ]
     },
     "execution_count": 81,
     "metadata": {},
     "output_type": "execute_result"
    }
   ],
   "source": [
    "from sklearn.inspection import permutation_importance\n",
    "\n",
    "top_n=10\n",
    "p_imp = permutation_importance(best_model, X_test_scaled, y_test, n_repeats=10, random_state=Config.RANDOM_STATE)\n",
    "p_imp_mean = p_imp.importances_mean\n",
    "p_imp_df = pd.DataFrame({'Feature': feature_names, 'Importance': p_imp_mean})\n",
    "\n",
    "dfi.export(p_imp_df.head(top_n), 'images/results_permutation_imp.png')\n",
    "\n",
    "p_imp_df.sort_values(by='Importance', ascending=False).head(top_n)"
   ]
  },
  {
   "cell_type": "code",
   "execution_count": 82,
   "metadata": {},
   "outputs": [],
   "source": [
    "def plot_permutation_importance(p_imp_result, features, p_imp_mean, ax):\n",
    "\n",
    "    perm_sorted_idx = p_imp_mean.argsort()\n",
    "\n",
    "    ax.boxplot(\n",
    "        p_imp_result.importances[perm_sorted_idx].T,\n",
    "        vert=False,\n",
    "        tick_labels=X.columns[perm_sorted_idx],\n",
    "    )\n",
    "    ax.axvline(x=0, color=\"k\", linestyle=\"--\")\n",
    "    return ax"
   ]
  },
  {
   "cell_type": "code",
   "execution_count": 83,
   "metadata": {},
   "outputs": [
    {
     "data": {
      "image/png": "[encoded data removed]",
      "text/plain": [
       "<Figure size 800x800 with 1 Axes>"
      ]
     },
     "metadata": {},
     "output_type": "display_data"
    }
   ],
   "source": [
    "fig, ax = plt.subplots(figsize=(8, 8))\n",
    "plot_permutation_importance(p_imp, feature_names, p_imp_mean, ax)\n",
    "ax.set_title(\"Permutation Importances on multicollinear features\")\n",
    "ax.set_xlabel(\"Decrease in accuracy score\")\n",
    "_ = ax.figure.tight_layout()\n",
    "\n",
    "plt.savefig('images/permutation_importance.png')\n",
    "plt.show()"
   ]
  },
  {
   "cell_type": "code",
   "execution_count": null,
   "metadata": {},
   "outputs": [],
   "source": []
  },
  {
   "cell_type": "markdown",
   "metadata": {},
   "source": [
    "##### Questions"
   ]
  }
 ],
 "metadata": {
  "kernelspec": {
   "display_name": "Python 3 (ipykernel)",
   "language": "python",
   "name": "python3"
  },
  "language_info": {
   "codemirror_mode": {
    "name": "ipython",
    "version": 3
   },
   "file_extension": ".py",
   "mimetype": "text/x-python",
   "name": "python",
   "nbconvert_exporter": "python",
   "pygments_lexer": "ipython3",
   "version": "3.11.9"
  },
  "widgets": {
   "application/vnd.jupyter.widget-state+json": {
    "state": {},
    "version_major": 2,
    "version_minor": 0
   }
  }
 },
 "nbformat": 4,
 "nbformat_minor": 4
}
